{
  "nbformat": 4,
  "nbformat_minor": 0,
  "metadata": {
    "kernelspec": {
      "display_name": "Python 3",
      "language": "python",
      "name": "python3"
    },
    "language_info": {
      "codemirror_mode": {
        "name": "ipython",
        "version": 3
      },
      "file_extension": ".py",
      "mimetype": "text/x-python",
      "name": "python",
      "nbconvert_exporter": "python",
      "pygments_lexer": "ipython3",
      "version": "3.7.6"
    },
    "colab": {
      "name": "schott_werner_10930194_week2_exp1-3_V2.ipynb",
      "provenance": [],
      "collapsed_sections": [
        "5QlK3Z_zF4ll",
        "8rYdjDO1EeO7",
        "DRUMZvOOvX9d"
      ],
      "toc_visible": true
    }
  },
  "cells": [
    {
      "cell_type": "markdown",
      "metadata": {
        "id": "R4ucz5fqAv75"
      },
      "source": [
        "# **XG Boost Model including Engineered Features/Dimensional Reduction**"
      ]
    },
    {
      "cell_type": "markdown",
      "metadata": {
        "id": "6URqo04UBOI4"
      },
      "source": [
        "**Business problem:** Train a binary classification model to accurately predict if an NBA rookie player will have a career that will last at least 5 years in the league."
      ]
    },
    {
      "cell_type": "markdown",
      "metadata": {
        "id": "VGuXsrPlDXOv"
      },
      "source": [
        "## **Pre-processing**"
      ]
    },
    {
      "cell_type": "markdown",
      "metadata": {
        "id": "sKPXI2L9zb_p"
      },
      "source": [
        "### **Load Packages**"
      ]
    },
    {
      "cell_type": "code",
      "metadata": {
        "id": "6Npy7mVezb_q"
      },
      "source": [
        "# File management\n",
        "import os\n",
        "\n",
        "# Data/numeric manipulation\n",
        "import pandas as pd\n",
        "import numpy as np\n",
        "\n",
        "# Visualisation\n",
        "import matplotlib.pyplot as plt\n",
        "\n",
        "# Pre-processing\n",
        "from sklearn.model_selection import train_test_split\n",
        "from sklearn.preprocessing import MinMaxScaler\n",
        "\n",
        "# Modelling\n",
        "import pandas as pd\n",
        "from sklearn.metrics import classification_report, confusion_matrix\n",
        "from sklearn.ensemble import GradientBoostingClassifier\n",
        "from xgboost import XGBClassifier\n",
        "from sklearn.metrics import roc_auc_score\n",
        "from xgboost import plot_importance"
      ],
      "execution_count": 1,
      "outputs": []
    },
    {
      "cell_type": "markdown",
      "metadata": {
        "id": "6dxcabip0N0k"
      },
      "source": [
        "### **Load Data**"
      ]
    },
    {
      "cell_type": "code",
      "metadata": {
        "colab": {
          "base_uri": "https://localhost:8080/"
        },
        "id": "334Bxxid2lcM",
        "outputId": "297be03b-fc10-4630-cb2d-dc7bd32e0b3e"
      },
      "source": [
        "# Create data directory\r\n",
        "if not os.path.exists('/content/kaggle'):\r\n",
        "    os.makedirs('/content/kaggle')\r\n",
        "    \r\n",
        "# Create output directory\r\n",
        "if not os.path.exists('/content/output'):\r\n",
        "    os.makedirs('/content/output')\r\n",
        "\r\n",
        "# Download data from Kaggle API, unzip and place in data directory\r\n",
        "os.environ['KAGGLE_USERNAME'] = \"kallikrates\"\r\n",
        "os.environ['KAGGLE_KEY'] = \"6ec6a025503be3d3b75961c4c2ac2748\"\r\n",
        "!kaggle datasets download -d kallikrates/nba-career-prediction-data\r\n",
        "!unzip -q nba-career-prediction-data.zip -d /content/kaggle"
      ],
      "execution_count": 2,
      "outputs": [
        {
          "output_type": "stream",
          "text": [
            "Downloading nba-career-prediction-data.zip to /content\n",
            "\r  0% 0.00/367k [00:00<?, ?B/s]\n",
            "\r100% 367k/367k [00:00<00:00, 49.5MB/s]\n"
          ],
          "name": "stdout"
        }
      ]
    },
    {
      "cell_type": "code",
      "metadata": {
        "id": "mZ0FpTMe6TWN"
      },
      "source": [
        "#Create data objects\r\n",
        "train_data = pd.read_csv('/content/kaggle/train.csv')\r\n",
        "test_data = pd.read_csv('/content/kaggle/test.csv')"
      ],
      "execution_count": 3,
      "outputs": []
    },
    {
      "cell_type": "markdown",
      "metadata": {
        "id": "cFQXTklyKA8k"
      },
      "source": [
        "### **Check Data**"
      ]
    },
    {
      "cell_type": "markdown",
      "metadata": {
        "id": "tJWUpeCIQDSR"
      },
      "source": [
        "#### **View/Summarise Data**"
      ]
    },
    {
      "cell_type": "markdown",
      "metadata": {
        "id": "v_dnAEIwIK1a"
      },
      "source": [
        "Check to ensure all data types look right - i.e. numeric."
      ]
    },
    {
      "cell_type": "code",
      "metadata": {
        "colab": {
          "base_uri": "https://localhost:8080/"
        },
        "id": "kX2Mwdf2H52M",
        "outputId": "f00218cc-ee6a-4e87-b386-55d214bcfca5"
      },
      "source": [
        "train_data.info()"
      ],
      "execution_count": 4,
      "outputs": [
        {
          "output_type": "stream",
          "text": [
            "<class 'pandas.core.frame.DataFrame'>\n",
            "RangeIndex: 8000 entries, 0 to 7999\n",
            "Data columns (total 22 columns):\n",
            " #   Column       Non-Null Count  Dtype  \n",
            "---  ------       --------------  -----  \n",
            " 0   Id_old       8000 non-null   int64  \n",
            " 1   Id           8000 non-null   int64  \n",
            " 2   GP           8000 non-null   int64  \n",
            " 3   MIN          8000 non-null   float64\n",
            " 4   PTS          8000 non-null   float64\n",
            " 5   FGM          8000 non-null   float64\n",
            " 6   FGA          8000 non-null   float64\n",
            " 7   FG%          8000 non-null   float64\n",
            " 8   3P Made      8000 non-null   float64\n",
            " 9   3PA          8000 non-null   float64\n",
            " 10  3P%          8000 non-null   float64\n",
            " 11  FTM          8000 non-null   float64\n",
            " 12  FTA          8000 non-null   float64\n",
            " 13  FT%          8000 non-null   float64\n",
            " 14  OREB         8000 non-null   float64\n",
            " 15  DREB         8000 non-null   float64\n",
            " 16  REB          8000 non-null   float64\n",
            " 17  AST          8000 non-null   float64\n",
            " 18  STL          8000 non-null   float64\n",
            " 19  BLK          8000 non-null   float64\n",
            " 20  TOV          8000 non-null   float64\n",
            " 21  TARGET_5Yrs  8000 non-null   int64  \n",
            "dtypes: float64(18), int64(4)\n",
            "memory usage: 1.3 MB\n"
          ],
          "name": "stdout"
        }
      ]
    },
    {
      "cell_type": "code",
      "metadata": {
        "colab": {
          "base_uri": "https://localhost:8080/"
        },
        "id": "bDSWKeXbIH4C",
        "outputId": "2c01b1ea-9fd5-4433-ea35-f87166fbdd63"
      },
      "source": [
        "test_data.info()"
      ],
      "execution_count": 5,
      "outputs": [
        {
          "output_type": "stream",
          "text": [
            "<class 'pandas.core.frame.DataFrame'>\n",
            "RangeIndex: 3799 entries, 0 to 3798\n",
            "Data columns (total 21 columns):\n",
            " #   Column   Non-Null Count  Dtype  \n",
            "---  ------   --------------  -----  \n",
            " 0   Id_old   3799 non-null   int64  \n",
            " 1   Id       3799 non-null   int64  \n",
            " 2   GP       3799 non-null   int64  \n",
            " 3   MIN      3799 non-null   float64\n",
            " 4   PTS      3799 non-null   float64\n",
            " 5   FGM      3799 non-null   float64\n",
            " 6   FGA      3799 non-null   float64\n",
            " 7   FG%      3799 non-null   float64\n",
            " 8   3P Made  3799 non-null   float64\n",
            " 9   3PA      3799 non-null   float64\n",
            " 10  3P%      3799 non-null   float64\n",
            " 11  FTM      3799 non-null   float64\n",
            " 12  FTA      3799 non-null   float64\n",
            " 13  FT%      3799 non-null   float64\n",
            " 14  OREB     3799 non-null   float64\n",
            " 15  DREB     3799 non-null   float64\n",
            " 16  REB      3799 non-null   float64\n",
            " 17  AST      3799 non-null   float64\n",
            " 18  STL      3799 non-null   float64\n",
            " 19  BLK      3799 non-null   float64\n",
            " 20  TOV      3799 non-null   float64\n",
            "dtypes: float64(18), int64(3)\n",
            "memory usage: 623.4 KB\n"
          ],
          "name": "stdout"
        }
      ]
    },
    {
      "cell_type": "markdown",
      "metadata": {
        "id": "WbzjWrsDIRMB"
      },
      "source": [
        "Check part of the data in raw and summarised form to spot anomalies."
      ]
    },
    {
      "cell_type": "code",
      "metadata": {
        "colab": {
          "base_uri": "https://localhost:8080/",
          "height": 197
        },
        "id": "P5jBtFBWP9wZ",
        "outputId": "bd15e574-f59b-4e36-bcd7-4eca85ea3ecb"
      },
      "source": [
        "train_data.head()"
      ],
      "execution_count": 6,
      "outputs": [
        {
          "output_type": "execute_result",
          "data": {
            "text/html": [
              "<div>\n",
              "<style scoped>\n",
              "    .dataframe tbody tr th:only-of-type {\n",
              "        vertical-align: middle;\n",
              "    }\n",
              "\n",
              "    .dataframe tbody tr th {\n",
              "        vertical-align: top;\n",
              "    }\n",
              "\n",
              "    .dataframe thead th {\n",
              "        text-align: right;\n",
              "    }\n",
              "</style>\n",
              "<table border=\"1\" class=\"dataframe\">\n",
              "  <thead>\n",
              "    <tr style=\"text-align: right;\">\n",
              "      <th></th>\n",
              "      <th>Id_old</th>\n",
              "      <th>Id</th>\n",
              "      <th>GP</th>\n",
              "      <th>MIN</th>\n",
              "      <th>PTS</th>\n",
              "      <th>FGM</th>\n",
              "      <th>FGA</th>\n",
              "      <th>FG%</th>\n",
              "      <th>3P Made</th>\n",
              "      <th>3PA</th>\n",
              "      <th>3P%</th>\n",
              "      <th>FTM</th>\n",
              "      <th>FTA</th>\n",
              "      <th>FT%</th>\n",
              "      <th>OREB</th>\n",
              "      <th>DREB</th>\n",
              "      <th>REB</th>\n",
              "      <th>AST</th>\n",
              "      <th>STL</th>\n",
              "      <th>BLK</th>\n",
              "      <th>TOV</th>\n",
              "      <th>TARGET_5Yrs</th>\n",
              "    </tr>\n",
              "  </thead>\n",
              "  <tbody>\n",
              "    <tr>\n",
              "      <th>0</th>\n",
              "      <td>10556</td>\n",
              "      <td>3799</td>\n",
              "      <td>80</td>\n",
              "      <td>24.3</td>\n",
              "      <td>7.8</td>\n",
              "      <td>3.0</td>\n",
              "      <td>6.4</td>\n",
              "      <td>45.7</td>\n",
              "      <td>0.1</td>\n",
              "      <td>0.3</td>\n",
              "      <td>22.6</td>\n",
              "      <td>2.0</td>\n",
              "      <td>2.9</td>\n",
              "      <td>72.1</td>\n",
              "      <td>2.2</td>\n",
              "      <td>2.0</td>\n",
              "      <td>3.8</td>\n",
              "      <td>3.2</td>\n",
              "      <td>1.1</td>\n",
              "      <td>0.2</td>\n",
              "      <td>1.6</td>\n",
              "      <td>1</td>\n",
              "    </tr>\n",
              "    <tr>\n",
              "      <th>1</th>\n",
              "      <td>5342</td>\n",
              "      <td>3800</td>\n",
              "      <td>75</td>\n",
              "      <td>21.8</td>\n",
              "      <td>10.5</td>\n",
              "      <td>4.2</td>\n",
              "      <td>7.9</td>\n",
              "      <td>55.1</td>\n",
              "      <td>-0.3</td>\n",
              "      <td>-1.0</td>\n",
              "      <td>34.9</td>\n",
              "      <td>2.4</td>\n",
              "      <td>3.6</td>\n",
              "      <td>67.8</td>\n",
              "      <td>3.6</td>\n",
              "      <td>3.7</td>\n",
              "      <td>6.6</td>\n",
              "      <td>0.7</td>\n",
              "      <td>0.5</td>\n",
              "      <td>0.6</td>\n",
              "      <td>1.4</td>\n",
              "      <td>1</td>\n",
              "    </tr>\n",
              "    <tr>\n",
              "      <th>2</th>\n",
              "      <td>5716</td>\n",
              "      <td>3801</td>\n",
              "      <td>85</td>\n",
              "      <td>19.1</td>\n",
              "      <td>4.5</td>\n",
              "      <td>1.9</td>\n",
              "      <td>4.5</td>\n",
              "      <td>42.8</td>\n",
              "      <td>0.4</td>\n",
              "      <td>1.2</td>\n",
              "      <td>34.3</td>\n",
              "      <td>0.4</td>\n",
              "      <td>0.6</td>\n",
              "      <td>75.7</td>\n",
              "      <td>0.6</td>\n",
              "      <td>1.8</td>\n",
              "      <td>2.4</td>\n",
              "      <td>0.8</td>\n",
              "      <td>0.4</td>\n",
              "      <td>0.2</td>\n",
              "      <td>0.6</td>\n",
              "      <td>1</td>\n",
              "    </tr>\n",
              "    <tr>\n",
              "      <th>3</th>\n",
              "      <td>13790</td>\n",
              "      <td>3802</td>\n",
              "      <td>63</td>\n",
              "      <td>19.1</td>\n",
              "      <td>8.2</td>\n",
              "      <td>3.5</td>\n",
              "      <td>6.7</td>\n",
              "      <td>52.5</td>\n",
              "      <td>0.3</td>\n",
              "      <td>0.8</td>\n",
              "      <td>23.7</td>\n",
              "      <td>0.9</td>\n",
              "      <td>1.5</td>\n",
              "      <td>66.9</td>\n",
              "      <td>0.8</td>\n",
              "      <td>2.0</td>\n",
              "      <td>3.0</td>\n",
              "      <td>1.8</td>\n",
              "      <td>0.4</td>\n",
              "      <td>0.1</td>\n",
              "      <td>1.9</td>\n",
              "      <td>1</td>\n",
              "    </tr>\n",
              "    <tr>\n",
              "      <th>4</th>\n",
              "      <td>5470</td>\n",
              "      <td>3803</td>\n",
              "      <td>63</td>\n",
              "      <td>17.8</td>\n",
              "      <td>3.7</td>\n",
              "      <td>1.7</td>\n",
              "      <td>3.4</td>\n",
              "      <td>50.8</td>\n",
              "      <td>0.5</td>\n",
              "      <td>1.4</td>\n",
              "      <td>13.7</td>\n",
              "      <td>0.2</td>\n",
              "      <td>0.5</td>\n",
              "      <td>54.0</td>\n",
              "      <td>2.4</td>\n",
              "      <td>2.7</td>\n",
              "      <td>4.9</td>\n",
              "      <td>0.4</td>\n",
              "      <td>0.4</td>\n",
              "      <td>0.6</td>\n",
              "      <td>0.7</td>\n",
              "      <td>1</td>\n",
              "    </tr>\n",
              "  </tbody>\n",
              "</table>\n",
              "</div>"
            ],
            "text/plain": [
              "   Id_old    Id  GP   MIN   PTS  FGM  ...  REB  AST  STL  BLK  TOV  TARGET_5Yrs\n",
              "0   10556  3799  80  24.3   7.8  3.0  ...  3.8  3.2  1.1  0.2  1.6            1\n",
              "1    5342  3800  75  21.8  10.5  4.2  ...  6.6  0.7  0.5  0.6  1.4            1\n",
              "2    5716  3801  85  19.1   4.5  1.9  ...  2.4  0.8  0.4  0.2  0.6            1\n",
              "3   13790  3802  63  19.1   8.2  3.5  ...  3.0  1.8  0.4  0.1  1.9            1\n",
              "4    5470  3803  63  17.8   3.7  1.7  ...  4.9  0.4  0.4  0.6  0.7            1\n",
              "\n",
              "[5 rows x 22 columns]"
            ]
          },
          "metadata": {
            "tags": []
          },
          "execution_count": 6
        }
      ]
    },
    {
      "cell_type": "code",
      "metadata": {
        "colab": {
          "base_uri": "https://localhost:8080/",
          "height": 197
        },
        "id": "6Kqmb8_H3l89",
        "outputId": "d0569489-8eb8-4a35-b23d-7b9339131816"
      },
      "source": [
        "test_data.head()"
      ],
      "execution_count": 7,
      "outputs": [
        {
          "output_type": "execute_result",
          "data": {
            "text/html": [
              "<div>\n",
              "<style scoped>\n",
              "    .dataframe tbody tr th:only-of-type {\n",
              "        vertical-align: middle;\n",
              "    }\n",
              "\n",
              "    .dataframe tbody tr th {\n",
              "        vertical-align: top;\n",
              "    }\n",
              "\n",
              "    .dataframe thead th {\n",
              "        text-align: right;\n",
              "    }\n",
              "</style>\n",
              "<table border=\"1\" class=\"dataframe\">\n",
              "  <thead>\n",
              "    <tr style=\"text-align: right;\">\n",
              "      <th></th>\n",
              "      <th>Id_old</th>\n",
              "      <th>Id</th>\n",
              "      <th>GP</th>\n",
              "      <th>MIN</th>\n",
              "      <th>PTS</th>\n",
              "      <th>FGM</th>\n",
              "      <th>FGA</th>\n",
              "      <th>FG%</th>\n",
              "      <th>3P Made</th>\n",
              "      <th>3PA</th>\n",
              "      <th>3P%</th>\n",
              "      <th>FTM</th>\n",
              "      <th>FTA</th>\n",
              "      <th>FT%</th>\n",
              "      <th>OREB</th>\n",
              "      <th>DREB</th>\n",
              "      <th>REB</th>\n",
              "      <th>AST</th>\n",
              "      <th>STL</th>\n",
              "      <th>BLK</th>\n",
              "      <th>TOV</th>\n",
              "    </tr>\n",
              "  </thead>\n",
              "  <tbody>\n",
              "    <tr>\n",
              "      <th>0</th>\n",
              "      <td>1</td>\n",
              "      <td>0</td>\n",
              "      <td>56</td>\n",
              "      <td>9.1</td>\n",
              "      <td>4.0</td>\n",
              "      <td>1.6</td>\n",
              "      <td>3.7</td>\n",
              "      <td>43.7</td>\n",
              "      <td>0.1</td>\n",
              "      <td>0.3</td>\n",
              "      <td>7.3</td>\n",
              "      <td>0.7</td>\n",
              "      <td>1.2</td>\n",
              "      <td>63.4</td>\n",
              "      <td>1.2</td>\n",
              "      <td>0.8</td>\n",
              "      <td>1.7</td>\n",
              "      <td>0.4</td>\n",
              "      <td>0.2</td>\n",
              "      <td>0.3</td>\n",
              "      <td>0.8</td>\n",
              "    </tr>\n",
              "    <tr>\n",
              "      <th>1</th>\n",
              "      <td>8194</td>\n",
              "      <td>1</td>\n",
              "      <td>43</td>\n",
              "      <td>19.3</td>\n",
              "      <td>10.1</td>\n",
              "      <td>3.7</td>\n",
              "      <td>8.1</td>\n",
              "      <td>46.0</td>\n",
              "      <td>0.6</td>\n",
              "      <td>1.7</td>\n",
              "      <td>35.1</td>\n",
              "      <td>1.8</td>\n",
              "      <td>2.5</td>\n",
              "      <td>75.3</td>\n",
              "      <td>0.5</td>\n",
              "      <td>0.9</td>\n",
              "      <td>1.5</td>\n",
              "      <td>3.5</td>\n",
              "      <td>0.6</td>\n",
              "      <td>0.0</td>\n",
              "      <td>1.8</td>\n",
              "    </tr>\n",
              "    <tr>\n",
              "      <th>2</th>\n",
              "      <td>3</td>\n",
              "      <td>2</td>\n",
              "      <td>82</td>\n",
              "      <td>33.9</td>\n",
              "      <td>11.3</td>\n",
              "      <td>4.9</td>\n",
              "      <td>10.6</td>\n",
              "      <td>45.6</td>\n",
              "      <td>0.5</td>\n",
              "      <td>1.9</td>\n",
              "      <td>44.8</td>\n",
              "      <td>1.8</td>\n",
              "      <td>2.7</td>\n",
              "      <td>71.2</td>\n",
              "      <td>1.3</td>\n",
              "      <td>3.3</td>\n",
              "      <td>4.5</td>\n",
              "      <td>2.5</td>\n",
              "      <td>1.3</td>\n",
              "      <td>0.3</td>\n",
              "      <td>2.0</td>\n",
              "    </tr>\n",
              "    <tr>\n",
              "      <th>3</th>\n",
              "      <td>8196</td>\n",
              "      <td>3</td>\n",
              "      <td>86</td>\n",
              "      <td>44.7</td>\n",
              "      <td>18.8</td>\n",
              "      <td>6.8</td>\n",
              "      <td>15.9</td>\n",
              "      <td>42.9</td>\n",
              "      <td>0.5</td>\n",
              "      <td>1.8</td>\n",
              "      <td>13.5</td>\n",
              "      <td>4.5</td>\n",
              "      <td>6.3</td>\n",
              "      <td>70.9</td>\n",
              "      <td>1.5</td>\n",
              "      <td>3.2</td>\n",
              "      <td>5.0</td>\n",
              "      <td>4.1</td>\n",
              "      <td>0.9</td>\n",
              "      <td>0.1</td>\n",
              "      <td>3.6</td>\n",
              "    </tr>\n",
              "    <tr>\n",
              "      <th>4</th>\n",
              "      <td>8197</td>\n",
              "      <td>4</td>\n",
              "      <td>58</td>\n",
              "      <td>12.3</td>\n",
              "      <td>4.7</td>\n",
              "      <td>1.6</td>\n",
              "      <td>4.0</td>\n",
              "      <td>40.0</td>\n",
              "      <td>0.5</td>\n",
              "      <td>1.7</td>\n",
              "      <td>38.7</td>\n",
              "      <td>1.1</td>\n",
              "      <td>1.3</td>\n",
              "      <td>76.9</td>\n",
              "      <td>0.2</td>\n",
              "      <td>0.6</td>\n",
              "      <td>0.9</td>\n",
              "      <td>1.5</td>\n",
              "      <td>0.5</td>\n",
              "      <td>-0.4</td>\n",
              "      <td>0.9</td>\n",
              "    </tr>\n",
              "  </tbody>\n",
              "</table>\n",
              "</div>"
            ],
            "text/plain": [
              "   Id_old  Id  GP   MIN   PTS  FGM   FGA  ...  OREB  DREB  REB  AST  STL  BLK  TOV\n",
              "0       1   0  56   9.1   4.0  1.6   3.7  ...   1.2   0.8  1.7  0.4  0.2  0.3  0.8\n",
              "1    8194   1  43  19.3  10.1  3.7   8.1  ...   0.5   0.9  1.5  3.5  0.6  0.0  1.8\n",
              "2       3   2  82  33.9  11.3  4.9  10.6  ...   1.3   3.3  4.5  2.5  1.3  0.3  2.0\n",
              "3    8196   3  86  44.7  18.8  6.8  15.9  ...   1.5   3.2  5.0  4.1  0.9  0.1  3.6\n",
              "4    8197   4  58  12.3   4.7  1.6   4.0  ...   0.2   0.6  0.9  1.5  0.5 -0.4  0.9\n",
              "\n",
              "[5 rows x 21 columns]"
            ]
          },
          "metadata": {
            "tags": []
          },
          "execution_count": 7
        }
      ]
    },
    {
      "cell_type": "code",
      "metadata": {
        "colab": {
          "base_uri": "https://localhost:8080/",
          "height": 307
        },
        "id": "OM6Bz9km3iS1",
        "outputId": "561e9b56-55b8-48cc-ca90-b82705fe030d"
      },
      "source": [
        "train_data.describe()"
      ],
      "execution_count": 8,
      "outputs": [
        {
          "output_type": "execute_result",
          "data": {
            "text/html": [
              "<div>\n",
              "<style scoped>\n",
              "    .dataframe tbody tr th:only-of-type {\n",
              "        vertical-align: middle;\n",
              "    }\n",
              "\n",
              "    .dataframe tbody tr th {\n",
              "        vertical-align: top;\n",
              "    }\n",
              "\n",
              "    .dataframe thead th {\n",
              "        text-align: right;\n",
              "    }\n",
              "</style>\n",
              "<table border=\"1\" class=\"dataframe\">\n",
              "  <thead>\n",
              "    <tr style=\"text-align: right;\">\n",
              "      <th></th>\n",
              "      <th>Id_old</th>\n",
              "      <th>Id</th>\n",
              "      <th>GP</th>\n",
              "      <th>MIN</th>\n",
              "      <th>PTS</th>\n",
              "      <th>FGM</th>\n",
              "      <th>FGA</th>\n",
              "      <th>FG%</th>\n",
              "      <th>3P Made</th>\n",
              "      <th>3PA</th>\n",
              "      <th>3P%</th>\n",
              "      <th>FTM</th>\n",
              "      <th>FTA</th>\n",
              "      <th>FT%</th>\n",
              "      <th>OREB</th>\n",
              "      <th>DREB</th>\n",
              "      <th>REB</th>\n",
              "      <th>AST</th>\n",
              "      <th>STL</th>\n",
              "      <th>BLK</th>\n",
              "      <th>TOV</th>\n",
              "      <th>TARGET_5Yrs</th>\n",
              "    </tr>\n",
              "  </thead>\n",
              "  <tbody>\n",
              "    <tr>\n",
              "      <th>count</th>\n",
              "      <td>8000.000000</td>\n",
              "      <td>8000.00000</td>\n",
              "      <td>8000.000000</td>\n",
              "      <td>8000.000000</td>\n",
              "      <td>8000.000000</td>\n",
              "      <td>8000.000000</td>\n",
              "      <td>8000.000000</td>\n",
              "      <td>8000.000000</td>\n",
              "      <td>8000.000000</td>\n",
              "      <td>8000.000000</td>\n",
              "      <td>8000.000000</td>\n",
              "      <td>8000.000000</td>\n",
              "      <td>8000.000000</td>\n",
              "      <td>8000.000000</td>\n",
              "      <td>8000.000000</td>\n",
              "      <td>8000.000000</td>\n",
              "      <td>8000.000000</td>\n",
              "      <td>8000.000000</td>\n",
              "      <td>8000.000000</td>\n",
              "      <td>8000.000000</td>\n",
              "      <td>8000.000000</td>\n",
              "      <td>8000.000000</td>\n",
              "    </tr>\n",
              "    <tr>\n",
              "      <th>mean</th>\n",
              "      <td>6856.971000</td>\n",
              "      <td>7798.50000</td>\n",
              "      <td>62.777875</td>\n",
              "      <td>18.576663</td>\n",
              "      <td>7.267087</td>\n",
              "      <td>2.807037</td>\n",
              "      <td>6.231213</td>\n",
              "      <td>44.608900</td>\n",
              "      <td>0.264525</td>\n",
              "      <td>0.816563</td>\n",
              "      <td>19.583700</td>\n",
              "      <td>1.392525</td>\n",
              "      <td>1.947787</td>\n",
              "      <td>71.365825</td>\n",
              "      <td>1.077838</td>\n",
              "      <td>2.168500</td>\n",
              "      <td>3.245300</td>\n",
              "      <td>1.624513</td>\n",
              "      <td>0.648688</td>\n",
              "      <td>0.245212</td>\n",
              "      <td>1.257762</td>\n",
              "      <td>0.833625</td>\n",
              "    </tr>\n",
              "    <tr>\n",
              "      <th>std</th>\n",
              "      <td>3977.447579</td>\n",
              "      <td>2309.54541</td>\n",
              "      <td>17.118774</td>\n",
              "      <td>8.935263</td>\n",
              "      <td>4.318732</td>\n",
              "      <td>1.693373</td>\n",
              "      <td>3.584559</td>\n",
              "      <td>6.155453</td>\n",
              "      <td>0.384093</td>\n",
              "      <td>1.060964</td>\n",
              "      <td>16.003155</td>\n",
              "      <td>0.926153</td>\n",
              "      <td>1.252352</td>\n",
              "      <td>10.430447</td>\n",
              "      <td>0.785670</td>\n",
              "      <td>1.392224</td>\n",
              "      <td>2.085154</td>\n",
              "      <td>1.355986</td>\n",
              "      <td>0.407626</td>\n",
              "      <td>0.821037</td>\n",
              "      <td>0.723270</td>\n",
              "      <td>0.372440</td>\n",
              "    </tr>\n",
              "    <tr>\n",
              "      <th>min</th>\n",
              "      <td>4.000000</td>\n",
              "      <td>3799.00000</td>\n",
              "      <td>-8.000000</td>\n",
              "      <td>2.900000</td>\n",
              "      <td>0.800000</td>\n",
              "      <td>0.300000</td>\n",
              "      <td>0.800000</td>\n",
              "      <td>21.300000</td>\n",
              "      <td>-1.100000</td>\n",
              "      <td>-3.100000</td>\n",
              "      <td>-38.500000</td>\n",
              "      <td>0.000000</td>\n",
              "      <td>0.000000</td>\n",
              "      <td>-13.300000</td>\n",
              "      <td>0.000000</td>\n",
              "      <td>0.200000</td>\n",
              "      <td>0.300000</td>\n",
              "      <td>0.000000</td>\n",
              "      <td>0.000000</td>\n",
              "      <td>-17.900000</td>\n",
              "      <td>0.100000</td>\n",
              "      <td>0.000000</td>\n",
              "    </tr>\n",
              "    <tr>\n",
              "      <th>25%</th>\n",
              "      <td>3413.750000</td>\n",
              "      <td>5798.75000</td>\n",
              "      <td>51.000000</td>\n",
              "      <td>12.000000</td>\n",
              "      <td>4.100000</td>\n",
              "      <td>1.600000</td>\n",
              "      <td>3.600000</td>\n",
              "      <td>40.400000</td>\n",
              "      <td>0.000000</td>\n",
              "      <td>0.100000</td>\n",
              "      <td>8.400000</td>\n",
              "      <td>0.700000</td>\n",
              "      <td>1.000000</td>\n",
              "      <td>65.000000</td>\n",
              "      <td>0.500000</td>\n",
              "      <td>1.100000</td>\n",
              "      <td>1.700000</td>\n",
              "      <td>0.700000</td>\n",
              "      <td>0.300000</td>\n",
              "      <td>0.100000</td>\n",
              "      <td>0.700000</td>\n",
              "      <td>1.000000</td>\n",
              "    </tr>\n",
              "    <tr>\n",
              "      <th>50%</th>\n",
              "      <td>6787.500000</td>\n",
              "      <td>7798.50000</td>\n",
              "      <td>63.000000</td>\n",
              "      <td>16.800000</td>\n",
              "      <td>6.300000</td>\n",
              "      <td>2.400000</td>\n",
              "      <td>5.400000</td>\n",
              "      <td>44.400000</td>\n",
              "      <td>0.300000</td>\n",
              "      <td>0.800000</td>\n",
              "      <td>19.500000</td>\n",
              "      <td>1.200000</td>\n",
              "      <td>1.700000</td>\n",
              "      <td>71.400000</td>\n",
              "      <td>0.900000</td>\n",
              "      <td>1.900000</td>\n",
              "      <td>2.800000</td>\n",
              "      <td>1.300000</td>\n",
              "      <td>0.600000</td>\n",
              "      <td>0.200000</td>\n",
              "      <td>1.100000</td>\n",
              "      <td>1.000000</td>\n",
              "    </tr>\n",
              "    <tr>\n",
              "      <th>75%</th>\n",
              "      <td>10299.250000</td>\n",
              "      <td>9798.25000</td>\n",
              "      <td>74.000000</td>\n",
              "      <td>23.500000</td>\n",
              "      <td>9.500000</td>\n",
              "      <td>3.700000</td>\n",
              "      <td>8.100000</td>\n",
              "      <td>48.700000</td>\n",
              "      <td>0.500000</td>\n",
              "      <td>1.500000</td>\n",
              "      <td>30.600000</td>\n",
              "      <td>1.900000</td>\n",
              "      <td>2.600000</td>\n",
              "      <td>77.500000</td>\n",
              "      <td>1.500000</td>\n",
              "      <td>2.900000</td>\n",
              "      <td>4.300000</td>\n",
              "      <td>2.200000</td>\n",
              "      <td>0.900000</td>\n",
              "      <td>0.400000</td>\n",
              "      <td>1.600000</td>\n",
              "      <td>1.000000</td>\n",
              "    </tr>\n",
              "    <tr>\n",
              "      <th>max</th>\n",
              "      <td>13798.000000</td>\n",
              "      <td>11798.00000</td>\n",
              "      <td>123.000000</td>\n",
              "      <td>73.800000</td>\n",
              "      <td>34.200000</td>\n",
              "      <td>13.100000</td>\n",
              "      <td>28.900000</td>\n",
              "      <td>67.200000</td>\n",
              "      <td>1.700000</td>\n",
              "      <td>4.700000</td>\n",
              "      <td>82.100000</td>\n",
              "      <td>8.100000</td>\n",
              "      <td>11.100000</td>\n",
              "      <td>168.900000</td>\n",
              "      <td>5.500000</td>\n",
              "      <td>11.000000</td>\n",
              "      <td>15.900000</td>\n",
              "      <td>12.800000</td>\n",
              "      <td>3.600000</td>\n",
              "      <td>18.900000</td>\n",
              "      <td>5.300000</td>\n",
              "      <td>1.000000</td>\n",
              "    </tr>\n",
              "  </tbody>\n",
              "</table>\n",
              "</div>"
            ],
            "text/plain": [
              "             Id_old           Id  ...          TOV  TARGET_5Yrs\n",
              "count   8000.000000   8000.00000  ...  8000.000000  8000.000000\n",
              "mean    6856.971000   7798.50000  ...     1.257762     0.833625\n",
              "std     3977.447579   2309.54541  ...     0.723270     0.372440\n",
              "min        4.000000   3799.00000  ...     0.100000     0.000000\n",
              "25%     3413.750000   5798.75000  ...     0.700000     1.000000\n",
              "50%     6787.500000   7798.50000  ...     1.100000     1.000000\n",
              "75%    10299.250000   9798.25000  ...     1.600000     1.000000\n",
              "max    13798.000000  11798.00000  ...     5.300000     1.000000\n",
              "\n",
              "[8 rows x 22 columns]"
            ]
          },
          "metadata": {
            "tags": []
          },
          "execution_count": 8
        }
      ]
    },
    {
      "cell_type": "code",
      "metadata": {
        "colab": {
          "base_uri": "https://localhost:8080/",
          "height": 307
        },
        "id": "t-ARrn6v3v_p",
        "outputId": "feff0957-9325-47a6-9c88-04d5add23f09"
      },
      "source": [
        "test_data.describe()"
      ],
      "execution_count": 9,
      "outputs": [
        {
          "output_type": "execute_result",
          "data": {
            "text/html": [
              "<div>\n",
              "<style scoped>\n",
              "    .dataframe tbody tr th:only-of-type {\n",
              "        vertical-align: middle;\n",
              "    }\n",
              "\n",
              "    .dataframe tbody tr th {\n",
              "        vertical-align: top;\n",
              "    }\n",
              "\n",
              "    .dataframe thead th {\n",
              "        text-align: right;\n",
              "    }\n",
              "</style>\n",
              "<table border=\"1\" class=\"dataframe\">\n",
              "  <thead>\n",
              "    <tr style=\"text-align: right;\">\n",
              "      <th></th>\n",
              "      <th>Id_old</th>\n",
              "      <th>Id</th>\n",
              "      <th>GP</th>\n",
              "      <th>MIN</th>\n",
              "      <th>PTS</th>\n",
              "      <th>FGM</th>\n",
              "      <th>FGA</th>\n",
              "      <th>FG%</th>\n",
              "      <th>3P Made</th>\n",
              "      <th>3PA</th>\n",
              "      <th>3P%</th>\n",
              "      <th>FTM</th>\n",
              "      <th>FTA</th>\n",
              "      <th>FT%</th>\n",
              "      <th>OREB</th>\n",
              "      <th>DREB</th>\n",
              "      <th>REB</th>\n",
              "      <th>AST</th>\n",
              "      <th>STL</th>\n",
              "      <th>BLK</th>\n",
              "      <th>TOV</th>\n",
              "    </tr>\n",
              "  </thead>\n",
              "  <tbody>\n",
              "    <tr>\n",
              "      <th>count</th>\n",
              "      <td>3799.000000</td>\n",
              "      <td>3799.000000</td>\n",
              "      <td>3799.000000</td>\n",
              "      <td>3799.000000</td>\n",
              "      <td>3799.000000</td>\n",
              "      <td>3799.000000</td>\n",
              "      <td>3799.000000</td>\n",
              "      <td>3799.000000</td>\n",
              "      <td>3799.000000</td>\n",
              "      <td>3799.000000</td>\n",
              "      <td>3799.000000</td>\n",
              "      <td>3799.000000</td>\n",
              "      <td>3799.000000</td>\n",
              "      <td>3799.000000</td>\n",
              "      <td>3799.000000</td>\n",
              "      <td>3799.000000</td>\n",
              "      <td>3799.000000</td>\n",
              "      <td>3799.000000</td>\n",
              "      <td>3799.000000</td>\n",
              "      <td>3799.000000</td>\n",
              "      <td>3799.000000</td>\n",
              "    </tr>\n",
              "    <tr>\n",
              "      <th>mean</th>\n",
              "      <td>7010.614109</td>\n",
              "      <td>1899.000000</td>\n",
              "      <td>62.853909</td>\n",
              "      <td>18.650224</td>\n",
              "      <td>7.328034</td>\n",
              "      <td>2.835404</td>\n",
              "      <td>6.302580</td>\n",
              "      <td>44.599079</td>\n",
              "      <td>0.255962</td>\n",
              "      <td>0.796920</td>\n",
              "      <td>19.234746</td>\n",
              "      <td>1.399842</td>\n",
              "      <td>1.953567</td>\n",
              "      <td>71.612924</td>\n",
              "      <td>1.096025</td>\n",
              "      <td>2.179495</td>\n",
              "      <td>3.275783</td>\n",
              "      <td>1.636483</td>\n",
              "      <td>0.653593</td>\n",
              "      <td>0.257726</td>\n",
              "      <td>1.257910</td>\n",
              "    </tr>\n",
              "    <tr>\n",
              "      <th>std</th>\n",
              "      <td>3954.173641</td>\n",
              "      <td>1096.821164</td>\n",
              "      <td>17.151740</td>\n",
              "      <td>8.727259</td>\n",
              "      <td>4.294724</td>\n",
              "      <td>1.688427</td>\n",
              "      <td>3.579221</td>\n",
              "      <td>6.040168</td>\n",
              "      <td>0.380987</td>\n",
              "      <td>1.052862</td>\n",
              "      <td>15.968989</td>\n",
              "      <td>0.926140</td>\n",
              "      <td>1.250376</td>\n",
              "      <td>10.457336</td>\n",
              "      <td>0.785678</td>\n",
              "      <td>1.371935</td>\n",
              "      <td>2.070646</td>\n",
              "      <td>1.335496</td>\n",
              "      <td>0.410573</td>\n",
              "      <td>0.639660</td>\n",
              "      <td>0.712449</td>\n",
              "    </tr>\n",
              "    <tr>\n",
              "      <th>min</th>\n",
              "      <td>1.000000</td>\n",
              "      <td>0.000000</td>\n",
              "      <td>6.000000</td>\n",
              "      <td>3.700000</td>\n",
              "      <td>0.700000</td>\n",
              "      <td>0.300000</td>\n",
              "      <td>0.800000</td>\n",
              "      <td>25.100000</td>\n",
              "      <td>-1.000000</td>\n",
              "      <td>-2.700000</td>\n",
              "      <td>-38.000000</td>\n",
              "      <td>0.000000</td>\n",
              "      <td>0.000000</td>\n",
              "      <td>23.700000</td>\n",
              "      <td>0.000000</td>\n",
              "      <td>0.200000</td>\n",
              "      <td>0.300000</td>\n",
              "      <td>0.000000</td>\n",
              "      <td>0.000000</td>\n",
              "      <td>-7.100000</td>\n",
              "      <td>0.100000</td>\n",
              "    </tr>\n",
              "    <tr>\n",
              "      <th>25%</th>\n",
              "      <td>3644.000000</td>\n",
              "      <td>949.500000</td>\n",
              "      <td>51.000000</td>\n",
              "      <td>12.200000</td>\n",
              "      <td>4.200000</td>\n",
              "      <td>1.600000</td>\n",
              "      <td>3.700000</td>\n",
              "      <td>40.500000</td>\n",
              "      <td>0.000000</td>\n",
              "      <td>0.100000</td>\n",
              "      <td>8.500000</td>\n",
              "      <td>0.700000</td>\n",
              "      <td>1.000000</td>\n",
              "      <td>65.000000</td>\n",
              "      <td>0.500000</td>\n",
              "      <td>1.200000</td>\n",
              "      <td>1.800000</td>\n",
              "      <td>0.600000</td>\n",
              "      <td>0.400000</td>\n",
              "      <td>0.100000</td>\n",
              "      <td>0.700000</td>\n",
              "    </tr>\n",
              "    <tr>\n",
              "      <th>50%</th>\n",
              "      <td>7062.000000</td>\n",
              "      <td>1899.000000</td>\n",
              "      <td>63.000000</td>\n",
              "      <td>17.000000</td>\n",
              "      <td>6.400000</td>\n",
              "      <td>2.500000</td>\n",
              "      <td>5.500000</td>\n",
              "      <td>44.600000</td>\n",
              "      <td>0.300000</td>\n",
              "      <td>0.800000</td>\n",
              "      <td>19.400000</td>\n",
              "      <td>1.200000</td>\n",
              "      <td>1.700000</td>\n",
              "      <td>71.500000</td>\n",
              "      <td>0.900000</td>\n",
              "      <td>1.900000</td>\n",
              "      <td>2.800000</td>\n",
              "      <td>1.300000</td>\n",
              "      <td>0.600000</td>\n",
              "      <td>0.200000</td>\n",
              "      <td>1.100000</td>\n",
              "    </tr>\n",
              "    <tr>\n",
              "      <th>75%</th>\n",
              "      <td>10402.500000</td>\n",
              "      <td>2848.500000</td>\n",
              "      <td>74.000000</td>\n",
              "      <td>23.300000</td>\n",
              "      <td>9.400000</td>\n",
              "      <td>3.700000</td>\n",
              "      <td>8.100000</td>\n",
              "      <td>48.500000</td>\n",
              "      <td>0.500000</td>\n",
              "      <td>1.500000</td>\n",
              "      <td>30.250000</td>\n",
              "      <td>1.900000</td>\n",
              "      <td>2.600000</td>\n",
              "      <td>78.000000</td>\n",
              "      <td>1.500000</td>\n",
              "      <td>2.900000</td>\n",
              "      <td>4.300000</td>\n",
              "      <td>2.300000</td>\n",
              "      <td>0.900000</td>\n",
              "      <td>0.400000</td>\n",
              "      <td>1.600000</td>\n",
              "    </tr>\n",
              "    <tr>\n",
              "      <th>max</th>\n",
              "      <td>13792.000000</td>\n",
              "      <td>3798.000000</td>\n",
              "      <td>126.000000</td>\n",
              "      <td>68.000000</td>\n",
              "      <td>33.000000</td>\n",
              "      <td>13.400000</td>\n",
              "      <td>26.200000</td>\n",
              "      <td>74.600000</td>\n",
              "      <td>1.600000</td>\n",
              "      <td>4.300000</td>\n",
              "      <td>73.800000</td>\n",
              "      <td>7.800000</td>\n",
              "      <td>9.800000</td>\n",
              "      <td>127.100000</td>\n",
              "      <td>6.900000</td>\n",
              "      <td>12.000000</td>\n",
              "      <td>18.500000</td>\n",
              "      <td>9.000000</td>\n",
              "      <td>2.700000</td>\n",
              "      <td>14.800000</td>\n",
              "      <td>5.200000</td>\n",
              "    </tr>\n",
              "  </tbody>\n",
              "</table>\n",
              "</div>"
            ],
            "text/plain": [
              "             Id_old           Id  ...          BLK          TOV\n",
              "count   3799.000000  3799.000000  ...  3799.000000  3799.000000\n",
              "mean    7010.614109  1899.000000  ...     0.257726     1.257910\n",
              "std     3954.173641  1096.821164  ...     0.639660     0.712449\n",
              "min        1.000000     0.000000  ...    -7.100000     0.100000\n",
              "25%     3644.000000   949.500000  ...     0.100000     0.700000\n",
              "50%     7062.000000  1899.000000  ...     0.200000     1.100000\n",
              "75%    10402.500000  2848.500000  ...     0.400000     1.600000\n",
              "max    13792.000000  3798.000000  ...    14.800000     5.200000\n",
              "\n",
              "[8 rows x 21 columns]"
            ]
          },
          "metadata": {
            "tags": []
          },
          "execution_count": 9
        }
      ]
    },
    {
      "cell_type": "markdown",
      "metadata": {
        "id": "8D21_BigMeSi"
      },
      "source": [
        "#### **Check for Whitespace in Column Names**"
      ]
    },
    {
      "cell_type": "markdown",
      "metadata": {
        "id": "fasBvP4vIfRT"
      },
      "source": [
        "Check for whitespaces in column names and replace with '_' where they exist. Helps with drawing trees and other visualisations."
      ]
    },
    {
      "cell_type": "code",
      "metadata": {
        "id": "4q9V0hahMHag"
      },
      "source": [
        "train_data.columns = train_data.columns.str.replace(' ','_')\r\n",
        "test_data.columns = test_data.columns.str.replace(' ','_')"
      ],
      "execution_count": 10,
      "outputs": []
    },
    {
      "cell_type": "markdown",
      "metadata": {
        "id": "rWPl5ap-LNOu"
      },
      "source": [
        "#### **Check for Missing Values**"
      ]
    },
    {
      "cell_type": "markdown",
      "metadata": {
        "id": "MP6HNWh7LNO2"
      },
      "source": [
        "Check for missing values and replace with 0 where they are found."
      ]
    },
    {
      "cell_type": "code",
      "metadata": {
        "colab": {
          "base_uri": "https://localhost:8080/"
        },
        "id": "ZV5uW6NOLNO2",
        "outputId": "7ff9cb41-479f-42af-aeab-f461b2d89c29"
      },
      "source": [
        "# Check for NULL values in train data\r\n",
        "train_data.isnull().sum()"
      ],
      "execution_count": 11,
      "outputs": [
        {
          "output_type": "execute_result",
          "data": {
            "text/plain": [
              "Id_old         0\n",
              "Id             0\n",
              "GP             0\n",
              "MIN            0\n",
              "PTS            0\n",
              "FGM            0\n",
              "FGA            0\n",
              "FG%            0\n",
              "3P_Made        0\n",
              "3PA            0\n",
              "3P%            0\n",
              "FTM            0\n",
              "FTA            0\n",
              "FT%            0\n",
              "OREB           0\n",
              "DREB           0\n",
              "REB            0\n",
              "AST            0\n",
              "STL            0\n",
              "BLK            0\n",
              "TOV            0\n",
              "TARGET_5Yrs    0\n",
              "dtype: int64"
            ]
          },
          "metadata": {
            "tags": []
          },
          "execution_count": 11
        }
      ]
    },
    {
      "cell_type": "code",
      "metadata": {
        "colab": {
          "base_uri": "https://localhost:8080/"
        },
        "id": "W4CaKAjWKA8o",
        "outputId": "8ded4e59-f69b-47f1-eda7-72e68908b7d1"
      },
      "source": [
        "# Check for NULL values in test data\r\n",
        "test_data.isnull().sum()"
      ],
      "execution_count": 12,
      "outputs": [
        {
          "output_type": "execute_result",
          "data": {
            "text/plain": [
              "Id_old     0\n",
              "Id         0\n",
              "GP         0\n",
              "MIN        0\n",
              "PTS        0\n",
              "FGM        0\n",
              "FGA        0\n",
              "FG%        0\n",
              "3P_Made    0\n",
              "3PA        0\n",
              "3P%        0\n",
              "FTM        0\n",
              "FTA        0\n",
              "FT%        0\n",
              "OREB       0\n",
              "DREB       0\n",
              "REB        0\n",
              "AST        0\n",
              "STL        0\n",
              "BLK        0\n",
              "TOV        0\n",
              "dtype: int64"
            ]
          },
          "metadata": {
            "tags": []
          },
          "execution_count": 12
        }
      ]
    },
    {
      "cell_type": "markdown",
      "metadata": {
        "id": "W9HBn5t_RMit"
      },
      "source": [
        "#### **Target Variable Balance Check**"
      ]
    },
    {
      "cell_type": "markdown",
      "metadata": {
        "id": "8-hITH1OBycL"
      },
      "source": [
        "Check distribution of target variable. It appears unbalanced, but within the context (NBA players still in the league), reasonable. I will not treat it as an issue at this point."
      ]
    },
    {
      "cell_type": "code",
      "metadata": {
        "colab": {
          "base_uri": "https://localhost:8080/",
          "height": 211
        },
        "id": "NGUtuhwiQlMs",
        "outputId": "b84c28e1-1ba5-4079-9b67-c1595186156a"
      },
      "source": [
        "# Check distribution balance of target variable\r\n",
        "y = train_data.TARGET_5Yrs.value_counts()\r\n",
        "fig= plt.figure(figsize=(10,3))\r\n",
        "train_data.TARGET_5Yrs.value_counts().plot(kind='barh')\r\n",
        "for index, value in enumerate(y):\r\n",
        "    plt.text(value, index, str(value))\r\n",
        "plt.show()"
      ],
      "execution_count": 13,
      "outputs": [
        {
          "output_type": "display_data",
          "data": {
            "image/png": "[encoded data removed]",
            "text/plain": [
              "<Figure size 720x216 with 1 Axes>"
            ]
          },
          "metadata": {
            "tags": [],
            "needs_background": "light"
          }
        }
      ]
    },
    {
      "cell_type": "markdown",
      "metadata": {
        "id": "aEj_CXoCt5oc"
      },
      "source": [
        "### **Variable Correlation**"
      ]
    },
    {
      "cell_type": "code",
      "metadata": {
        "colab": {
          "base_uri": "https://localhost:8080/",
          "height": 426
        },
        "id": "W1RPE6met2hh",
        "outputId": "f4c415c9-c491-4402-8702-00f5b028eec5"
      },
      "source": [
        "pearson_corr = train_data.corr(method ='pearson')\r\n",
        "pearson_corr.style.background_gradient(cmap='coolwarm', axis=None)"
      ],
      "execution_count": 14,
      "outputs": [
        {
          "output_type": "execute_result",
          "data": {
            "text/html": [
              "<style  type=\"text/css\" >\n",
              "#T_4379f3ba_6e84_11eb_ad78_0242ac1c0002row0_col0,#T_4379f3ba_6e84_11eb_ad78_0242ac1c0002row1_col1,#T_4379f3ba_6e84_11eb_ad78_0242ac1c0002row2_col2,#T_4379f3ba_6e84_11eb_ad78_0242ac1c0002row3_col3,#T_4379f3ba_6e84_11eb_ad78_0242ac1c0002row4_col4,#T_4379f3ba_6e84_11eb_ad78_0242ac1c0002row5_col5,#T_4379f3ba_6e84_11eb_ad78_0242ac1c0002row6_col6,#T_4379f3ba_6e84_11eb_ad78_0242ac1c0002row7_col7,#T_4379f3ba_6e84_11eb_ad78_0242ac1c0002row8_col8,#T_4379f3ba_6e84_11eb_ad78_0242ac1c0002row9_col9,#T_4379f3ba_6e84_11eb_ad78_0242ac1c0002row10_col10,#T_4379f3ba_6e84_11eb_ad78_0242ac1c0002row11_col11,#T_4379f3ba_6e84_11eb_ad78_0242ac1c0002row12_col12,#T_4379f3ba_6e84_11eb_ad78_0242ac1c0002row13_col13,#T_4379f3ba_6e84_11eb_ad78_0242ac1c0002row14_col14,#T_4379f3ba_6e84_11eb_ad78_0242ac1c0002row15_col15,#T_4379f3ba_6e84_11eb_ad78_0242ac1c0002row16_col16,#T_4379f3ba_6e84_11eb_ad78_0242ac1c0002row17_col17,#T_4379f3ba_6e84_11eb_ad78_0242ac1c0002row18_col18,#T_4379f3ba_6e84_11eb_ad78_0242ac1c0002row19_col19,#T_4379f3ba_6e84_11eb_ad78_0242ac1c0002row20_col20,#T_4379f3ba_6e84_11eb_ad78_0242ac1c0002row21_col21{\n",
              "            background-color:  #b40426;\n",
              "            color:  #f1f1f1;\n",
              "        }#T_4379f3ba_6e84_11eb_ad78_0242ac1c0002row0_col1,#T_4379f3ba_6e84_11eb_ad78_0242ac1c0002row1_col0,#T_4379f3ba_6e84_11eb_ad78_0242ac1c0002row1_col8,#T_4379f3ba_6e84_11eb_ad78_0242ac1c0002row8_col1,#T_4379f3ba_6e84_11eb_ad78_0242ac1c0002row10_col21,#T_4379f3ba_6e84_11eb_ad78_0242ac1c0002row21_col10{\n",
              "            background-color:  #89acfd;\n",
              "            color:  #000000;\n",
              "        }#T_4379f3ba_6e84_11eb_ad78_0242ac1c0002row0_col2,#T_4379f3ba_6e84_11eb_ad78_0242ac1c0002row2_col0{\n",
              "            background-color:  #94b6ff;\n",
              "            color:  #000000;\n",
              "        }#T_4379f3ba_6e84_11eb_ad78_0242ac1c0002row0_col3,#T_4379f3ba_6e84_11eb_ad78_0242ac1c0002row0_col4,#T_4379f3ba_6e84_11eb_ad78_0242ac1c0002row0_col5,#T_4379f3ba_6e84_11eb_ad78_0242ac1c0002row0_col6,#T_4379f3ba_6e84_11eb_ad78_0242ac1c0002row3_col0,#T_4379f3ba_6e84_11eb_ad78_0242ac1c0002row4_col0,#T_4379f3ba_6e84_11eb_ad78_0242ac1c0002row5_col0,#T_4379f3ba_6e84_11eb_ad78_0242ac1c0002row6_col0{\n",
              "            background-color:  #93b5fe;\n",
              "            color:  #000000;\n",
              "        }#T_4379f3ba_6e84_11eb_ad78_0242ac1c0002row0_col7,#T_4379f3ba_6e84_11eb_ad78_0242ac1c0002row0_col8,#T_4379f3ba_6e84_11eb_ad78_0242ac1c0002row0_col9,#T_4379f3ba_6e84_11eb_ad78_0242ac1c0002row0_col18,#T_4379f3ba_6e84_11eb_ad78_0242ac1c0002row0_col19,#T_4379f3ba_6e84_11eb_ad78_0242ac1c0002row1_col7,#T_4379f3ba_6e84_11eb_ad78_0242ac1c0002row1_col11,#T_4379f3ba_6e84_11eb_ad78_0242ac1c0002row1_col12,#T_4379f3ba_6e84_11eb_ad78_0242ac1c0002row1_col17,#T_4379f3ba_6e84_11eb_ad78_0242ac1c0002row7_col0,#T_4379f3ba_6e84_11eb_ad78_0242ac1c0002row7_col1,#T_4379f3ba_6e84_11eb_ad78_0242ac1c0002row8_col0,#T_4379f3ba_6e84_11eb_ad78_0242ac1c0002row9_col0,#T_4379f3ba_6e84_11eb_ad78_0242ac1c0002row11_col1,#T_4379f3ba_6e84_11eb_ad78_0242ac1c0002row12_col1,#T_4379f3ba_6e84_11eb_ad78_0242ac1c0002row17_col1,#T_4379f3ba_6e84_11eb_ad78_0242ac1c0002row18_col0,#T_4379f3ba_6e84_11eb_ad78_0242ac1c0002row19_col0{\n",
              "            background-color:  #8fb1fe;\n",
              "            color:  #000000;\n",
              "        }#T_4379f3ba_6e84_11eb_ad78_0242ac1c0002row0_col10,#T_4379f3ba_6e84_11eb_ad78_0242ac1c0002row1_col9,#T_4379f3ba_6e84_11eb_ad78_0242ac1c0002row1_col13,#T_4379f3ba_6e84_11eb_ad78_0242ac1c0002row1_col14,#T_4379f3ba_6e84_11eb_ad78_0242ac1c0002row1_col15,#T_4379f3ba_6e84_11eb_ad78_0242ac1c0002row1_col16,#T_4379f3ba_6e84_11eb_ad78_0242ac1c0002row1_col19,#T_4379f3ba_6e84_11eb_ad78_0242ac1c0002row9_col1,#T_4379f3ba_6e84_11eb_ad78_0242ac1c0002row10_col0,#T_4379f3ba_6e84_11eb_ad78_0242ac1c0002row13_col1,#T_4379f3ba_6e84_11eb_ad78_0242ac1c0002row14_col1,#T_4379f3ba_6e84_11eb_ad78_0242ac1c0002row15_col1,#T_4379f3ba_6e84_11eb_ad78_0242ac1c0002row16_col1,#T_4379f3ba_6e84_11eb_ad78_0242ac1c0002row19_col1{\n",
              "            background-color:  #8badfd;\n",
              "            color:  #000000;\n",
              "        }#T_4379f3ba_6e84_11eb_ad78_0242ac1c0002row0_col11,#T_4379f3ba_6e84_11eb_ad78_0242ac1c0002row0_col13,#T_4379f3ba_6e84_11eb_ad78_0242ac1c0002row0_col15,#T_4379f3ba_6e84_11eb_ad78_0242ac1c0002row0_col16,#T_4379f3ba_6e84_11eb_ad78_0242ac1c0002row0_col17,#T_4379f3ba_6e84_11eb_ad78_0242ac1c0002row0_col20,#T_4379f3ba_6e84_11eb_ad78_0242ac1c0002row0_col21,#T_4379f3ba_6e84_11eb_ad78_0242ac1c0002row11_col0,#T_4379f3ba_6e84_11eb_ad78_0242ac1c0002row13_col0,#T_4379f3ba_6e84_11eb_ad78_0242ac1c0002row15_col0,#T_4379f3ba_6e84_11eb_ad78_0242ac1c0002row16_col0,#T_4379f3ba_6e84_11eb_ad78_0242ac1c0002row17_col0,#T_4379f3ba_6e84_11eb_ad78_0242ac1c0002row20_col0,#T_4379f3ba_6e84_11eb_ad78_0242ac1c0002row21_col0{\n",
              "            background-color:  #92b4fe;\n",
              "            color:  #000000;\n",
              "        }#T_4379f3ba_6e84_11eb_ad78_0242ac1c0002row0_col12,#T_4379f3ba_6e84_11eb_ad78_0242ac1c0002row0_col14,#T_4379f3ba_6e84_11eb_ad78_0242ac1c0002row1_col18,#T_4379f3ba_6e84_11eb_ad78_0242ac1c0002row1_col20,#T_4379f3ba_6e84_11eb_ad78_0242ac1c0002row8_col21,#T_4379f3ba_6e84_11eb_ad78_0242ac1c0002row10_col11,#T_4379f3ba_6e84_11eb_ad78_0242ac1c0002row11_col10,#T_4379f3ba_6e84_11eb_ad78_0242ac1c0002row12_col0,#T_4379f3ba_6e84_11eb_ad78_0242ac1c0002row14_col0,#T_4379f3ba_6e84_11eb_ad78_0242ac1c0002row18_col1,#T_4379f3ba_6e84_11eb_ad78_0242ac1c0002row20_col1,#T_4379f3ba_6e84_11eb_ad78_0242ac1c0002row21_col8{\n",
              "            background-color:  #90b2fe;\n",
              "            color:  #000000;\n",
              "        }#T_4379f3ba_6e84_11eb_ad78_0242ac1c0002row1_col2,#T_4379f3ba_6e84_11eb_ad78_0242ac1c0002row1_col4,#T_4379f3ba_6e84_11eb_ad78_0242ac1c0002row1_col21,#T_4379f3ba_6e84_11eb_ad78_0242ac1c0002row2_col1,#T_4379f3ba_6e84_11eb_ad78_0242ac1c0002row4_col1,#T_4379f3ba_6e84_11eb_ad78_0242ac1c0002row9_col21,#T_4379f3ba_6e84_11eb_ad78_0242ac1c0002row21_col1,#T_4379f3ba_6e84_11eb_ad78_0242ac1c0002row21_col9{\n",
              "            background-color:  #8db0fe;\n",
              "            color:  #000000;\n",
              "        }#T_4379f3ba_6e84_11eb_ad78_0242ac1c0002row1_col3,#T_4379f3ba_6e84_11eb_ad78_0242ac1c0002row1_col5,#T_4379f3ba_6e84_11eb_ad78_0242ac1c0002row1_col6,#T_4379f3ba_6e84_11eb_ad78_0242ac1c0002row1_col10,#T_4379f3ba_6e84_11eb_ad78_0242ac1c0002row3_col1,#T_4379f3ba_6e84_11eb_ad78_0242ac1c0002row5_col1,#T_4379f3ba_6e84_11eb_ad78_0242ac1c0002row6_col1,#T_4379f3ba_6e84_11eb_ad78_0242ac1c0002row10_col1,#T_4379f3ba_6e84_11eb_ad78_0242ac1c0002row14_col17,#T_4379f3ba_6e84_11eb_ad78_0242ac1c0002row17_col14{\n",
              "            background-color:  #8caffe;\n",
              "            color:  #000000;\n",
              "        }#T_4379f3ba_6e84_11eb_ad78_0242ac1c0002row2_col3,#T_4379f3ba_6e84_11eb_ad78_0242ac1c0002row3_col2,#T_4379f3ba_6e84_11eb_ad78_0242ac1c0002row6_col16,#T_4379f3ba_6e84_11eb_ad78_0242ac1c0002row16_col6{\n",
              "            background-color:  #f7aa8c;\n",
              "            color:  #000000;\n",
              "        }#T_4379f3ba_6e84_11eb_ad78_0242ac1c0002row2_col4,#T_4379f3ba_6e84_11eb_ad78_0242ac1c0002row2_col5,#T_4379f3ba_6e84_11eb_ad78_0242ac1c0002row4_col2,#T_4379f3ba_6e84_11eb_ad78_0242ac1c0002row4_col17,#T_4379f3ba_6e84_11eb_ad78_0242ac1c0002row5_col2,#T_4379f3ba_6e84_11eb_ad78_0242ac1c0002row9_col10,#T_4379f3ba_6e84_11eb_ad78_0242ac1c0002row10_col9,#T_4379f3ba_6e84_11eb_ad78_0242ac1c0002row17_col4{\n",
              "            background-color:  #f7b396;\n",
              "            color:  #000000;\n",
              "        }#T_4379f3ba_6e84_11eb_ad78_0242ac1c0002row2_col6,#T_4379f3ba_6e84_11eb_ad78_0242ac1c0002row6_col2{\n",
              "            background-color:  #f7b89c;\n",
              "            color:  #000000;\n",
              "        }#T_4379f3ba_6e84_11eb_ad78_0242ac1c0002row2_col7,#T_4379f3ba_6e84_11eb_ad78_0242ac1c0002row7_col2,#T_4379f3ba_6e84_11eb_ad78_0242ac1c0002row7_col11,#T_4379f3ba_6e84_11eb_ad78_0242ac1c0002row11_col7{\n",
              "            background-color:  #d2dbe8;\n",
              "            color:  #000000;\n",
              "        }#T_4379f3ba_6e84_11eb_ad78_0242ac1c0002row2_col8,#T_4379f3ba_6e84_11eb_ad78_0242ac1c0002row5_col10,#T_4379f3ba_6e84_11eb_ad78_0242ac1c0002row8_col2,#T_4379f3ba_6e84_11eb_ad78_0242ac1c0002row10_col5{\n",
              "            background-color:  #adc9fd;\n",
              "            color:  #000000;\n",
              "        }#T_4379f3ba_6e84_11eb_ad78_0242ac1c0002row2_col9,#T_4379f3ba_6e84_11eb_ad78_0242ac1c0002row9_col2{\n",
              "            background-color:  #abc8fd;\n",
              "            color:  #000000;\n",
              "        }#T_4379f3ba_6e84_11eb_ad78_0242ac1c0002row2_col10,#T_4379f3ba_6e84_11eb_ad78_0242ac1c0002row10_col2{\n",
              "            background-color:  #98b9ff;\n",
              "            color:  #000000;\n",
              "        }#T_4379f3ba_6e84_11eb_ad78_0242ac1c0002row2_col11,#T_4379f3ba_6e84_11eb_ad78_0242ac1c0002row11_col2{\n",
              "            background-color:  #f6bfa6;\n",
              "            color:  #000000;\n",
              "        }#T_4379f3ba_6e84_11eb_ad78_0242ac1c0002row2_col12,#T_4379f3ba_6e84_11eb_ad78_0242ac1c0002row12_col2{\n",
              "            background-color:  #f5c0a7;\n",
              "            color:  #000000;\n",
              "        }#T_4379f3ba_6e84_11eb_ad78_0242ac1c0002row2_col13,#T_4379f3ba_6e84_11eb_ad78_0242ac1c0002row3_col10,#T_4379f3ba_6e84_11eb_ad78_0242ac1c0002row4_col10,#T_4379f3ba_6e84_11eb_ad78_0242ac1c0002row10_col3,#T_4379f3ba_6e84_11eb_ad78_0242ac1c0002row10_col4,#T_4379f3ba_6e84_11eb_ad78_0242ac1c0002row13_col2{\n",
              "            background-color:  #b5cdfa;\n",
              "            color:  #000000;\n",
              "        }#T_4379f3ba_6e84_11eb_ad78_0242ac1c0002row2_col14,#T_4379f3ba_6e84_11eb_ad78_0242ac1c0002row14_col2{\n",
              "            background-color:  #ead5c9;\n",
              "            color:  #000000;\n",
              "        }#T_4379f3ba_6e84_11eb_ad78_0242ac1c0002row2_col15,#T_4379f3ba_6e84_11eb_ad78_0242ac1c0002row7_col16,#T_4379f3ba_6e84_11eb_ad78_0242ac1c0002row15_col2,#T_4379f3ba_6e84_11eb_ad78_0242ac1c0002row16_col7{\n",
              "            background-color:  #f4c6af;\n",
              "            color:  #000000;\n",
              "        }#T_4379f3ba_6e84_11eb_ad78_0242ac1c0002row2_col16,#T_4379f3ba_6e84_11eb_ad78_0242ac1c0002row16_col2{\n",
              "            background-color:  #f3c8b2;\n",
              "            color:  #000000;\n",
              "        }#T_4379f3ba_6e84_11eb_ad78_0242ac1c0002row2_col17,#T_4379f3ba_6e84_11eb_ad78_0242ac1c0002row6_col9,#T_4379f3ba_6e84_11eb_ad78_0242ac1c0002row9_col6,#T_4379f3ba_6e84_11eb_ad78_0242ac1c0002row17_col2{\n",
              "            background-color:  #e9d5cb;\n",
              "            color:  #000000;\n",
              "        }#T_4379f3ba_6e84_11eb_ad78_0242ac1c0002row2_col18,#T_4379f3ba_6e84_11eb_ad78_0242ac1c0002row18_col2{\n",
              "            background-color:  #f2cab5;\n",
              "            color:  #000000;\n",
              "        }#T_4379f3ba_6e84_11eb_ad78_0242ac1c0002row2_col19,#T_4379f3ba_6e84_11eb_ad78_0242ac1c0002row19_col2{\n",
              "            background-color:  #bcd2f7;\n",
              "            color:  #000000;\n",
              "        }#T_4379f3ba_6e84_11eb_ad78_0242ac1c0002row2_col20,#T_4379f3ba_6e84_11eb_ad78_0242ac1c0002row4_col14,#T_4379f3ba_6e84_11eb_ad78_0242ac1c0002row7_col14,#T_4379f3ba_6e84_11eb_ad78_0242ac1c0002row14_col4,#T_4379f3ba_6e84_11eb_ad78_0242ac1c0002row14_col7,#T_4379f3ba_6e84_11eb_ad78_0242ac1c0002row20_col2{\n",
              "            background-color:  #f7bca1;\n",
              "            color:  #000000;\n",
              "        }#T_4379f3ba_6e84_11eb_ad78_0242ac1c0002row2_col21,#T_4379f3ba_6e84_11eb_ad78_0242ac1c0002row5_col19,#T_4379f3ba_6e84_11eb_ad78_0242ac1c0002row19_col5,#T_4379f3ba_6e84_11eb_ad78_0242ac1c0002row21_col2{\n",
              "            background-color:  #cad8ef;\n",
              "            color:  #000000;\n",
              "        }#T_4379f3ba_6e84_11eb_ad78_0242ac1c0002row3_col4,#T_4379f3ba_6e84_11eb_ad78_0242ac1c0002row4_col3{\n",
              "            background-color:  #cd423b;\n",
              "            color:  #f1f1f1;\n",
              "        }#T_4379f3ba_6e84_11eb_ad78_0242ac1c0002row3_col5,#T_4379f3ba_6e84_11eb_ad78_0242ac1c0002row3_col6,#T_4379f3ba_6e84_11eb_ad78_0242ac1c0002row5_col3,#T_4379f3ba_6e84_11eb_ad78_0242ac1c0002row6_col3{\n",
              "            background-color:  #d0473d;\n",
              "            color:  #f1f1f1;\n",
              "        }#T_4379f3ba_6e84_11eb_ad78_0242ac1c0002row3_col7,#T_4379f3ba_6e84_11eb_ad78_0242ac1c0002row4_col19,#T_4379f3ba_6e84_11eb_ad78_0242ac1c0002row7_col3,#T_4379f3ba_6e84_11eb_ad78_0242ac1c0002row8_col20,#T_4379f3ba_6e84_11eb_ad78_0242ac1c0002row19_col4,#T_4379f3ba_6e84_11eb_ad78_0242ac1c0002row20_col8{\n",
              "            background-color:  #c7d7f0;\n",
              "            color:  #000000;\n",
              "        }#T_4379f3ba_6e84_11eb_ad78_0242ac1c0002row3_col8,#T_4379f3ba_6e84_11eb_ad78_0242ac1c0002row8_col3{\n",
              "            background-color:  #e1dad6;\n",
              "            color:  #000000;\n",
              "        }#T_4379f3ba_6e84_11eb_ad78_0242ac1c0002row3_col9,#T_4379f3ba_6e84_11eb_ad78_0242ac1c0002row6_col8,#T_4379f3ba_6e84_11eb_ad78_0242ac1c0002row8_col6,#T_4379f3ba_6e84_11eb_ad78_0242ac1c0002row8_col17,#T_4379f3ba_6e84_11eb_ad78_0242ac1c0002row9_col3,#T_4379f3ba_6e84_11eb_ad78_0242ac1c0002row17_col8{\n",
              "            background-color:  #e4d9d2;\n",
              "            color:  #000000;\n",
              "        }#T_4379f3ba_6e84_11eb_ad78_0242ac1c0002row3_col11,#T_4379f3ba_6e84_11eb_ad78_0242ac1c0002row3_col15,#T_4379f3ba_6e84_11eb_ad78_0242ac1c0002row11_col3,#T_4379f3ba_6e84_11eb_ad78_0242ac1c0002row15_col3{\n",
              "            background-color:  #e9785d;\n",
              "            color:  #000000;\n",
              "        }#T_4379f3ba_6e84_11eb_ad78_0242ac1c0002row3_col12,#T_4379f3ba_6e84_11eb_ad78_0242ac1c0002row12_col3{\n",
              "            background-color:  #eb7d62;\n",
              "            color:  #000000;\n",
              "        }#T_4379f3ba_6e84_11eb_ad78_0242ac1c0002row3_col13,#T_4379f3ba_6e84_11eb_ad78_0242ac1c0002row13_col3{\n",
              "            background-color:  #c3d5f4;\n",
              "            color:  #000000;\n",
              "        }#T_4379f3ba_6e84_11eb_ad78_0242ac1c0002row3_col14,#T_4379f3ba_6e84_11eb_ad78_0242ac1c0002row11_col14,#T_4379f3ba_6e84_11eb_ad78_0242ac1c0002row14_col3,#T_4379f3ba_6e84_11eb_ad78_0242ac1c0002row14_col11{\n",
              "            background-color:  #f7ba9f;\n",
              "            color:  #000000;\n",
              "        }#T_4379f3ba_6e84_11eb_ad78_0242ac1c0002row3_col16,#T_4379f3ba_6e84_11eb_ad78_0242ac1c0002row16_col3{\n",
              "            background-color:  #ee8669;\n",
              "            color:  #000000;\n",
              "        }#T_4379f3ba_6e84_11eb_ad78_0242ac1c0002row3_col17,#T_4379f3ba_6e84_11eb_ad78_0242ac1c0002row17_col3{\n",
              "            background-color:  #f6a283;\n",
              "            color:  #000000;\n",
              "        }#T_4379f3ba_6e84_11eb_ad78_0242ac1c0002row3_col18,#T_4379f3ba_6e84_11eb_ad78_0242ac1c0002row18_col3{\n",
              "            background-color:  #ea7b60;\n",
              "            color:  #000000;\n",
              "        }#T_4379f3ba_6e84_11eb_ad78_0242ac1c0002row3_col19,#T_4379f3ba_6e84_11eb_ad78_0242ac1c0002row4_col13,#T_4379f3ba_6e84_11eb_ad78_0242ac1c0002row12_col19,#T_4379f3ba_6e84_11eb_ad78_0242ac1c0002row13_col4,#T_4379f3ba_6e84_11eb_ad78_0242ac1c0002row19_col3,#T_4379f3ba_6e84_11eb_ad78_0242ac1c0002row19_col12{\n",
              "            background-color:  #cdd9ec;\n",
              "            color:  #000000;\n",
              "        }#T_4379f3ba_6e84_11eb_ad78_0242ac1c0002row3_col20,#T_4379f3ba_6e84_11eb_ad78_0242ac1c0002row6_col11,#T_4379f3ba_6e84_11eb_ad78_0242ac1c0002row11_col6,#T_4379f3ba_6e84_11eb_ad78_0242ac1c0002row20_col3{\n",
              "            background-color:  #e57058;\n",
              "            color:  #000000;\n",
              "        }#T_4379f3ba_6e84_11eb_ad78_0242ac1c0002row3_col21,#T_4379f3ba_6e84_11eb_ad78_0242ac1c0002row4_col21,#T_4379f3ba_6e84_11eb_ad78_0242ac1c0002row5_col21,#T_4379f3ba_6e84_11eb_ad78_0242ac1c0002row13_col20,#T_4379f3ba_6e84_11eb_ad78_0242ac1c0002row20_col13,#T_4379f3ba_6e84_11eb_ad78_0242ac1c0002row21_col3,#T_4379f3ba_6e84_11eb_ad78_0242ac1c0002row21_col4,#T_4379f3ba_6e84_11eb_ad78_0242ac1c0002row21_col5{\n",
              "            background-color:  #bbd1f8;\n",
              "            color:  #000000;\n",
              "        }#T_4379f3ba_6e84_11eb_ad78_0242ac1c0002row4_col5,#T_4379f3ba_6e84_11eb_ad78_0242ac1c0002row5_col4{\n",
              "            background-color:  #b70d28;\n",
              "            color:  #f1f1f1;\n",
              "        }#T_4379f3ba_6e84_11eb_ad78_0242ac1c0002row4_col6,#T_4379f3ba_6e84_11eb_ad78_0242ac1c0002row5_col6,#T_4379f3ba_6e84_11eb_ad78_0242ac1c0002row6_col4,#T_4379f3ba_6e84_11eb_ad78_0242ac1c0002row6_col5,#T_4379f3ba_6e84_11eb_ad78_0242ac1c0002row15_col16,#T_4379f3ba_6e84_11eb_ad78_0242ac1c0002row16_col15{\n",
              "            background-color:  #bb1b2c;\n",
              "            color:  #f1f1f1;\n",
              "        }#T_4379f3ba_6e84_11eb_ad78_0242ac1c0002row4_col7,#T_4379f3ba_6e84_11eb_ad78_0242ac1c0002row5_col9,#T_4379f3ba_6e84_11eb_ad78_0242ac1c0002row7_col4,#T_4379f3ba_6e84_11eb_ad78_0242ac1c0002row9_col5{\n",
              "            background-color:  #d6dce4;\n",
              "            color:  #000000;\n",
              "        }#T_4379f3ba_6e84_11eb_ad78_0242ac1c0002row4_col8,#T_4379f3ba_6e84_11eb_ad78_0242ac1c0002row7_col12,#T_4379f3ba_6e84_11eb_ad78_0242ac1c0002row8_col4,#T_4379f3ba_6e84_11eb_ad78_0242ac1c0002row9_col13,#T_4379f3ba_6e84_11eb_ad78_0242ac1c0002row9_col18,#T_4379f3ba_6e84_11eb_ad78_0242ac1c0002row10_col13,#T_4379f3ba_6e84_11eb_ad78_0242ac1c0002row12_col7,#T_4379f3ba_6e84_11eb_ad78_0242ac1c0002row13_col9,#T_4379f3ba_6e84_11eb_ad78_0242ac1c0002row13_col10,#T_4379f3ba_6e84_11eb_ad78_0242ac1c0002row18_col9{\n",
              "            background-color:  #dddcdc;\n",
              "            color:  #000000;\n",
              "        }#T_4379f3ba_6e84_11eb_ad78_0242ac1c0002row4_col9,#T_4379f3ba_6e84_11eb_ad78_0242ac1c0002row9_col4{\n",
              "            background-color:  #dfdbd9;\n",
              "            color:  #000000;\n",
              "        }#T_4379f3ba_6e84_11eb_ad78_0242ac1c0002row4_col11,#T_4379f3ba_6e84_11eb_ad78_0242ac1c0002row11_col4{\n",
              "            background-color:  #d75445;\n",
              "            color:  #000000;\n",
              "        }#T_4379f3ba_6e84_11eb_ad78_0242ac1c0002row4_col12,#T_4379f3ba_6e84_11eb_ad78_0242ac1c0002row12_col4{\n",
              "            background-color:  #dc5d4a;\n",
              "            color:  #000000;\n",
              "        }#T_4379f3ba_6e84_11eb_ad78_0242ac1c0002row4_col15,#T_4379f3ba_6e84_11eb_ad78_0242ac1c0002row5_col16,#T_4379f3ba_6e84_11eb_ad78_0242ac1c0002row6_col18,#T_4379f3ba_6e84_11eb_ad78_0242ac1c0002row15_col4,#T_4379f3ba_6e84_11eb_ad78_0242ac1c0002row16_col5,#T_4379f3ba_6e84_11eb_ad78_0242ac1c0002row18_col6{\n",
              "            background-color:  #f29274;\n",
              "            color:  #000000;\n",
              "        }#T_4379f3ba_6e84_11eb_ad78_0242ac1c0002row4_col16,#T_4379f3ba_6e84_11eb_ad78_0242ac1c0002row16_col4{\n",
              "            background-color:  #f39778;\n",
              "            color:  #000000;\n",
              "        }#T_4379f3ba_6e84_11eb_ad78_0242ac1c0002row4_col18,#T_4379f3ba_6e84_11eb_ad78_0242ac1c0002row12_col16,#T_4379f3ba_6e84_11eb_ad78_0242ac1c0002row16_col12,#T_4379f3ba_6e84_11eb_ad78_0242ac1c0002row18_col4{\n",
              "            background-color:  #f39577;\n",
              "            color:  #000000;\n",
              "        }#T_4379f3ba_6e84_11eb_ad78_0242ac1c0002row4_col20,#T_4379f3ba_6e84_11eb_ad78_0242ac1c0002row6_col20,#T_4379f3ba_6e84_11eb_ad78_0242ac1c0002row20_col4,#T_4379f3ba_6e84_11eb_ad78_0242ac1c0002row20_col6{\n",
              "            background-color:  #e16751;\n",
              "            color:  #000000;\n",
              "        }#T_4379f3ba_6e84_11eb_ad78_0242ac1c0002row5_col7,#T_4379f3ba_6e84_11eb_ad78_0242ac1c0002row7_col5{\n",
              "            background-color:  #dedcdb;\n",
              "            color:  #000000;\n",
              "        }#T_4379f3ba_6e84_11eb_ad78_0242ac1c0002row5_col8,#T_4379f3ba_6e84_11eb_ad78_0242ac1c0002row7_col19,#T_4379f3ba_6e84_11eb_ad78_0242ac1c0002row8_col5,#T_4379f3ba_6e84_11eb_ad78_0242ac1c0002row10_col17,#T_4379f3ba_6e84_11eb_ad78_0242ac1c0002row14_col18,#T_4379f3ba_6e84_11eb_ad78_0242ac1c0002row17_col10,#T_4379f3ba_6e84_11eb_ad78_0242ac1c0002row18_col14,#T_4379f3ba_6e84_11eb_ad78_0242ac1c0002row19_col7{\n",
              "            background-color:  #d4dbe6;\n",
              "            color:  #000000;\n",
              "        }#T_4379f3ba_6e84_11eb_ad78_0242ac1c0002row5_col11,#T_4379f3ba_6e84_11eb_ad78_0242ac1c0002row11_col5{\n",
              "            background-color:  #e26952;\n",
              "            color:  #000000;\n",
              "        }#T_4379f3ba_6e84_11eb_ad78_0242ac1c0002row5_col12,#T_4379f3ba_6e84_11eb_ad78_0242ac1c0002row5_col20,#T_4379f3ba_6e84_11eb_ad78_0242ac1c0002row12_col5,#T_4379f3ba_6e84_11eb_ad78_0242ac1c0002row20_col5{\n",
              "            background-color:  #e36c55;\n",
              "            color:  #000000;\n",
              "        }#T_4379f3ba_6e84_11eb_ad78_0242ac1c0002row5_col13,#T_4379f3ba_6e84_11eb_ad78_0242ac1c0002row13_col5{\n",
              "            background-color:  #c1d4f4;\n",
              "            color:  #000000;\n",
              "        }#T_4379f3ba_6e84_11eb_ad78_0242ac1c0002row5_col14,#T_4379f3ba_6e84_11eb_ad78_0242ac1c0002row14_col5{\n",
              "            background-color:  #f7b599;\n",
              "            color:  #000000;\n",
              "        }#T_4379f3ba_6e84_11eb_ad78_0242ac1c0002row5_col15,#T_4379f3ba_6e84_11eb_ad78_0242ac1c0002row15_col5{\n",
              "            background-color:  #f18f71;\n",
              "            color:  #000000;\n",
              "        }#T_4379f3ba_6e84_11eb_ad78_0242ac1c0002row5_col17,#T_4379f3ba_6e84_11eb_ad78_0242ac1c0002row15_col20,#T_4379f3ba_6e84_11eb_ad78_0242ac1c0002row17_col5,#T_4379f3ba_6e84_11eb_ad78_0242ac1c0002row20_col15{\n",
              "            background-color:  #f7b99e;\n",
              "            color:  #000000;\n",
              "        }#T_4379f3ba_6e84_11eb_ad78_0242ac1c0002row5_col18,#T_4379f3ba_6e84_11eb_ad78_0242ac1c0002row18_col5{\n",
              "            background-color:  #f49a7b;\n",
              "            color:  #000000;\n",
              "        }#T_4379f3ba_6e84_11eb_ad78_0242ac1c0002row6_col7,#T_4379f3ba_6e84_11eb_ad78_0242ac1c0002row7_col6{\n",
              "            background-color:  #b1cbfc;\n",
              "            color:  #000000;\n",
              "        }#T_4379f3ba_6e84_11eb_ad78_0242ac1c0002row6_col10,#T_4379f3ba_6e84_11eb_ad78_0242ac1c0002row10_col6{\n",
              "            background-color:  #c0d4f5;\n",
              "            color:  #000000;\n",
              "        }#T_4379f3ba_6e84_11eb_ad78_0242ac1c0002row6_col12,#T_4379f3ba_6e84_11eb_ad78_0242ac1c0002row12_col6,#T_4379f3ba_6e84_11eb_ad78_0242ac1c0002row12_col20,#T_4379f3ba_6e84_11eb_ad78_0242ac1c0002row20_col12{\n",
              "            background-color:  #e97a5f;\n",
              "            color:  #000000;\n",
              "        }#T_4379f3ba_6e84_11eb_ad78_0242ac1c0002row6_col13,#T_4379f3ba_6e84_11eb_ad78_0242ac1c0002row13_col6{\n",
              "            background-color:  #cedaeb;\n",
              "            color:  #000000;\n",
              "        }#T_4379f3ba_6e84_11eb_ad78_0242ac1c0002row6_col14,#T_4379f3ba_6e84_11eb_ad78_0242ac1c0002row14_col6{\n",
              "            background-color:  #f1ccb8;\n",
              "            color:  #000000;\n",
              "        }#T_4379f3ba_6e84_11eb_ad78_0242ac1c0002row6_col15,#T_4379f3ba_6e84_11eb_ad78_0242ac1c0002row15_col6{\n",
              "            background-color:  #f6a385;\n",
              "            color:  #000000;\n",
              "        }#T_4379f3ba_6e84_11eb_ad78_0242ac1c0002row6_col17,#T_4379f3ba_6e84_11eb_ad78_0242ac1c0002row11_col15,#T_4379f3ba_6e84_11eb_ad78_0242ac1c0002row12_col14,#T_4379f3ba_6e84_11eb_ad78_0242ac1c0002row14_col12,#T_4379f3ba_6e84_11eb_ad78_0242ac1c0002row15_col11,#T_4379f3ba_6e84_11eb_ad78_0242ac1c0002row17_col6{\n",
              "            background-color:  #f7a889;\n",
              "            color:  #000000;\n",
              "        }#T_4379f3ba_6e84_11eb_ad78_0242ac1c0002row6_col19,#T_4379f3ba_6e84_11eb_ad78_0242ac1c0002row19_col6{\n",
              "            background-color:  #bed2f6;\n",
              "            color:  #000000;\n",
              "        }#T_4379f3ba_6e84_11eb_ad78_0242ac1c0002row6_col21,#T_4379f3ba_6e84_11eb_ad78_0242ac1c0002row7_col21,#T_4379f3ba_6e84_11eb_ad78_0242ac1c0002row21_col6,#T_4379f3ba_6e84_11eb_ad78_0242ac1c0002row21_col7{\n",
              "            background-color:  #b6cefa;\n",
              "            color:  #000000;\n",
              "        }#T_4379f3ba_6e84_11eb_ad78_0242ac1c0002row7_col8,#T_4379f3ba_6e84_11eb_ad78_0242ac1c0002row8_col7{\n",
              "            background-color:  #485fd1;\n",
              "            color:  #f1f1f1;\n",
              "        }#T_4379f3ba_6e84_11eb_ad78_0242ac1c0002row7_col9,#T_4379f3ba_6e84_11eb_ad78_0242ac1c0002row9_col7{\n",
              "            background-color:  #3b4cc0;\n",
              "            color:  #f1f1f1;\n",
              "        }#T_4379f3ba_6e84_11eb_ad78_0242ac1c0002row7_col10,#T_4379f3ba_6e84_11eb_ad78_0242ac1c0002row10_col7{\n",
              "            background-color:  #3e51c5;\n",
              "            color:  #f1f1f1;\n",
              "        }#T_4379f3ba_6e84_11eb_ad78_0242ac1c0002row7_col13,#T_4379f3ba_6e84_11eb_ad78_0242ac1c0002row13_col7{\n",
              "            background-color:  #5b7ae5;\n",
              "            color:  #000000;\n",
              "        }#T_4379f3ba_6e84_11eb_ad78_0242ac1c0002row7_col15,#T_4379f3ba_6e84_11eb_ad78_0242ac1c0002row14_col19,#T_4379f3ba_6e84_11eb_ad78_0242ac1c0002row15_col7,#T_4379f3ba_6e84_11eb_ad78_0242ac1c0002row19_col14{\n",
              "            background-color:  #edd1c2;\n",
              "            color:  #000000;\n",
              "        }#T_4379f3ba_6e84_11eb_ad78_0242ac1c0002row7_col17,#T_4379f3ba_6e84_11eb_ad78_0242ac1c0002row17_col7{\n",
              "            background-color:  #6a8bef;\n",
              "            color:  #000000;\n",
              "        }#T_4379f3ba_6e84_11eb_ad78_0242ac1c0002row7_col18,#T_4379f3ba_6e84_11eb_ad78_0242ac1c0002row9_col15,#T_4379f3ba_6e84_11eb_ad78_0242ac1c0002row15_col9,#T_4379f3ba_6e84_11eb_ad78_0242ac1c0002row18_col7{\n",
              "            background-color:  #9fbfff;\n",
              "            color:  #000000;\n",
              "        }#T_4379f3ba_6e84_11eb_ad78_0242ac1c0002row7_col20,#T_4379f3ba_6e84_11eb_ad78_0242ac1c0002row18_col21,#T_4379f3ba_6e84_11eb_ad78_0242ac1c0002row20_col7,#T_4379f3ba_6e84_11eb_ad78_0242ac1c0002row21_col18{\n",
              "            background-color:  #aec9fc;\n",
              "            color:  #000000;\n",
              "        }#T_4379f3ba_6e84_11eb_ad78_0242ac1c0002row8_col9,#T_4379f3ba_6e84_11eb_ad78_0242ac1c0002row9_col8{\n",
              "            background-color:  #b8122a;\n",
              "            color:  #f1f1f1;\n",
              "        }#T_4379f3ba_6e84_11eb_ad78_0242ac1c0002row8_col10,#T_4379f3ba_6e84_11eb_ad78_0242ac1c0002row10_col8{\n",
              "            background-color:  #f7b093;\n",
              "            color:  #000000;\n",
              "        }#T_4379f3ba_6e84_11eb_ad78_0242ac1c0002row8_col11,#T_4379f3ba_6e84_11eb_ad78_0242ac1c0002row11_col8,#T_4379f3ba_6e84_11eb_ad78_0242ac1c0002row16_col17,#T_4379f3ba_6e84_11eb_ad78_0242ac1c0002row17_col16,#T_4379f3ba_6e84_11eb_ad78_0242ac1c0002row20_col21,#T_4379f3ba_6e84_11eb_ad78_0242ac1c0002row21_col20{\n",
              "            background-color:  #b3cdfb;\n",
              "            color:  #000000;\n",
              "        }#T_4379f3ba_6e84_11eb_ad78_0242ac1c0002row8_col12,#T_4379f3ba_6e84_11eb_ad78_0242ac1c0002row12_col8{\n",
              "            background-color:  #a3c2fe;\n",
              "            color:  #000000;\n",
              "        }#T_4379f3ba_6e84_11eb_ad78_0242ac1c0002row8_col13,#T_4379f3ba_6e84_11eb_ad78_0242ac1c0002row13_col8{\n",
              "            background-color:  #dadce0;\n",
              "            color:  #000000;\n",
              "        }#T_4379f3ba_6e84_11eb_ad78_0242ac1c0002row8_col14,#T_4379f3ba_6e84_11eb_ad78_0242ac1c0002row14_col8{\n",
              "            background-color:  #5977e3;\n",
              "            color:  #000000;\n",
              "        }#T_4379f3ba_6e84_11eb_ad78_0242ac1c0002row8_col15,#T_4379f3ba_6e84_11eb_ad78_0242ac1c0002row15_col8{\n",
              "            background-color:  #a1c0ff;\n",
              "            color:  #000000;\n",
              "        }#T_4379f3ba_6e84_11eb_ad78_0242ac1c0002row8_col16,#T_4379f3ba_6e84_11eb_ad78_0242ac1c0002row16_col8{\n",
              "            background-color:  #88abfd;\n",
              "            color:  #000000;\n",
              "        }#T_4379f3ba_6e84_11eb_ad78_0242ac1c0002row8_col18,#T_4379f3ba_6e84_11eb_ad78_0242ac1c0002row13_col17,#T_4379f3ba_6e84_11eb_ad78_0242ac1c0002row17_col13,#T_4379f3ba_6e84_11eb_ad78_0242ac1c0002row18_col8{\n",
              "            background-color:  #d7dce3;\n",
              "            color:  #000000;\n",
              "        }#T_4379f3ba_6e84_11eb_ad78_0242ac1c0002row8_col19,#T_4379f3ba_6e84_11eb_ad78_0242ac1c0002row19_col8{\n",
              "            background-color:  #7396f5;\n",
              "            color:  #000000;\n",
              "        }#T_4379f3ba_6e84_11eb_ad78_0242ac1c0002row9_col11,#T_4379f3ba_6e84_11eb_ad78_0242ac1c0002row11_col9,#T_4379f3ba_6e84_11eb_ad78_0242ac1c0002row15_col21,#T_4379f3ba_6e84_11eb_ad78_0242ac1c0002row21_col15{\n",
              "            background-color:  #b7cff9;\n",
              "            color:  #000000;\n",
              "        }#T_4379f3ba_6e84_11eb_ad78_0242ac1c0002row9_col12,#T_4379f3ba_6e84_11eb_ad78_0242ac1c0002row12_col9{\n",
              "            background-color:  #a7c5fe;\n",
              "            color:  #000000;\n",
              "        }#T_4379f3ba_6e84_11eb_ad78_0242ac1c0002row9_col14,#T_4379f3ba_6e84_11eb_ad78_0242ac1c0002row14_col9{\n",
              "            background-color:  #5572df;\n",
              "            color:  #000000;\n",
              "        }#T_4379f3ba_6e84_11eb_ad78_0242ac1c0002row9_col16,#T_4379f3ba_6e84_11eb_ad78_0242ac1c0002row16_col9{\n",
              "            background-color:  #86a9fc;\n",
              "            color:  #000000;\n",
              "        }#T_4379f3ba_6e84_11eb_ad78_0242ac1c0002row9_col17,#T_4379f3ba_6e84_11eb_ad78_0242ac1c0002row16_col18,#T_4379f3ba_6e84_11eb_ad78_0242ac1c0002row17_col9,#T_4379f3ba_6e84_11eb_ad78_0242ac1c0002row18_col16{\n",
              "            background-color:  #ead4c8;\n",
              "            color:  #000000;\n",
              "        }#T_4379f3ba_6e84_11eb_ad78_0242ac1c0002row9_col19,#T_4379f3ba_6e84_11eb_ad78_0242ac1c0002row13_col16,#T_4379f3ba_6e84_11eb_ad78_0242ac1c0002row16_col13,#T_4379f3ba_6e84_11eb_ad78_0242ac1c0002row19_col9{\n",
              "            background-color:  #7295f4;\n",
              "            color:  #000000;\n",
              "        }#T_4379f3ba_6e84_11eb_ad78_0242ac1c0002row9_col20,#T_4379f3ba_6e84_11eb_ad78_0242ac1c0002row20_col9{\n",
              "            background-color:  #ccd9ed;\n",
              "            color:  #000000;\n",
              "        }#T_4379f3ba_6e84_11eb_ad78_0242ac1c0002row10_col12,#T_4379f3ba_6e84_11eb_ad78_0242ac1c0002row12_col10{\n",
              "            background-color:  #7ea1fa;\n",
              "            color:  #000000;\n",
              "        }#T_4379f3ba_6e84_11eb_ad78_0242ac1c0002row10_col14,#T_4379f3ba_6e84_11eb_ad78_0242ac1c0002row14_col10{\n",
              "            background-color:  #4257c9;\n",
              "            color:  #f1f1f1;\n",
              "        }#T_4379f3ba_6e84_11eb_ad78_0242ac1c0002row10_col15,#T_4379f3ba_6e84_11eb_ad78_0242ac1c0002row15_col10{\n",
              "            background-color:  #7093f3;\n",
              "            color:  #000000;\n",
              "        }#T_4379f3ba_6e84_11eb_ad78_0242ac1c0002row10_col16,#T_4379f3ba_6e84_11eb_ad78_0242ac1c0002row16_col10{\n",
              "            background-color:  #5d7ce6;\n",
              "            color:  #000000;\n",
              "        }#T_4379f3ba_6e84_11eb_ad78_0242ac1c0002row10_col18,#T_4379f3ba_6e84_11eb_ad78_0242ac1c0002row13_col18,#T_4379f3ba_6e84_11eb_ad78_0242ac1c0002row18_col10,#T_4379f3ba_6e84_11eb_ad78_0242ac1c0002row18_col13{\n",
              "            background-color:  #bfd3f6;\n",
              "            color:  #000000;\n",
              "        }#T_4379f3ba_6e84_11eb_ad78_0242ac1c0002row10_col19,#T_4379f3ba_6e84_11eb_ad78_0242ac1c0002row19_col10{\n",
              "            background-color:  #6180e9;\n",
              "            color:  #000000;\n",
              "        }#T_4379f3ba_6e84_11eb_ad78_0242ac1c0002row10_col20,#T_4379f3ba_6e84_11eb_ad78_0242ac1c0002row18_col19,#T_4379f3ba_6e84_11eb_ad78_0242ac1c0002row19_col18,#T_4379f3ba_6e84_11eb_ad78_0242ac1c0002row20_col10{\n",
              "            background-color:  #a5c3fe;\n",
              "            color:  #000000;\n",
              "        }#T_4379f3ba_6e84_11eb_ad78_0242ac1c0002row11_col12,#T_4379f3ba_6e84_11eb_ad78_0242ac1c0002row12_col11{\n",
              "            background-color:  #ba162b;\n",
              "            color:  #f1f1f1;\n",
              "        }#T_4379f3ba_6e84_11eb_ad78_0242ac1c0002row11_col13,#T_4379f3ba_6e84_11eb_ad78_0242ac1c0002row13_col11{\n",
              "            background-color:  #d1dae9;\n",
              "            color:  #000000;\n",
              "        }#T_4379f3ba_6e84_11eb_ad78_0242ac1c0002row11_col16,#T_4379f3ba_6e84_11eb_ad78_0242ac1c0002row16_col11{\n",
              "            background-color:  #f7a688;\n",
              "            color:  #000000;\n",
              "        }#T_4379f3ba_6e84_11eb_ad78_0242ac1c0002row11_col17,#T_4379f3ba_6e84_11eb_ad78_0242ac1c0002row17_col11{\n",
              "            background-color:  #f3c7b1;\n",
              "            color:  #000000;\n",
              "        }#T_4379f3ba_6e84_11eb_ad78_0242ac1c0002row11_col18,#T_4379f3ba_6e84_11eb_ad78_0242ac1c0002row18_col11{\n",
              "            background-color:  #f7af91;\n",
              "            color:  #000000;\n",
              "        }#T_4379f3ba_6e84_11eb_ad78_0242ac1c0002row11_col19,#T_4379f3ba_6e84_11eb_ad78_0242ac1c0002row15_col17,#T_4379f3ba_6e84_11eb_ad78_0242ac1c0002row17_col15,#T_4379f3ba_6e84_11eb_ad78_0242ac1c0002row19_col11{\n",
              "            background-color:  #c5d6f2;\n",
              "            color:  #000000;\n",
              "        }#T_4379f3ba_6e84_11eb_ad78_0242ac1c0002row11_col20,#T_4379f3ba_6e84_11eb_ad78_0242ac1c0002row20_col11{\n",
              "            background-color:  #e8765c;\n",
              "            color:  #000000;\n",
              "        }#T_4379f3ba_6e84_11eb_ad78_0242ac1c0002row11_col21,#T_4379f3ba_6e84_11eb_ad78_0242ac1c0002row12_col21,#T_4379f3ba_6e84_11eb_ad78_0242ac1c0002row16_col21,#T_4379f3ba_6e84_11eb_ad78_0242ac1c0002row21_col11,#T_4379f3ba_6e84_11eb_ad78_0242ac1c0002row21_col12,#T_4379f3ba_6e84_11eb_ad78_0242ac1c0002row21_col16{\n",
              "            background-color:  #bad0f8;\n",
              "            color:  #000000;\n",
              "        }#T_4379f3ba_6e84_11eb_ad78_0242ac1c0002row12_col13,#T_4379f3ba_6e84_11eb_ad78_0242ac1c0002row13_col12,#T_4379f3ba_6e84_11eb_ad78_0242ac1c0002row17_col21,#T_4379f3ba_6e84_11eb_ad78_0242ac1c0002row19_col21,#T_4379f3ba_6e84_11eb_ad78_0242ac1c0002row21_col17,#T_4379f3ba_6e84_11eb_ad78_0242ac1c0002row21_col19{\n",
              "            background-color:  #a6c4fe;\n",
              "            color:  #000000;\n",
              "        }#T_4379f3ba_6e84_11eb_ad78_0242ac1c0002row12_col15,#T_4379f3ba_6e84_11eb_ad78_0242ac1c0002row15_col12{\n",
              "            background-color:  #f59c7d;\n",
              "            color:  #000000;\n",
              "        }#T_4379f3ba_6e84_11eb_ad78_0242ac1c0002row12_col17,#T_4379f3ba_6e84_11eb_ad78_0242ac1c0002row15_col18,#T_4379f3ba_6e84_11eb_ad78_0242ac1c0002row17_col12,#T_4379f3ba_6e84_11eb_ad78_0242ac1c0002row18_col15{\n",
              "            background-color:  #eed0c0;\n",
              "            color:  #000000;\n",
              "        }#T_4379f3ba_6e84_11eb_ad78_0242ac1c0002row12_col18,#T_4379f3ba_6e84_11eb_ad78_0242ac1c0002row18_col12{\n",
              "            background-color:  #f7b497;\n",
              "            color:  #000000;\n",
              "        }#T_4379f3ba_6e84_11eb_ad78_0242ac1c0002row13_col14,#T_4379f3ba_6e84_11eb_ad78_0242ac1c0002row14_col13{\n",
              "            background-color:  #5a78e4;\n",
              "            color:  #000000;\n",
              "        }#T_4379f3ba_6e84_11eb_ad78_0242ac1c0002row13_col15,#T_4379f3ba_6e84_11eb_ad78_0242ac1c0002row15_col13{\n",
              "            background-color:  #81a4fb;\n",
              "            color:  #000000;\n",
              "        }#T_4379f3ba_6e84_11eb_ad78_0242ac1c0002row13_col19,#T_4379f3ba_6e84_11eb_ad78_0242ac1c0002row19_col13{\n",
              "            background-color:  #6485ec;\n",
              "            color:  #000000;\n",
              "        }#T_4379f3ba_6e84_11eb_ad78_0242ac1c0002row13_col21,#T_4379f3ba_6e84_11eb_ad78_0242ac1c0002row21_col13{\n",
              "            background-color:  #97b8ff;\n",
              "            color:  #000000;\n",
              "        }#T_4379f3ba_6e84_11eb_ad78_0242ac1c0002row14_col15,#T_4379f3ba_6e84_11eb_ad78_0242ac1c0002row15_col14{\n",
              "            background-color:  #e7745b;\n",
              "            color:  #000000;\n",
              "        }#T_4379f3ba_6e84_11eb_ad78_0242ac1c0002row14_col16,#T_4379f3ba_6e84_11eb_ad78_0242ac1c0002row16_col14{\n",
              "            background-color:  #cf453c;\n",
              "            color:  #f1f1f1;\n",
              "        }#T_4379f3ba_6e84_11eb_ad78_0242ac1c0002row14_col20,#T_4379f3ba_6e84_11eb_ad78_0242ac1c0002row20_col14{\n",
              "            background-color:  #e5d8d1;\n",
              "            color:  #000000;\n",
              "        }#T_4379f3ba_6e84_11eb_ad78_0242ac1c0002row14_col21,#T_4379f3ba_6e84_11eb_ad78_0242ac1c0002row21_col14{\n",
              "            background-color:  #b9d0f9;\n",
              "            color:  #000000;\n",
              "        }#T_4379f3ba_6e84_11eb_ad78_0242ac1c0002row15_col19,#T_4379f3ba_6e84_11eb_ad78_0242ac1c0002row19_col15{\n",
              "            background-color:  #efcfbf;\n",
              "            color:  #000000;\n",
              "        }#T_4379f3ba_6e84_11eb_ad78_0242ac1c0002row16_col19,#T_4379f3ba_6e84_11eb_ad78_0242ac1c0002row19_col16{\n",
              "            background-color:  #f1cdba;\n",
              "            color:  #000000;\n",
              "        }#T_4379f3ba_6e84_11eb_ad78_0242ac1c0002row16_col20,#T_4379f3ba_6e84_11eb_ad78_0242ac1c0002row20_col16{\n",
              "            background-color:  #f5c2aa;\n",
              "            color:  #000000;\n",
              "        }#T_4379f3ba_6e84_11eb_ad78_0242ac1c0002row17_col18,#T_4379f3ba_6e84_11eb_ad78_0242ac1c0002row17_col20,#T_4379f3ba_6e84_11eb_ad78_0242ac1c0002row18_col17,#T_4379f3ba_6e84_11eb_ad78_0242ac1c0002row20_col17{\n",
              "            background-color:  #ed8366;\n",
              "            color:  #000000;\n",
              "        }#T_4379f3ba_6e84_11eb_ad78_0242ac1c0002row17_col19,#T_4379f3ba_6e84_11eb_ad78_0242ac1c0002row19_col17{\n",
              "            background-color:  #7699f6;\n",
              "            color:  #000000;\n",
              "        }#T_4379f3ba_6e84_11eb_ad78_0242ac1c0002row18_col20,#T_4379f3ba_6e84_11eb_ad78_0242ac1c0002row20_col18{\n",
              "            background-color:  #f18d6f;\n",
              "            color:  #000000;\n",
              "        }#T_4379f3ba_6e84_11eb_ad78_0242ac1c0002row19_col20,#T_4379f3ba_6e84_11eb_ad78_0242ac1c0002row20_col19{\n",
              "            background-color:  #b2ccfb;\n",
              "            color:  #000000;\n",
              "        }</style><table id=\"T_4379f3ba_6e84_11eb_ad78_0242ac1c0002\" ><thead>    <tr>        <th class=\"blank level0\" ></th>        <th class=\"col_heading level0 col0\" >Id_old</th>        <th class=\"col_heading level0 col1\" >Id</th>        <th class=\"col_heading level0 col2\" >GP</th>        <th class=\"col_heading level0 col3\" >MIN</th>        <th class=\"col_heading level0 col4\" >PTS</th>        <th class=\"col_heading level0 col5\" >FGM</th>        <th class=\"col_heading level0 col6\" >FGA</th>        <th class=\"col_heading level0 col7\" >FG%</th>        <th class=\"col_heading level0 col8\" >3P_Made</th>        <th class=\"col_heading level0 col9\" >3PA</th>        <th class=\"col_heading level0 col10\" >3P%</th>        <th class=\"col_heading level0 col11\" >FTM</th>        <th class=\"col_heading level0 col12\" >FTA</th>        <th class=\"col_heading level0 col13\" >FT%</th>        <th class=\"col_heading level0 col14\" >OREB</th>        <th class=\"col_heading level0 col15\" >DREB</th>        <th class=\"col_heading level0 col16\" >REB</th>        <th class=\"col_heading level0 col17\" >AST</th>        <th class=\"col_heading level0 col18\" >STL</th>        <th class=\"col_heading level0 col19\" >BLK</th>        <th class=\"col_heading level0 col20\" >TOV</th>        <th class=\"col_heading level0 col21\" >TARGET_5Yrs</th>    </tr></thead><tbody>\n",
              "                <tr>\n",
              "                        <th id=\"T_4379f3ba_6e84_11eb_ad78_0242ac1c0002level0_row0\" class=\"row_heading level0 row0\" >Id_old</th>\n",
              "                        <td id=\"T_4379f3ba_6e84_11eb_ad78_0242ac1c0002row0_col0\" class=\"data row0 col0\" >1.000000</td>\n",
              "                        <td id=\"T_4379f3ba_6e84_11eb_ad78_0242ac1c0002row0_col1\" class=\"data row0 col1\" >-0.010224</td>\n",
              "                        <td id=\"T_4379f3ba_6e84_11eb_ad78_0242ac1c0002row0_col2\" class=\"data row0 col2\" >0.028860</td>\n",
              "                        <td id=\"T_4379f3ba_6e84_11eb_ad78_0242ac1c0002row0_col3\" class=\"data row0 col3\" >0.027481</td>\n",
              "                        <td id=\"T_4379f3ba_6e84_11eb_ad78_0242ac1c0002row0_col4\" class=\"data row0 col4\" >0.023416</td>\n",
              "                        <td id=\"T_4379f3ba_6e84_11eb_ad78_0242ac1c0002row0_col5\" class=\"data row0 col5\" >0.023845</td>\n",
              "                        <td id=\"T_4379f3ba_6e84_11eb_ad78_0242ac1c0002row0_col6\" class=\"data row0 col6\" >0.024341</td>\n",
              "                        <td id=\"T_4379f3ba_6e84_11eb_ad78_0242ac1c0002row0_col7\" class=\"data row0 col7\" >0.009777</td>\n",
              "                        <td id=\"T_4379f3ba_6e84_11eb_ad78_0242ac1c0002row0_col8\" class=\"data row0 col8\" >0.008947</td>\n",
              "                        <td id=\"T_4379f3ba_6e84_11eb_ad78_0242ac1c0002row0_col9\" class=\"data row0 col9\" >0.009524</td>\n",
              "                        <td id=\"T_4379f3ba_6e84_11eb_ad78_0242ac1c0002row0_col10\" class=\"data row0 col10\" >-0.005559</td>\n",
              "                        <td id=\"T_4379f3ba_6e84_11eb_ad78_0242ac1c0002row0_col11\" class=\"data row0 col11\" >0.020854</td>\n",
              "                        <td id=\"T_4379f3ba_6e84_11eb_ad78_0242ac1c0002row0_col12\" class=\"data row0 col12\" >0.017460</td>\n",
              "                        <td id=\"T_4379f3ba_6e84_11eb_ad78_0242ac1c0002row0_col13\" class=\"data row0 col13\" >0.018887</td>\n",
              "                        <td id=\"T_4379f3ba_6e84_11eb_ad78_0242ac1c0002row0_col14\" class=\"data row0 col14\" >0.014007</td>\n",
              "                        <td id=\"T_4379f3ba_6e84_11eb_ad78_0242ac1c0002row0_col15\" class=\"data row0 col15\" >0.018180</td>\n",
              "                        <td id=\"T_4379f3ba_6e84_11eb_ad78_0242ac1c0002row0_col16\" class=\"data row0 col16\" >0.018471</td>\n",
              "                        <td id=\"T_4379f3ba_6e84_11eb_ad78_0242ac1c0002row0_col17\" class=\"data row0 col17\" >0.017703</td>\n",
              "                        <td id=\"T_4379f3ba_6e84_11eb_ad78_0242ac1c0002row0_col18\" class=\"data row0 col18\" >0.007974</td>\n",
              "                        <td id=\"T_4379f3ba_6e84_11eb_ad78_0242ac1c0002row0_col19\" class=\"data row0 col19\" >0.011955</td>\n",
              "                        <td id=\"T_4379f3ba_6e84_11eb_ad78_0242ac1c0002row0_col20\" class=\"data row0 col20\" >0.021505</td>\n",
              "                        <td id=\"T_4379f3ba_6e84_11eb_ad78_0242ac1c0002row0_col21\" class=\"data row0 col21\" >0.018233</td>\n",
              "            </tr>\n",
              "            <tr>\n",
              "                        <th id=\"T_4379f3ba_6e84_11eb_ad78_0242ac1c0002level0_row1\" class=\"row_heading level0 row1\" >Id</th>\n",
              "                        <td id=\"T_4379f3ba_6e84_11eb_ad78_0242ac1c0002row1_col0\" class=\"data row1 col0\" >-0.010224</td>\n",
              "                        <td id=\"T_4379f3ba_6e84_11eb_ad78_0242ac1c0002row1_col1\" class=\"data row1 col1\" >1.000000</td>\n",
              "                        <td id=\"T_4379f3ba_6e84_11eb_ad78_0242ac1c0002row1_col2\" class=\"data row1 col2\" >0.003940</td>\n",
              "                        <td id=\"T_4379f3ba_6e84_11eb_ad78_0242ac1c0002row1_col3\" class=\"data row1 col3\" >-0.002747</td>\n",
              "                        <td id=\"T_4379f3ba_6e84_11eb_ad78_0242ac1c0002row1_col4\" class=\"data row1 col4\" >0.003048</td>\n",
              "                        <td id=\"T_4379f3ba_6e84_11eb_ad78_0242ac1c0002row1_col5\" class=\"data row1 col5\" >0.001812</td>\n",
              "                        <td id=\"T_4379f3ba_6e84_11eb_ad78_0242ac1c0002row1_col6\" class=\"data row1 col6\" >0.000376</td>\n",
              "                        <td id=\"T_4379f3ba_6e84_11eb_ad78_0242ac1c0002row1_col7\" class=\"data row1 col7\" >0.010359</td>\n",
              "                        <td id=\"T_4379f3ba_6e84_11eb_ad78_0242ac1c0002row1_col8\" class=\"data row1 col8\" >-0.009092</td>\n",
              "                        <td id=\"T_4379f3ba_6e84_11eb_ad78_0242ac1c0002row1_col9\" class=\"data row1 col9\" >-0.005847</td>\n",
              "                        <td id=\"T_4379f3ba_6e84_11eb_ad78_0242ac1c0002row1_col10\" class=\"data row1 col10\" >-0.001710</td>\n",
              "                        <td id=\"T_4379f3ba_6e84_11eb_ad78_0242ac1c0002row1_col11\" class=\"data row1 col11\" >0.008232</td>\n",
              "                        <td id=\"T_4379f3ba_6e84_11eb_ad78_0242ac1c0002row1_col12\" class=\"data row1 col12\" >0.008845</td>\n",
              "                        <td id=\"T_4379f3ba_6e84_11eb_ad78_0242ac1c0002row1_col13\" class=\"data row1 col13\" >-0.003565</td>\n",
              "                        <td id=\"T_4379f3ba_6e84_11eb_ad78_0242ac1c0002row1_col14\" class=\"data row1 col14\" >-0.004322</td>\n",
              "                        <td id=\"T_4379f3ba_6e84_11eb_ad78_0242ac1c0002row1_col15\" class=\"data row1 col15\" >-0.004517</td>\n",
              "                        <td id=\"T_4379f3ba_6e84_11eb_ad78_0242ac1c0002row1_col16\" class=\"data row1 col16\" >-0.004924</td>\n",
              "                        <td id=\"T_4379f3ba_6e84_11eb_ad78_0242ac1c0002row1_col17\" class=\"data row1 col17\" >0.008069</td>\n",
              "                        <td id=\"T_4379f3ba_6e84_11eb_ad78_0242ac1c0002row1_col18\" class=\"data row1 col18\" >0.013752</td>\n",
              "                        <td id=\"T_4379f3ba_6e84_11eb_ad78_0242ac1c0002row1_col19\" class=\"data row1 col19\" >-0.005705</td>\n",
              "                        <td id=\"T_4379f3ba_6e84_11eb_ad78_0242ac1c0002row1_col20\" class=\"data row1 col20\" >0.013185</td>\n",
              "                        <td id=\"T_4379f3ba_6e84_11eb_ad78_0242ac1c0002row1_col21\" class=\"data row1 col21\" >0.006645</td>\n",
              "            </tr>\n",
              "            <tr>\n",
              "                        <th id=\"T_4379f3ba_6e84_11eb_ad78_0242ac1c0002level0_row2\" class=\"row_heading level0 row2\" >GP</th>\n",
              "                        <td id=\"T_4379f3ba_6e84_11eb_ad78_0242ac1c0002row2_col0\" class=\"data row2 col0\" >0.028860</td>\n",
              "                        <td id=\"T_4379f3ba_6e84_11eb_ad78_0242ac1c0002row2_col1\" class=\"data row2 col1\" >0.003940</td>\n",
              "                        <td id=\"T_4379f3ba_6e84_11eb_ad78_0242ac1c0002row2_col2\" class=\"data row2 col2\" >1.000000</td>\n",
              "                        <td id=\"T_4379f3ba_6e84_11eb_ad78_0242ac1c0002row2_col3\" class=\"data row2 col3\" >0.608090</td>\n",
              "                        <td id=\"T_4379f3ba_6e84_11eb_ad78_0242ac1c0002row2_col4\" class=\"data row2 col4\" >0.578344</td>\n",
              "                        <td id=\"T_4379f3ba_6e84_11eb_ad78_0242ac1c0002row2_col5\" class=\"data row2 col5\" >0.577697</td>\n",
              "                        <td id=\"T_4379f3ba_6e84_11eb_ad78_0242ac1c0002row2_col6\" class=\"data row2 col6\" >0.553374</td>\n",
              "                        <td id=\"T_4379f3ba_6e84_11eb_ad78_0242ac1c0002row2_col7\" class=\"data row2 col7\" >0.278510</td>\n",
              "                        <td id=\"T_4379f3ba_6e84_11eb_ad78_0242ac1c0002row2_col8\" class=\"data row2 col8\" >0.123231</td>\n",
              "                        <td id=\"T_4379f3ba_6e84_11eb_ad78_0242ac1c0002row2_col9\" class=\"data row2 col9\" >0.119146</td>\n",
              "                        <td id=\"T_4379f3ba_6e84_11eb_ad78_0242ac1c0002row2_col10\" class=\"data row2 col10\" >0.045434</td>\n",
              "                        <td id=\"T_4379f3ba_6e84_11eb_ad78_0242ac1c0002row2_col11\" class=\"data row2 col11\" >0.524276</td>\n",
              "                        <td id=\"T_4379f3ba_6e84_11eb_ad78_0242ac1c0002row2_col12\" class=\"data row2 col12\" >0.519154</td>\n",
              "                        <td id=\"T_4379f3ba_6e84_11eb_ad78_0242ac1c0002row2_col13\" class=\"data row2 col13\" >0.155667</td>\n",
              "                        <td id=\"T_4379f3ba_6e84_11eb_ad78_0242ac1c0002row2_col14\" class=\"data row2 col14\" >0.402654</td>\n",
              "                        <td id=\"T_4379f3ba_6e84_11eb_ad78_0242ac1c0002row2_col15\" class=\"data row2 col15\" >0.492070</td>\n",
              "                        <td id=\"T_4379f3ba_6e84_11eb_ad78_0242ac1c0002row2_col16\" class=\"data row2 col16\" >0.484485</td>\n",
              "                        <td id=\"T_4379f3ba_6e84_11eb_ad78_0242ac1c0002row2_col17\" class=\"data row2 col17\" >0.402126</td>\n",
              "                        <td id=\"T_4379f3ba_6e84_11eb_ad78_0242ac1c0002row2_col18\" class=\"data row2 col18\" >0.473409</td>\n",
              "                        <td id=\"T_4379f3ba_6e84_11eb_ad78_0242ac1c0002row2_col19\" class=\"data row2 col19\" >0.187269</td>\n",
              "                        <td id=\"T_4379f3ba_6e84_11eb_ad78_0242ac1c0002row2_col20\" class=\"data row2 col20\" >0.537821</td>\n",
              "                        <td id=\"T_4379f3ba_6e84_11eb_ad78_0242ac1c0002row2_col21\" class=\"data row2 col21\" >0.242108</td>\n",
              "            </tr>\n",
              "            <tr>\n",
              "                        <th id=\"T_4379f3ba_6e84_11eb_ad78_0242ac1c0002level0_row3\" class=\"row_heading level0 row3\" >MIN</th>\n",
              "                        <td id=\"T_4379f3ba_6e84_11eb_ad78_0242ac1c0002row3_col0\" class=\"data row3 col0\" >0.027481</td>\n",
              "                        <td id=\"T_4379f3ba_6e84_11eb_ad78_0242ac1c0002row3_col1\" class=\"data row3 col1\" >-0.002747</td>\n",
              "                        <td id=\"T_4379f3ba_6e84_11eb_ad78_0242ac1c0002row3_col2\" class=\"data row3 col2\" >0.608090</td>\n",
              "                        <td id=\"T_4379f3ba_6e84_11eb_ad78_0242ac1c0002row3_col3\" class=\"data row3 col3\" >1.000000</td>\n",
              "                        <td id=\"T_4379f3ba_6e84_11eb_ad78_0242ac1c0002row3_col4\" class=\"data row3 col4\" >0.904840</td>\n",
              "                        <td id=\"T_4379f3ba_6e84_11eb_ad78_0242ac1c0002row3_col5\" class=\"data row3 col5\" >0.895957</td>\n",
              "                        <td id=\"T_4379f3ba_6e84_11eb_ad78_0242ac1c0002row3_col6\" class=\"data row3 col6\" >0.895085</td>\n",
              "                        <td id=\"T_4379f3ba_6e84_11eb_ad78_0242ac1c0002row3_col7\" class=\"data row3 col7\" >0.234919</td>\n",
              "                        <td id=\"T_4379f3ba_6e84_11eb_ad78_0242ac1c0002row3_col8\" class=\"data row3 col8\" >0.358597</td>\n",
              "                        <td id=\"T_4379f3ba_6e84_11eb_ad78_0242ac1c0002row3_col9\" class=\"data row3 col9\" >0.372454</td>\n",
              "                        <td id=\"T_4379f3ba_6e84_11eb_ad78_0242ac1c0002row3_col10\" class=\"data row3 col10\" >0.153846</td>\n",
              "                        <td id=\"T_4379f3ba_6e84_11eb_ad78_0242ac1c0002row3_col11\" class=\"data row3 col11\" >0.767647</td>\n",
              "                        <td id=\"T_4379f3ba_6e84_11eb_ad78_0242ac1c0002row3_col12\" class=\"data row3 col12\" >0.753660</td>\n",
              "                        <td id=\"T_4379f3ba_6e84_11eb_ad78_0242ac1c0002row3_col13\" class=\"data row3 col13\" >0.212366</td>\n",
              "                        <td id=\"T_4379f3ba_6e84_11eb_ad78_0242ac1c0002row3_col14\" class=\"data row3 col14\" >0.542782</td>\n",
              "                        <td id=\"T_4379f3ba_6e84_11eb_ad78_0242ac1c0002row3_col15\" class=\"data row3 col15\" >0.770128</td>\n",
              "                        <td id=\"T_4379f3ba_6e84_11eb_ad78_0242ac1c0002row3_col16\" class=\"data row3 col16\" >0.728842</td>\n",
              "                        <td id=\"T_4379f3ba_6e84_11eb_ad78_0242ac1c0002row3_col17\" class=\"data row3 col17\" >0.639013</td>\n",
              "                        <td id=\"T_4379f3ba_6e84_11eb_ad78_0242ac1c0002row3_col18\" class=\"data row3 col18\" >0.759933</td>\n",
              "                        <td id=\"T_4379f3ba_6e84_11eb_ad78_0242ac1c0002row3_col19\" class=\"data row3 col19\" >0.260428</td>\n",
              "                        <td id=\"T_4379f3ba_6e84_11eb_ad78_0242ac1c0002row3_col20\" class=\"data row3 col20\" >0.792059</td>\n",
              "                        <td id=\"T_4379f3ba_6e84_11eb_ad78_0242ac1c0002row3_col21\" class=\"data row3 col21\" >0.182203</td>\n",
              "            </tr>\n",
              "            <tr>\n",
              "                        <th id=\"T_4379f3ba_6e84_11eb_ad78_0242ac1c0002level0_row4\" class=\"row_heading level0 row4\" >PTS</th>\n",
              "                        <td id=\"T_4379f3ba_6e84_11eb_ad78_0242ac1c0002row4_col0\" class=\"data row4 col0\" >0.023416</td>\n",
              "                        <td id=\"T_4379f3ba_6e84_11eb_ad78_0242ac1c0002row4_col1\" class=\"data row4 col1\" >0.003048</td>\n",
              "                        <td id=\"T_4379f3ba_6e84_11eb_ad78_0242ac1c0002row4_col2\" class=\"data row4 col2\" >0.578344</td>\n",
              "                        <td id=\"T_4379f3ba_6e84_11eb_ad78_0242ac1c0002row4_col3\" class=\"data row4 col3\" >0.904840</td>\n",
              "                        <td id=\"T_4379f3ba_6e84_11eb_ad78_0242ac1c0002row4_col4\" class=\"data row4 col4\" >1.000000</td>\n",
              "                        <td id=\"T_4379f3ba_6e84_11eb_ad78_0242ac1c0002row4_col5\" class=\"data row4 col5\" >0.989208</td>\n",
              "                        <td id=\"T_4379f3ba_6e84_11eb_ad78_0242ac1c0002row4_col6\" class=\"data row4 col6\" >0.973297</td>\n",
              "                        <td id=\"T_4379f3ba_6e84_11eb_ad78_0242ac1c0002row4_col7\" class=\"data row4 col7\" >0.301991</td>\n",
              "                        <td id=\"T_4379f3ba_6e84_11eb_ad78_0242ac1c0002row4_col8\" class=\"data row4 col8\" >0.337786</td>\n",
              "                        <td id=\"T_4379f3ba_6e84_11eb_ad78_0242ac1c0002row4_col9\" class=\"data row4 col9\" >0.349452</td>\n",
              "                        <td id=\"T_4379f3ba_6e84_11eb_ad78_0242ac1c0002row4_col10\" class=\"data row4 col10\" >0.156044</td>\n",
              "                        <td id=\"T_4379f3ba_6e84_11eb_ad78_0242ac1c0002row4_col11\" class=\"data row4 col11\" >0.864463</td>\n",
              "                        <td id=\"T_4379f3ba_6e84_11eb_ad78_0242ac1c0002row4_col12\" class=\"data row4 col12\" >0.842903</td>\n",
              "                        <td id=\"T_4379f3ba_6e84_11eb_ad78_0242ac1c0002row4_col13\" class=\"data row4 col13\" >0.257157</td>\n",
              "                        <td id=\"T_4379f3ba_6e84_11eb_ad78_0242ac1c0002row4_col14\" class=\"data row4 col14\" >0.539289</td>\n",
              "                        <td id=\"T_4379f3ba_6e84_11eb_ad78_0242ac1c0002row4_col15\" class=\"data row4 col15\" >0.690687</td>\n",
              "                        <td id=\"T_4379f3ba_6e84_11eb_ad78_0242ac1c0002row4_col16\" class=\"data row4 col16\" >0.673621</td>\n",
              "                        <td id=\"T_4379f3ba_6e84_11eb_ad78_0242ac1c0002row4_col17\" class=\"data row4 col17\" >0.573893</td>\n",
              "                        <td id=\"T_4379f3ba_6e84_11eb_ad78_0242ac1c0002row4_col18\" class=\"data row4 col18\" >0.678514</td>\n",
              "                        <td id=\"T_4379f3ba_6e84_11eb_ad78_0242ac1c0002row4_col19\" class=\"data row4 col19\" >0.232923</td>\n",
              "                        <td id=\"T_4379f3ba_6e84_11eb_ad78_0242ac1c0002row4_col20\" class=\"data row4 col20\" >0.816414</td>\n",
              "                        <td id=\"T_4379f3ba_6e84_11eb_ad78_0242ac1c0002row4_col21\" class=\"data row4 col21\" >0.182004</td>\n",
              "            </tr>\n",
              "            <tr>\n",
              "                        <th id=\"T_4379f3ba_6e84_11eb_ad78_0242ac1c0002level0_row5\" class=\"row_heading level0 row5\" >FGM</th>\n",
              "                        <td id=\"T_4379f3ba_6e84_11eb_ad78_0242ac1c0002row5_col0\" class=\"data row5 col0\" >0.023845</td>\n",
              "                        <td id=\"T_4379f3ba_6e84_11eb_ad78_0242ac1c0002row5_col1\" class=\"data row5 col1\" >0.001812</td>\n",
              "                        <td id=\"T_4379f3ba_6e84_11eb_ad78_0242ac1c0002row5_col2\" class=\"data row5 col2\" >0.577697</td>\n",
              "                        <td id=\"T_4379f3ba_6e84_11eb_ad78_0242ac1c0002row5_col3\" class=\"data row5 col3\" >0.895957</td>\n",
              "                        <td id=\"T_4379f3ba_6e84_11eb_ad78_0242ac1c0002row5_col4\" class=\"data row5 col4\" >0.989208</td>\n",
              "                        <td id=\"T_4379f3ba_6e84_11eb_ad78_0242ac1c0002row5_col5\" class=\"data row5 col5\" >1.000000</td>\n",
              "                        <td id=\"T_4379f3ba_6e84_11eb_ad78_0242ac1c0002row5_col6\" class=\"data row5 col6\" >0.972670</td>\n",
              "                        <td id=\"T_4379f3ba_6e84_11eb_ad78_0242ac1c0002row5_col7\" class=\"data row5 col7\" >0.343140</td>\n",
              "                        <td id=\"T_4379f3ba_6e84_11eb_ad78_0242ac1c0002row5_col8\" class=\"data row5 col8\" >0.288906</td>\n",
              "                        <td id=\"T_4379f3ba_6e84_11eb_ad78_0242ac1c0002row5_col9\" class=\"data row5 col9\" >0.299300</td>\n",
              "                        <td id=\"T_4379f3ba_6e84_11eb_ad78_0242ac1c0002row5_col10\" class=\"data row5 col10\" >0.123230</td>\n",
              "                        <td id=\"T_4379f3ba_6e84_11eb_ad78_0242ac1c0002row5_col11\" class=\"data row5 col11\" >0.810273</td>\n",
              "                        <td id=\"T_4379f3ba_6e84_11eb_ad78_0242ac1c0002row5_col12\" class=\"data row5 col12\" >0.798366</td>\n",
              "                        <td id=\"T_4379f3ba_6e84_11eb_ad78_0242ac1c0002row5_col13\" class=\"data row5 col13\" >0.208038</td>\n",
              "                        <td id=\"T_4379f3ba_6e84_11eb_ad78_0242ac1c0002row5_col14\" class=\"data row5 col14\" >0.565086</td>\n",
              "                        <td id=\"T_4379f3ba_6e84_11eb_ad78_0242ac1c0002row5_col15\" class=\"data row5 col15\" >0.699456</td>\n",
              "                        <td id=\"T_4379f3ba_6e84_11eb_ad78_0242ac1c0002row5_col16\" class=\"data row5 col16\" >0.689229</td>\n",
              "                        <td id=\"T_4379f3ba_6e84_11eb_ad78_0242ac1c0002row5_col17\" class=\"data row5 col17\" >0.550682</td>\n",
              "                        <td id=\"T_4379f3ba_6e84_11eb_ad78_0242ac1c0002row5_col18\" class=\"data row5 col18\" >0.663419</td>\n",
              "                        <td id=\"T_4379f3ba_6e84_11eb_ad78_0242ac1c0002row5_col19\" class=\"data row5 col19\" >0.245199</td>\n",
              "                        <td id=\"T_4379f3ba_6e84_11eb_ad78_0242ac1c0002row5_col20\" class=\"data row5 col20\" >0.799119</td>\n",
              "                        <td id=\"T_4379f3ba_6e84_11eb_ad78_0242ac1c0002row5_col21\" class=\"data row5 col21\" >0.183568</td>\n",
              "            </tr>\n",
              "            <tr>\n",
              "                        <th id=\"T_4379f3ba_6e84_11eb_ad78_0242ac1c0002level0_row6\" class=\"row_heading level0 row6\" >FGA</th>\n",
              "                        <td id=\"T_4379f3ba_6e84_11eb_ad78_0242ac1c0002row6_col0\" class=\"data row6 col0\" >0.024341</td>\n",
              "                        <td id=\"T_4379f3ba_6e84_11eb_ad78_0242ac1c0002row6_col1\" class=\"data row6 col1\" >0.000376</td>\n",
              "                        <td id=\"T_4379f3ba_6e84_11eb_ad78_0242ac1c0002row6_col2\" class=\"data row6 col2\" >0.553374</td>\n",
              "                        <td id=\"T_4379f3ba_6e84_11eb_ad78_0242ac1c0002row6_col3\" class=\"data row6 col3\" >0.895085</td>\n",
              "                        <td id=\"T_4379f3ba_6e84_11eb_ad78_0242ac1c0002row6_col4\" class=\"data row6 col4\" >0.973297</td>\n",
              "                        <td id=\"T_4379f3ba_6e84_11eb_ad78_0242ac1c0002row6_col5\" class=\"data row6 col5\" >0.972670</td>\n",
              "                        <td id=\"T_4379f3ba_6e84_11eb_ad78_0242ac1c0002row6_col6\" class=\"data row6 col6\" >1.000000</td>\n",
              "                        <td id=\"T_4379f3ba_6e84_11eb_ad78_0242ac1c0002row6_col7\" class=\"data row6 col7\" >0.140998</td>\n",
              "                        <td id=\"T_4379f3ba_6e84_11eb_ad78_0242ac1c0002row6_col8\" class=\"data row6 col8\" >0.373362</td>\n",
              "                        <td id=\"T_4379f3ba_6e84_11eb_ad78_0242ac1c0002row6_col9\" class=\"data row6 col9\" >0.399025</td>\n",
              "                        <td id=\"T_4379f3ba_6e84_11eb_ad78_0242ac1c0002row6_col10\" class=\"data row6 col10\" >0.203040</td>\n",
              "                        <td id=\"T_4379f3ba_6e84_11eb_ad78_0242ac1c0002row6_col11\" class=\"data row6 col11\" >0.787989</td>\n",
              "                        <td id=\"T_4379f3ba_6e84_11eb_ad78_0242ac1c0002row6_col12\" class=\"data row6 col12\" >0.761174</td>\n",
              "                        <td id=\"T_4379f3ba_6e84_11eb_ad78_0242ac1c0002row6_col13\" class=\"data row6 col13\" >0.263515</td>\n",
              "                        <td id=\"T_4379f3ba_6e84_11eb_ad78_0242ac1c0002row6_col14\" class=\"data row6 col14\" >0.464325</td>\n",
              "                        <td id=\"T_4379f3ba_6e84_11eb_ad78_0242ac1c0002row6_col15\" class=\"data row6 col15\" >0.635072</td>\n",
              "                        <td id=\"T_4379f3ba_6e84_11eb_ad78_0242ac1c0002row6_col16\" class=\"data row6 col16\" >0.607930</td>\n",
              "                        <td id=\"T_4379f3ba_6e84_11eb_ad78_0242ac1c0002row6_col17\" class=\"data row6 col17\" >0.619597</td>\n",
              "                        <td id=\"T_4379f3ba_6e84_11eb_ad78_0242ac1c0002row6_col18\" class=\"data row6 col18\" >0.689391</td>\n",
              "                        <td id=\"T_4379f3ba_6e84_11eb_ad78_0242ac1c0002row6_col19\" class=\"data row6 col19\" >0.191895</td>\n",
              "                        <td id=\"T_4379f3ba_6e84_11eb_ad78_0242ac1c0002row6_col20\" class=\"data row6 col20\" >0.816810</td>\n",
              "                        <td id=\"T_4379f3ba_6e84_11eb_ad78_0242ac1c0002row6_col21\" class=\"data row6 col21\" >0.162389</td>\n",
              "            </tr>\n",
              "            <tr>\n",
              "                        <th id=\"T_4379f3ba_6e84_11eb_ad78_0242ac1c0002level0_row7\" class=\"row_heading level0 row7\" >FG%</th>\n",
              "                        <td id=\"T_4379f3ba_6e84_11eb_ad78_0242ac1c0002row7_col0\" class=\"data row7 col0\" >0.009777</td>\n",
              "                        <td id=\"T_4379f3ba_6e84_11eb_ad78_0242ac1c0002row7_col1\" class=\"data row7 col1\" >0.010359</td>\n",
              "                        <td id=\"T_4379f3ba_6e84_11eb_ad78_0242ac1c0002row7_col2\" class=\"data row7 col2\" >0.278510</td>\n",
              "                        <td id=\"T_4379f3ba_6e84_11eb_ad78_0242ac1c0002row7_col3\" class=\"data row7 col3\" >0.234919</td>\n",
              "                        <td id=\"T_4379f3ba_6e84_11eb_ad78_0242ac1c0002row7_col4\" class=\"data row7 col4\" >0.301991</td>\n",
              "                        <td id=\"T_4379f3ba_6e84_11eb_ad78_0242ac1c0002row7_col5\" class=\"data row7 col5\" >0.343140</td>\n",
              "                        <td id=\"T_4379f3ba_6e84_11eb_ad78_0242ac1c0002row7_col6\" class=\"data row7 col6\" >0.140998</td>\n",
              "                        <td id=\"T_4379f3ba_6e84_11eb_ad78_0242ac1c0002row7_col7\" class=\"data row7 col7\" >1.000000</td>\n",
              "                        <td id=\"T_4379f3ba_6e84_11eb_ad78_0242ac1c0002row7_col8\" class=\"data row7 col8\" >-0.269994</td>\n",
              "                        <td id=\"T_4379f3ba_6e84_11eb_ad78_0242ac1c0002row7_col9\" class=\"data row7 col9\" >-0.330586</td>\n",
              "                        <td id=\"T_4379f3ba_6e84_11eb_ad78_0242ac1c0002row7_col10\" class=\"data row7 col10\" >-0.312446</td>\n",
              "                        <td id=\"T_4379f3ba_6e84_11eb_ad78_0242ac1c0002row7_col11\" class=\"data row7 col11\" >0.279252</td>\n",
              "                        <td id=\"T_4379f3ba_6e84_11eb_ad78_0242ac1c0002row7_col12\" class=\"data row7 col12\" >0.335512</td>\n",
              "                        <td id=\"T_4379f3ba_6e84_11eb_ad78_0242ac1c0002row7_col13\" class=\"data row7 col13\" >-0.187200</td>\n",
              "                        <td id=\"T_4379f3ba_6e84_11eb_ad78_0242ac1c0002row7_col14\" class=\"data row7 col14\" >0.539317</td>\n",
              "                        <td id=\"T_4379f3ba_6e84_11eb_ad78_0242ac1c0002row7_col15\" class=\"data row7 col15\" >0.429142</td>\n",
              "                        <td id=\"T_4379f3ba_6e84_11eb_ad78_0242ac1c0002row7_col16\" class=\"data row7 col16\" >0.490902</td>\n",
              "                        <td id=\"T_4379f3ba_6e84_11eb_ad78_0242ac1c0002row7_col17\" class=\"data row7 col17\" >-0.132006</td>\n",
              "                        <td id=\"T_4379f3ba_6e84_11eb_ad78_0242ac1c0002row7_col18\" class=\"data row7 col18\" >0.071364</td>\n",
              "                        <td id=\"T_4379f3ba_6e84_11eb_ad78_0242ac1c0002row7_col19\" class=\"data row7 col19\" >0.288155</td>\n",
              "                        <td id=\"T_4379f3ba_6e84_11eb_ad78_0242ac1c0002row7_col20\" class=\"data row7 col20\" >0.128622</td>\n",
              "                        <td id=\"T_4379f3ba_6e84_11eb_ad78_0242ac1c0002row7_col21\" class=\"data row7 col21\" >0.158858</td>\n",
              "            </tr>\n",
              "            <tr>\n",
              "                        <th id=\"T_4379f3ba_6e84_11eb_ad78_0242ac1c0002level0_row8\" class=\"row_heading level0 row8\" >3P_Made</th>\n",
              "                        <td id=\"T_4379f3ba_6e84_11eb_ad78_0242ac1c0002row8_col0\" class=\"data row8 col0\" >0.008947</td>\n",
              "                        <td id=\"T_4379f3ba_6e84_11eb_ad78_0242ac1c0002row8_col1\" class=\"data row8 col1\" >-0.009092</td>\n",
              "                        <td id=\"T_4379f3ba_6e84_11eb_ad78_0242ac1c0002row8_col2\" class=\"data row8 col2\" >0.123231</td>\n",
              "                        <td id=\"T_4379f3ba_6e84_11eb_ad78_0242ac1c0002row8_col3\" class=\"data row8 col3\" >0.358597</td>\n",
              "                        <td id=\"T_4379f3ba_6e84_11eb_ad78_0242ac1c0002row8_col4\" class=\"data row8 col4\" >0.337786</td>\n",
              "                        <td id=\"T_4379f3ba_6e84_11eb_ad78_0242ac1c0002row8_col5\" class=\"data row8 col5\" >0.288906</td>\n",
              "                        <td id=\"T_4379f3ba_6e84_11eb_ad78_0242ac1c0002row8_col6\" class=\"data row8 col6\" >0.373362</td>\n",
              "                        <td id=\"T_4379f3ba_6e84_11eb_ad78_0242ac1c0002row8_col7\" class=\"data row8 col7\" >-0.269994</td>\n",
              "                        <td id=\"T_4379f3ba_6e84_11eb_ad78_0242ac1c0002row8_col8\" class=\"data row8 col8\" >1.000000</td>\n",
              "                        <td id=\"T_4379f3ba_6e84_11eb_ad78_0242ac1c0002row8_col9\" class=\"data row8 col9\" >0.979340</td>\n",
              "                        <td id=\"T_4379f3ba_6e84_11eb_ad78_0242ac1c0002row8_col10\" class=\"data row8 col10\" >0.585280</td>\n",
              "                        <td id=\"T_4379f3ba_6e84_11eb_ad78_0242ac1c0002row8_col11\" class=\"data row8 col11\" >0.149567</td>\n",
              "                        <td id=\"T_4379f3ba_6e84_11eb_ad78_0242ac1c0002row8_col12\" class=\"data row8 col12\" >0.088516</td>\n",
              "                        <td id=\"T_4379f3ba_6e84_11eb_ad78_0242ac1c0002row8_col13\" class=\"data row8 col13\" >0.320845</td>\n",
              "                        <td id=\"T_4379f3ba_6e84_11eb_ad78_0242ac1c0002row8_col14\" class=\"data row8 col14\" >-0.200575</td>\n",
              "                        <td id=\"T_4379f3ba_6e84_11eb_ad78_0242ac1c0002row8_col15\" class=\"data row8 col15\" >0.076694</td>\n",
              "                        <td id=\"T_4379f3ba_6e84_11eb_ad78_0242ac1c0002row8_col16\" class=\"data row8 col16\" >-0.014098</td>\n",
              "                        <td id=\"T_4379f3ba_6e84_11eb_ad78_0242ac1c0002row8_col17\" class=\"data row8 col17\" >0.375967</td>\n",
              "                        <td id=\"T_4379f3ba_6e84_11eb_ad78_0242ac1c0002row8_col18\" class=\"data row8 col18\" >0.305817</td>\n",
              "                        <td id=\"T_4379f3ba_6e84_11eb_ad78_0242ac1c0002row8_col19\" class=\"data row8 col19\" >-0.094750</td>\n",
              "                        <td id=\"T_4379f3ba_6e84_11eb_ad78_0242ac1c0002row8_col20\" class=\"data row8 col20\" >0.231413</td>\n",
              "                        <td id=\"T_4379f3ba_6e84_11eb_ad78_0242ac1c0002row8_col21\" class=\"data row8 col21\" >0.015016</td>\n",
              "            </tr>\n",
              "            <tr>\n",
              "                        <th id=\"T_4379f3ba_6e84_11eb_ad78_0242ac1c0002level0_row9\" class=\"row_heading level0 row9\" >3PA</th>\n",
              "                        <td id=\"T_4379f3ba_6e84_11eb_ad78_0242ac1c0002row9_col0\" class=\"data row9 col0\" >0.009524</td>\n",
              "                        <td id=\"T_4379f3ba_6e84_11eb_ad78_0242ac1c0002row9_col1\" class=\"data row9 col1\" >-0.005847</td>\n",
              "                        <td id=\"T_4379f3ba_6e84_11eb_ad78_0242ac1c0002row9_col2\" class=\"data row9 col2\" >0.119146</td>\n",
              "                        <td id=\"T_4379f3ba_6e84_11eb_ad78_0242ac1c0002row9_col3\" class=\"data row9 col3\" >0.372454</td>\n",
              "                        <td id=\"T_4379f3ba_6e84_11eb_ad78_0242ac1c0002row9_col4\" class=\"data row9 col4\" >0.349452</td>\n",
              "                        <td id=\"T_4379f3ba_6e84_11eb_ad78_0242ac1c0002row9_col5\" class=\"data row9 col5\" >0.299300</td>\n",
              "                        <td id=\"T_4379f3ba_6e84_11eb_ad78_0242ac1c0002row9_col6\" class=\"data row9 col6\" >0.399025</td>\n",
              "                        <td id=\"T_4379f3ba_6e84_11eb_ad78_0242ac1c0002row9_col7\" class=\"data row9 col7\" >-0.330586</td>\n",
              "                        <td id=\"T_4379f3ba_6e84_11eb_ad78_0242ac1c0002row9_col8\" class=\"data row9 col8\" >0.979340</td>\n",
              "                        <td id=\"T_4379f3ba_6e84_11eb_ad78_0242ac1c0002row9_col9\" class=\"data row9 col9\" >1.000000</td>\n",
              "                        <td id=\"T_4379f3ba_6e84_11eb_ad78_0242ac1c0002row9_col10\" class=\"data row9 col10\" >0.576168</td>\n",
              "                        <td id=\"T_4379f3ba_6e84_11eb_ad78_0242ac1c0002row9_col11\" class=\"data row9 col11\" >0.165116</td>\n",
              "                        <td id=\"T_4379f3ba_6e84_11eb_ad78_0242ac1c0002row9_col12\" class=\"data row9 col12\" >0.101186</td>\n",
              "                        <td id=\"T_4379f3ba_6e84_11eb_ad78_0242ac1c0002row9_col13\" class=\"data row9 col13\" >0.335011</td>\n",
              "                        <td id=\"T_4379f3ba_6e84_11eb_ad78_0242ac1c0002row9_col14\" class=\"data row9 col14\" >-0.213506</td>\n",
              "                        <td id=\"T_4379f3ba_6e84_11eb_ad78_0242ac1c0002row9_col15\" class=\"data row9 col15\" >0.069782</td>\n",
              "                        <td id=\"T_4379f3ba_6e84_11eb_ad78_0242ac1c0002row9_col16\" class=\"data row9 col16\" >-0.023208</td>\n",
              "                        <td id=\"T_4379f3ba_6e84_11eb_ad78_0242ac1c0002row9_col17\" class=\"data row9 col17\" >0.409646</td>\n",
              "                        <td id=\"T_4379f3ba_6e84_11eb_ad78_0242ac1c0002row9_col18\" class=\"data row9 col18\" >0.337407</td>\n",
              "                        <td id=\"T_4379f3ba_6e84_11eb_ad78_0242ac1c0002row9_col19\" class=\"data row9 col19\" >-0.101143</td>\n",
              "                        <td id=\"T_4379f3ba_6e84_11eb_ad78_0242ac1c0002row9_col20\" class=\"data row9 col20\" >0.255422</td>\n",
              "                        <td id=\"T_4379f3ba_6e84_11eb_ad78_0242ac1c0002row9_col21\" class=\"data row9 col21\" >0.003463</td>\n",
              "            </tr>\n",
              "            <tr>\n",
              "                        <th id=\"T_4379f3ba_6e84_11eb_ad78_0242ac1c0002level0_row10\" class=\"row_heading level0 row10\" >3P%</th>\n",
              "                        <td id=\"T_4379f3ba_6e84_11eb_ad78_0242ac1c0002row10_col0\" class=\"data row10 col0\" >-0.005559</td>\n",
              "                        <td id=\"T_4379f3ba_6e84_11eb_ad78_0242ac1c0002row10_col1\" class=\"data row10 col1\" >-0.001710</td>\n",
              "                        <td id=\"T_4379f3ba_6e84_11eb_ad78_0242ac1c0002row10_col2\" class=\"data row10 col2\" >0.045434</td>\n",
              "                        <td id=\"T_4379f3ba_6e84_11eb_ad78_0242ac1c0002row10_col3\" class=\"data row10 col3\" >0.153846</td>\n",
              "                        <td id=\"T_4379f3ba_6e84_11eb_ad78_0242ac1c0002row10_col4\" class=\"data row10 col4\" >0.156044</td>\n",
              "                        <td id=\"T_4379f3ba_6e84_11eb_ad78_0242ac1c0002row10_col5\" class=\"data row10 col5\" >0.123230</td>\n",
              "                        <td id=\"T_4379f3ba_6e84_11eb_ad78_0242ac1c0002row10_col6\" class=\"data row10 col6\" >0.203040</td>\n",
              "                        <td id=\"T_4379f3ba_6e84_11eb_ad78_0242ac1c0002row10_col7\" class=\"data row10 col7\" >-0.312446</td>\n",
              "                        <td id=\"T_4379f3ba_6e84_11eb_ad78_0242ac1c0002row10_col8\" class=\"data row10 col8\" >0.585280</td>\n",
              "                        <td id=\"T_4379f3ba_6e84_11eb_ad78_0242ac1c0002row10_col9\" class=\"data row10 col9\" >0.576168</td>\n",
              "                        <td id=\"T_4379f3ba_6e84_11eb_ad78_0242ac1c0002row10_col10\" class=\"data row10 col10\" >1.000000</td>\n",
              "                        <td id=\"T_4379f3ba_6e84_11eb_ad78_0242ac1c0002row10_col11\" class=\"data row10 col11\" >0.013036</td>\n",
              "                        <td id=\"T_4379f3ba_6e84_11eb_ad78_0242ac1c0002row10_col12\" class=\"data row10 col12\" >-0.054517</td>\n",
              "                        <td id=\"T_4379f3ba_6e84_11eb_ad78_0242ac1c0002row10_col13\" class=\"data row10 col13\" >0.339894</td>\n",
              "                        <td id=\"T_4379f3ba_6e84_11eb_ad78_0242ac1c0002row10_col14\" class=\"data row10 col14\" >-0.297108</td>\n",
              "                        <td id=\"T_4379f3ba_6e84_11eb_ad78_0242ac1c0002row10_col15\" class=\"data row10 col15\" >-0.105370</td>\n",
              "                        <td id=\"T_4379f3ba_6e84_11eb_ad78_0242ac1c0002row10_col16\" class=\"data row10 col16\" >-0.181554</td>\n",
              "                        <td id=\"T_4379f3ba_6e84_11eb_ad78_0242ac1c0002row10_col17\" class=\"data row10 col17\" >0.291623</td>\n",
              "                        <td id=\"T_4379f3ba_6e84_11eb_ad78_0242ac1c0002row10_col18\" class=\"data row10 col18\" >0.195759</td>\n",
              "                        <td id=\"T_4379f3ba_6e84_11eb_ad78_0242ac1c0002row10_col19\" class=\"data row10 col19\" >-0.169376</td>\n",
              "                        <td id=\"T_4379f3ba_6e84_11eb_ad78_0242ac1c0002row10_col20\" class=\"data row10 col20\" >0.095169</td>\n",
              "                        <td id=\"T_4379f3ba_6e84_11eb_ad78_0242ac1c0002row10_col21\" class=\"data row10 col21\" >-0.011977</td>\n",
              "            </tr>\n",
              "            <tr>\n",
              "                        <th id=\"T_4379f3ba_6e84_11eb_ad78_0242ac1c0002level0_row11\" class=\"row_heading level0 row11\" >FTM</th>\n",
              "                        <td id=\"T_4379f3ba_6e84_11eb_ad78_0242ac1c0002row11_col0\" class=\"data row11 col0\" >0.020854</td>\n",
              "                        <td id=\"T_4379f3ba_6e84_11eb_ad78_0242ac1c0002row11_col1\" class=\"data row11 col1\" >0.008232</td>\n",
              "                        <td id=\"T_4379f3ba_6e84_11eb_ad78_0242ac1c0002row11_col2\" class=\"data row11 col2\" >0.524276</td>\n",
              "                        <td id=\"T_4379f3ba_6e84_11eb_ad78_0242ac1c0002row11_col3\" class=\"data row11 col3\" >0.767647</td>\n",
              "                        <td id=\"T_4379f3ba_6e84_11eb_ad78_0242ac1c0002row11_col4\" class=\"data row11 col4\" >0.864463</td>\n",
              "                        <td id=\"T_4379f3ba_6e84_11eb_ad78_0242ac1c0002row11_col5\" class=\"data row11 col5\" >0.810273</td>\n",
              "                        <td id=\"T_4379f3ba_6e84_11eb_ad78_0242ac1c0002row11_col6\" class=\"data row11 col6\" >0.787989</td>\n",
              "                        <td id=\"T_4379f3ba_6e84_11eb_ad78_0242ac1c0002row11_col7\" class=\"data row11 col7\" >0.279252</td>\n",
              "                        <td id=\"T_4379f3ba_6e84_11eb_ad78_0242ac1c0002row11_col8\" class=\"data row11 col8\" >0.149567</td>\n",
              "                        <td id=\"T_4379f3ba_6e84_11eb_ad78_0242ac1c0002row11_col9\" class=\"data row11 col9\" >0.165116</td>\n",
              "                        <td id=\"T_4379f3ba_6e84_11eb_ad78_0242ac1c0002row11_col10\" class=\"data row11 col10\" >0.013036</td>\n",
              "                        <td id=\"T_4379f3ba_6e84_11eb_ad78_0242ac1c0002row11_col11\" class=\"data row11 col11\" >1.000000</td>\n",
              "                        <td id=\"T_4379f3ba_6e84_11eb_ad78_0242ac1c0002row11_col12\" class=\"data row11 col12\" >0.975611</td>\n",
              "                        <td id=\"T_4379f3ba_6e84_11eb_ad78_0242ac1c0002row11_col13\" class=\"data row11 col13\" >0.274606</td>\n",
              "                        <td id=\"T_4379f3ba_6e84_11eb_ad78_0242ac1c0002row11_col14\" class=\"data row11 col14\" >0.544742</td>\n",
              "                        <td id=\"T_4379f3ba_6e84_11eb_ad78_0242ac1c0002row11_col15\" class=\"data row11 col15\" >0.619711</td>\n",
              "                        <td id=\"T_4379f3ba_6e84_11eb_ad78_0242ac1c0002row11_col16\" class=\"data row11 col16\" >0.625154</td>\n",
              "                        <td id=\"T_4379f3ba_6e84_11eb_ad78_0242ac1c0002row11_col17\" class=\"data row11 col17\" >0.486761</td>\n",
              "                        <td id=\"T_4379f3ba_6e84_11eb_ad78_0242ac1c0002row11_col18\" class=\"data row11 col18\" >0.591616</td>\n",
              "                        <td id=\"T_4379f3ba_6e84_11eb_ad78_0242ac1c0002row11_col19\" class=\"data row11 col19\" >0.221537</td>\n",
              "                        <td id=\"T_4379f3ba_6e84_11eb_ad78_0242ac1c0002row11_col20\" class=\"data row11 col20\" >0.771939</td>\n",
              "                        <td id=\"T_4379f3ba_6e84_11eb_ad78_0242ac1c0002row11_col21\" class=\"data row11 col21\" >0.173913</td>\n",
              "            </tr>\n",
              "            <tr>\n",
              "                        <th id=\"T_4379f3ba_6e84_11eb_ad78_0242ac1c0002level0_row12\" class=\"row_heading level0 row12\" >FTA</th>\n",
              "                        <td id=\"T_4379f3ba_6e84_11eb_ad78_0242ac1c0002row12_col0\" class=\"data row12 col0\" >0.017460</td>\n",
              "                        <td id=\"T_4379f3ba_6e84_11eb_ad78_0242ac1c0002row12_col1\" class=\"data row12 col1\" >0.008845</td>\n",
              "                        <td id=\"T_4379f3ba_6e84_11eb_ad78_0242ac1c0002row12_col2\" class=\"data row12 col2\" >0.519154</td>\n",
              "                        <td id=\"T_4379f3ba_6e84_11eb_ad78_0242ac1c0002row12_col3\" class=\"data row12 col3\" >0.753660</td>\n",
              "                        <td id=\"T_4379f3ba_6e84_11eb_ad78_0242ac1c0002row12_col4\" class=\"data row12 col4\" >0.842903</td>\n",
              "                        <td id=\"T_4379f3ba_6e84_11eb_ad78_0242ac1c0002row12_col5\" class=\"data row12 col5\" >0.798366</td>\n",
              "                        <td id=\"T_4379f3ba_6e84_11eb_ad78_0242ac1c0002row12_col6\" class=\"data row12 col6\" >0.761174</td>\n",
              "                        <td id=\"T_4379f3ba_6e84_11eb_ad78_0242ac1c0002row12_col7\" class=\"data row12 col7\" >0.335512</td>\n",
              "                        <td id=\"T_4379f3ba_6e84_11eb_ad78_0242ac1c0002row12_col8\" class=\"data row12 col8\" >0.088516</td>\n",
              "                        <td id=\"T_4379f3ba_6e84_11eb_ad78_0242ac1c0002row12_col9\" class=\"data row12 col9\" >0.101186</td>\n",
              "                        <td id=\"T_4379f3ba_6e84_11eb_ad78_0242ac1c0002row12_col10\" class=\"data row12 col10\" >-0.054517</td>\n",
              "                        <td id=\"T_4379f3ba_6e84_11eb_ad78_0242ac1c0002row12_col11\" class=\"data row12 col11\" >0.975611</td>\n",
              "                        <td id=\"T_4379f3ba_6e84_11eb_ad78_0242ac1c0002row12_col12\" class=\"data row12 col12\" >1.000000</td>\n",
              "                        <td id=\"T_4379f3ba_6e84_11eb_ad78_0242ac1c0002row12_col13\" class=\"data row12 col13\" >0.098091</td>\n",
              "                        <td id=\"T_4379f3ba_6e84_11eb_ad78_0242ac1c0002row12_col14\" class=\"data row12 col14\" >0.616218</td>\n",
              "                        <td id=\"T_4379f3ba_6e84_11eb_ad78_0242ac1c0002row12_col15\" class=\"data row12 col15\" >0.658778</td>\n",
              "                        <td id=\"T_4379f3ba_6e84_11eb_ad78_0242ac1c0002row12_col16\" class=\"data row12 col16\" >0.678932</td>\n",
              "                        <td id=\"T_4379f3ba_6e84_11eb_ad78_0242ac1c0002row12_col17\" class=\"data row12 col17\" >0.436225</td>\n",
              "                        <td id=\"T_4379f3ba_6e84_11eb_ad78_0242ac1c0002row12_col18\" class=\"data row12 col18\" >0.572355</td>\n",
              "                        <td id=\"T_4379f3ba_6e84_11eb_ad78_0242ac1c0002row12_col19\" class=\"data row12 col19\" >0.261547</td>\n",
              "                        <td id=\"T_4379f3ba_6e84_11eb_ad78_0242ac1c0002row12_col20\" class=\"data row12 col20\" >0.762837</td>\n",
              "                        <td id=\"T_4379f3ba_6e84_11eb_ad78_0242ac1c0002row12_col21\" class=\"data row12 col21\" >0.176525</td>\n",
              "            </tr>\n",
              "            <tr>\n",
              "                        <th id=\"T_4379f3ba_6e84_11eb_ad78_0242ac1c0002level0_row13\" class=\"row_heading level0 row13\" >FT%</th>\n",
              "                        <td id=\"T_4379f3ba_6e84_11eb_ad78_0242ac1c0002row13_col0\" class=\"data row13 col0\" >0.018887</td>\n",
              "                        <td id=\"T_4379f3ba_6e84_11eb_ad78_0242ac1c0002row13_col1\" class=\"data row13 col1\" >-0.003565</td>\n",
              "                        <td id=\"T_4379f3ba_6e84_11eb_ad78_0242ac1c0002row13_col2\" class=\"data row13 col2\" >0.155667</td>\n",
              "                        <td id=\"T_4379f3ba_6e84_11eb_ad78_0242ac1c0002row13_col3\" class=\"data row13 col3\" >0.212366</td>\n",
              "                        <td id=\"T_4379f3ba_6e84_11eb_ad78_0242ac1c0002row13_col4\" class=\"data row13 col4\" >0.257157</td>\n",
              "                        <td id=\"T_4379f3ba_6e84_11eb_ad78_0242ac1c0002row13_col5\" class=\"data row13 col5\" >0.208038</td>\n",
              "                        <td id=\"T_4379f3ba_6e84_11eb_ad78_0242ac1c0002row13_col6\" class=\"data row13 col6\" >0.263515</td>\n",
              "                        <td id=\"T_4379f3ba_6e84_11eb_ad78_0242ac1c0002row13_col7\" class=\"data row13 col7\" >-0.187200</td>\n",
              "                        <td id=\"T_4379f3ba_6e84_11eb_ad78_0242ac1c0002row13_col8\" class=\"data row13 col8\" >0.320845</td>\n",
              "                        <td id=\"T_4379f3ba_6e84_11eb_ad78_0242ac1c0002row13_col9\" class=\"data row13 col9\" >0.335011</td>\n",
              "                        <td id=\"T_4379f3ba_6e84_11eb_ad78_0242ac1c0002row13_col10\" class=\"data row13 col10\" >0.339894</td>\n",
              "                        <td id=\"T_4379f3ba_6e84_11eb_ad78_0242ac1c0002row13_col11\" class=\"data row13 col11\" >0.274606</td>\n",
              "                        <td id=\"T_4379f3ba_6e84_11eb_ad78_0242ac1c0002row13_col12\" class=\"data row13 col12\" >0.098091</td>\n",
              "                        <td id=\"T_4379f3ba_6e84_11eb_ad78_0242ac1c0002row13_col13\" class=\"data row13 col13\" >1.000000</td>\n",
              "                        <td id=\"T_4379f3ba_6e84_11eb_ad78_0242ac1c0002row13_col14\" class=\"data row13 col14\" >-0.190785</td>\n",
              "                        <td id=\"T_4379f3ba_6e84_11eb_ad78_0242ac1c0002row13_col15\" class=\"data row13 col15\" >-0.042316</td>\n",
              "                        <td id=\"T_4379f3ba_6e84_11eb_ad78_0242ac1c0002row13_col16\" class=\"data row13 col16\" >-0.098987</td>\n",
              "                        <td id=\"T_4379f3ba_6e84_11eb_ad78_0242ac1c0002row13_col17\" class=\"data row13 col17\" >0.306042</td>\n",
              "                        <td id=\"T_4379f3ba_6e84_11eb_ad78_0242ac1c0002row13_col18\" class=\"data row13 col18\" >0.196138</td>\n",
              "                        <td id=\"T_4379f3ba_6e84_11eb_ad78_0242ac1c0002row13_col19\" class=\"data row13 col19\" >-0.150871</td>\n",
              "                        <td id=\"T_4379f3ba_6e84_11eb_ad78_0242ac1c0002row13_col20\" class=\"data row13 col20\" >0.179152</td>\n",
              "                        <td id=\"T_4379f3ba_6e84_11eb_ad78_0242ac1c0002row13_col21\" class=\"data row13 col21\" >0.039429</td>\n",
              "            </tr>\n",
              "            <tr>\n",
              "                        <th id=\"T_4379f3ba_6e84_11eb_ad78_0242ac1c0002level0_row14\" class=\"row_heading level0 row14\" >OREB</th>\n",
              "                        <td id=\"T_4379f3ba_6e84_11eb_ad78_0242ac1c0002row14_col0\" class=\"data row14 col0\" >0.014007</td>\n",
              "                        <td id=\"T_4379f3ba_6e84_11eb_ad78_0242ac1c0002row14_col1\" class=\"data row14 col1\" >-0.004322</td>\n",
              "                        <td id=\"T_4379f3ba_6e84_11eb_ad78_0242ac1c0002row14_col2\" class=\"data row14 col2\" >0.402654</td>\n",
              "                        <td id=\"T_4379f3ba_6e84_11eb_ad78_0242ac1c0002row14_col3\" class=\"data row14 col3\" >0.542782</td>\n",
              "                        <td id=\"T_4379f3ba_6e84_11eb_ad78_0242ac1c0002row14_col4\" class=\"data row14 col4\" >0.539289</td>\n",
              "                        <td id=\"T_4379f3ba_6e84_11eb_ad78_0242ac1c0002row14_col5\" class=\"data row14 col5\" >0.565086</td>\n",
              "                        <td id=\"T_4379f3ba_6e84_11eb_ad78_0242ac1c0002row14_col6\" class=\"data row14 col6\" >0.464325</td>\n",
              "                        <td id=\"T_4379f3ba_6e84_11eb_ad78_0242ac1c0002row14_col7\" class=\"data row14 col7\" >0.539317</td>\n",
              "                        <td id=\"T_4379f3ba_6e84_11eb_ad78_0242ac1c0002row14_col8\" class=\"data row14 col8\" >-0.200575</td>\n",
              "                        <td id=\"T_4379f3ba_6e84_11eb_ad78_0242ac1c0002row14_col9\" class=\"data row14 col9\" >-0.213506</td>\n",
              "                        <td id=\"T_4379f3ba_6e84_11eb_ad78_0242ac1c0002row14_col10\" class=\"data row14 col10\" >-0.297108</td>\n",
              "                        <td id=\"T_4379f3ba_6e84_11eb_ad78_0242ac1c0002row14_col11\" class=\"data row14 col11\" >0.544742</td>\n",
              "                        <td id=\"T_4379f3ba_6e84_11eb_ad78_0242ac1c0002row14_col12\" class=\"data row14 col12\" >0.616218</td>\n",
              "                        <td id=\"T_4379f3ba_6e84_11eb_ad78_0242ac1c0002row14_col13\" class=\"data row14 col13\" >-0.190785</td>\n",
              "                        <td id=\"T_4379f3ba_6e84_11eb_ad78_0242ac1c0002row14_col14\" class=\"data row14 col14\" >1.000000</td>\n",
              "                        <td id=\"T_4379f3ba_6e84_11eb_ad78_0242ac1c0002row14_col15\" class=\"data row14 col15\" >0.778602</td>\n",
              "                        <td id=\"T_4379f3ba_6e84_11eb_ad78_0242ac1c0002row14_col16\" class=\"data row14 col16\" >0.897889</td>\n",
              "                        <td id=\"T_4379f3ba_6e84_11eb_ad78_0242ac1c0002row14_col17\" class=\"data row14 col17\" >-0.003037</td>\n",
              "                        <td id=\"T_4379f3ba_6e84_11eb_ad78_0242ac1c0002row14_col18\" class=\"data row14 col18\" >0.290161</td>\n",
              "                        <td id=\"T_4379f3ba_6e84_11eb_ad78_0242ac1c0002row14_col19\" class=\"data row14 col19\" >0.430952</td>\n",
              "                        <td id=\"T_4379f3ba_6e84_11eb_ad78_0242ac1c0002row14_col20\" class=\"data row14 col20\" >0.378683</td>\n",
              "                        <td id=\"T_4379f3ba_6e84_11eb_ad78_0242ac1c0002row14_col21\" class=\"data row14 col21\" >0.172604</td>\n",
              "            </tr>\n",
              "            <tr>\n",
              "                        <th id=\"T_4379f3ba_6e84_11eb_ad78_0242ac1c0002level0_row15\" class=\"row_heading level0 row15\" >DREB</th>\n",
              "                        <td id=\"T_4379f3ba_6e84_11eb_ad78_0242ac1c0002row15_col0\" class=\"data row15 col0\" >0.018180</td>\n",
              "                        <td id=\"T_4379f3ba_6e84_11eb_ad78_0242ac1c0002row15_col1\" class=\"data row15 col1\" >-0.004517</td>\n",
              "                        <td id=\"T_4379f3ba_6e84_11eb_ad78_0242ac1c0002row15_col2\" class=\"data row15 col2\" >0.492070</td>\n",
              "                        <td id=\"T_4379f3ba_6e84_11eb_ad78_0242ac1c0002row15_col3\" class=\"data row15 col3\" >0.770128</td>\n",
              "                        <td id=\"T_4379f3ba_6e84_11eb_ad78_0242ac1c0002row15_col4\" class=\"data row15 col4\" >0.690687</td>\n",
              "                        <td id=\"T_4379f3ba_6e84_11eb_ad78_0242ac1c0002row15_col5\" class=\"data row15 col5\" >0.699456</td>\n",
              "                        <td id=\"T_4379f3ba_6e84_11eb_ad78_0242ac1c0002row15_col6\" class=\"data row15 col6\" >0.635072</td>\n",
              "                        <td id=\"T_4379f3ba_6e84_11eb_ad78_0242ac1c0002row15_col7\" class=\"data row15 col7\" >0.429142</td>\n",
              "                        <td id=\"T_4379f3ba_6e84_11eb_ad78_0242ac1c0002row15_col8\" class=\"data row15 col8\" >0.076694</td>\n",
              "                        <td id=\"T_4379f3ba_6e84_11eb_ad78_0242ac1c0002row15_col9\" class=\"data row15 col9\" >0.069782</td>\n",
              "                        <td id=\"T_4379f3ba_6e84_11eb_ad78_0242ac1c0002row15_col10\" class=\"data row15 col10\" >-0.105370</td>\n",
              "                        <td id=\"T_4379f3ba_6e84_11eb_ad78_0242ac1c0002row15_col11\" class=\"data row15 col11\" >0.619711</td>\n",
              "                        <td id=\"T_4379f3ba_6e84_11eb_ad78_0242ac1c0002row15_col12\" class=\"data row15 col12\" >0.658778</td>\n",
              "                        <td id=\"T_4379f3ba_6e84_11eb_ad78_0242ac1c0002row15_col13\" class=\"data row15 col13\" >-0.042316</td>\n",
              "                        <td id=\"T_4379f3ba_6e84_11eb_ad78_0242ac1c0002row15_col14\" class=\"data row15 col14\" >0.778602</td>\n",
              "                        <td id=\"T_4379f3ba_6e84_11eb_ad78_0242ac1c0002row15_col15\" class=\"data row15 col15\" >1.000000</td>\n",
              "                        <td id=\"T_4379f3ba_6e84_11eb_ad78_0242ac1c0002row15_col16\" class=\"data row15 col16\" >0.970105</td>\n",
              "                        <td id=\"T_4379f3ba_6e84_11eb_ad78_0242ac1c0002row15_col17\" class=\"data row15 col17\" >0.223116</td>\n",
              "                        <td id=\"T_4379f3ba_6e84_11eb_ad78_0242ac1c0002row15_col18\" class=\"data row15 col18\" >0.437507</td>\n",
              "                        <td id=\"T_4379f3ba_6e84_11eb_ad78_0242ac1c0002row15_col19\" class=\"data row15 col19\" >0.441530</td>\n",
              "                        <td id=\"T_4379f3ba_6e84_11eb_ad78_0242ac1c0002row15_col20\" class=\"data row15 col20\" >0.548209</td>\n",
              "                        <td id=\"T_4379f3ba_6e84_11eb_ad78_0242ac1c0002row15_col21\" class=\"data row15 col21\" >0.168065</td>\n",
              "            </tr>\n",
              "            <tr>\n",
              "                        <th id=\"T_4379f3ba_6e84_11eb_ad78_0242ac1c0002level0_row16\" class=\"row_heading level0 row16\" >REB</th>\n",
              "                        <td id=\"T_4379f3ba_6e84_11eb_ad78_0242ac1c0002row16_col0\" class=\"data row16 col0\" >0.018471</td>\n",
              "                        <td id=\"T_4379f3ba_6e84_11eb_ad78_0242ac1c0002row16_col1\" class=\"data row16 col1\" >-0.004924</td>\n",
              "                        <td id=\"T_4379f3ba_6e84_11eb_ad78_0242ac1c0002row16_col2\" class=\"data row16 col2\" >0.484485</td>\n",
              "                        <td id=\"T_4379f3ba_6e84_11eb_ad78_0242ac1c0002row16_col3\" class=\"data row16 col3\" >0.728842</td>\n",
              "                        <td id=\"T_4379f3ba_6e84_11eb_ad78_0242ac1c0002row16_col4\" class=\"data row16 col4\" >0.673621</td>\n",
              "                        <td id=\"T_4379f3ba_6e84_11eb_ad78_0242ac1c0002row16_col5\" class=\"data row16 col5\" >0.689229</td>\n",
              "                        <td id=\"T_4379f3ba_6e84_11eb_ad78_0242ac1c0002row16_col6\" class=\"data row16 col6\" >0.607930</td>\n",
              "                        <td id=\"T_4379f3ba_6e84_11eb_ad78_0242ac1c0002row16_col7\" class=\"data row16 col7\" >0.490902</td>\n",
              "                        <td id=\"T_4379f3ba_6e84_11eb_ad78_0242ac1c0002row16_col8\" class=\"data row16 col8\" >-0.014098</td>\n",
              "                        <td id=\"T_4379f3ba_6e84_11eb_ad78_0242ac1c0002row16_col9\" class=\"data row16 col9\" >-0.023208</td>\n",
              "                        <td id=\"T_4379f3ba_6e84_11eb_ad78_0242ac1c0002row16_col10\" class=\"data row16 col10\" >-0.181554</td>\n",
              "                        <td id=\"T_4379f3ba_6e84_11eb_ad78_0242ac1c0002row16_col11\" class=\"data row16 col11\" >0.625154</td>\n",
              "                        <td id=\"T_4379f3ba_6e84_11eb_ad78_0242ac1c0002row16_col12\" class=\"data row16 col12\" >0.678932</td>\n",
              "                        <td id=\"T_4379f3ba_6e84_11eb_ad78_0242ac1c0002row16_col13\" class=\"data row16 col13\" >-0.098987</td>\n",
              "                        <td id=\"T_4379f3ba_6e84_11eb_ad78_0242ac1c0002row16_col14\" class=\"data row16 col14\" >0.897889</td>\n",
              "                        <td id=\"T_4379f3ba_6e84_11eb_ad78_0242ac1c0002row16_col15\" class=\"data row16 col15\" >0.970105</td>\n",
              "                        <td id=\"T_4379f3ba_6e84_11eb_ad78_0242ac1c0002row16_col16\" class=\"data row16 col16\" >1.000000</td>\n",
              "                        <td id=\"T_4379f3ba_6e84_11eb_ad78_0242ac1c0002row16_col17\" class=\"data row16 col17\" >0.149737</td>\n",
              "                        <td id=\"T_4379f3ba_6e84_11eb_ad78_0242ac1c0002row16_col18\" class=\"data row16 col18\" >0.408584</td>\n",
              "                        <td id=\"T_4379f3ba_6e84_11eb_ad78_0242ac1c0002row16_col19\" class=\"data row16 col19\" >0.458246</td>\n",
              "                        <td id=\"T_4379f3ba_6e84_11eb_ad78_0242ac1c0002row16_col20\" class=\"data row16 col20\" >0.511051</td>\n",
              "                        <td id=\"T_4379f3ba_6e84_11eb_ad78_0242ac1c0002row16_col21\" class=\"data row16 col21\" >0.175627</td>\n",
              "            </tr>\n",
              "            <tr>\n",
              "                        <th id=\"T_4379f3ba_6e84_11eb_ad78_0242ac1c0002level0_row17\" class=\"row_heading level0 row17\" >AST</th>\n",
              "                        <td id=\"T_4379f3ba_6e84_11eb_ad78_0242ac1c0002row17_col0\" class=\"data row17 col0\" >0.017703</td>\n",
              "                        <td id=\"T_4379f3ba_6e84_11eb_ad78_0242ac1c0002row17_col1\" class=\"data row17 col1\" >0.008069</td>\n",
              "                        <td id=\"T_4379f3ba_6e84_11eb_ad78_0242ac1c0002row17_col2\" class=\"data row17 col2\" >0.402126</td>\n",
              "                        <td id=\"T_4379f3ba_6e84_11eb_ad78_0242ac1c0002row17_col3\" class=\"data row17 col3\" >0.639013</td>\n",
              "                        <td id=\"T_4379f3ba_6e84_11eb_ad78_0242ac1c0002row17_col4\" class=\"data row17 col4\" >0.573893</td>\n",
              "                        <td id=\"T_4379f3ba_6e84_11eb_ad78_0242ac1c0002row17_col5\" class=\"data row17 col5\" >0.550682</td>\n",
              "                        <td id=\"T_4379f3ba_6e84_11eb_ad78_0242ac1c0002row17_col6\" class=\"data row17 col6\" >0.619597</td>\n",
              "                        <td id=\"T_4379f3ba_6e84_11eb_ad78_0242ac1c0002row17_col7\" class=\"data row17 col7\" >-0.132006</td>\n",
              "                        <td id=\"T_4379f3ba_6e84_11eb_ad78_0242ac1c0002row17_col8\" class=\"data row17 col8\" >0.375967</td>\n",
              "                        <td id=\"T_4379f3ba_6e84_11eb_ad78_0242ac1c0002row17_col9\" class=\"data row17 col9\" >0.409646</td>\n",
              "                        <td id=\"T_4379f3ba_6e84_11eb_ad78_0242ac1c0002row17_col10\" class=\"data row17 col10\" >0.291623</td>\n",
              "                        <td id=\"T_4379f3ba_6e84_11eb_ad78_0242ac1c0002row17_col11\" class=\"data row17 col11\" >0.486761</td>\n",
              "                        <td id=\"T_4379f3ba_6e84_11eb_ad78_0242ac1c0002row17_col12\" class=\"data row17 col12\" >0.436225</td>\n",
              "                        <td id=\"T_4379f3ba_6e84_11eb_ad78_0242ac1c0002row17_col13\" class=\"data row17 col13\" >0.306042</td>\n",
              "                        <td id=\"T_4379f3ba_6e84_11eb_ad78_0242ac1c0002row17_col14\" class=\"data row17 col14\" >-0.003037</td>\n",
              "                        <td id=\"T_4379f3ba_6e84_11eb_ad78_0242ac1c0002row17_col15\" class=\"data row17 col15\" >0.223116</td>\n",
              "                        <td id=\"T_4379f3ba_6e84_11eb_ad78_0242ac1c0002row17_col16\" class=\"data row17 col16\" >0.149737</td>\n",
              "                        <td id=\"T_4379f3ba_6e84_11eb_ad78_0242ac1c0002row17_col17\" class=\"data row17 col17\" >1.000000</td>\n",
              "                        <td id=\"T_4379f3ba_6e84_11eb_ad78_0242ac1c0002row17_col18\" class=\"data row17 col18\" >0.737032</td>\n",
              "                        <td id=\"T_4379f3ba_6e84_11eb_ad78_0242ac1c0002row17_col19\" class=\"data row17 col19\" >-0.084823</td>\n",
              "                        <td id=\"T_4379f3ba_6e84_11eb_ad78_0242ac1c0002row17_col20\" class=\"data row17 col20\" >0.738581</td>\n",
              "                        <td id=\"T_4379f3ba_6e84_11eb_ad78_0242ac1c0002row17_col21\" class=\"data row17 col21\" >0.096771</td>\n",
              "            </tr>\n",
              "            <tr>\n",
              "                        <th id=\"T_4379f3ba_6e84_11eb_ad78_0242ac1c0002level0_row18\" class=\"row_heading level0 row18\" >STL</th>\n",
              "                        <td id=\"T_4379f3ba_6e84_11eb_ad78_0242ac1c0002row18_col0\" class=\"data row18 col0\" >0.007974</td>\n",
              "                        <td id=\"T_4379f3ba_6e84_11eb_ad78_0242ac1c0002row18_col1\" class=\"data row18 col1\" >0.013752</td>\n",
              "                        <td id=\"T_4379f3ba_6e84_11eb_ad78_0242ac1c0002row18_col2\" class=\"data row18 col2\" >0.473409</td>\n",
              "                        <td id=\"T_4379f3ba_6e84_11eb_ad78_0242ac1c0002row18_col3\" class=\"data row18 col3\" >0.759933</td>\n",
              "                        <td id=\"T_4379f3ba_6e84_11eb_ad78_0242ac1c0002row18_col4\" class=\"data row18 col4\" >0.678514</td>\n",
              "                        <td id=\"T_4379f3ba_6e84_11eb_ad78_0242ac1c0002row18_col5\" class=\"data row18 col5\" >0.663419</td>\n",
              "                        <td id=\"T_4379f3ba_6e84_11eb_ad78_0242ac1c0002row18_col6\" class=\"data row18 col6\" >0.689391</td>\n",
              "                        <td id=\"T_4379f3ba_6e84_11eb_ad78_0242ac1c0002row18_col7\" class=\"data row18 col7\" >0.071364</td>\n",
              "                        <td id=\"T_4379f3ba_6e84_11eb_ad78_0242ac1c0002row18_col8\" class=\"data row18 col8\" >0.305817</td>\n",
              "                        <td id=\"T_4379f3ba_6e84_11eb_ad78_0242ac1c0002row18_col9\" class=\"data row18 col9\" >0.337407</td>\n",
              "                        <td id=\"T_4379f3ba_6e84_11eb_ad78_0242ac1c0002row18_col10\" class=\"data row18 col10\" >0.195759</td>\n",
              "                        <td id=\"T_4379f3ba_6e84_11eb_ad78_0242ac1c0002row18_col11\" class=\"data row18 col11\" >0.591616</td>\n",
              "                        <td id=\"T_4379f3ba_6e84_11eb_ad78_0242ac1c0002row18_col12\" class=\"data row18 col12\" >0.572355</td>\n",
              "                        <td id=\"T_4379f3ba_6e84_11eb_ad78_0242ac1c0002row18_col13\" class=\"data row18 col13\" >0.196138</td>\n",
              "                        <td id=\"T_4379f3ba_6e84_11eb_ad78_0242ac1c0002row18_col14\" class=\"data row18 col14\" >0.290161</td>\n",
              "                        <td id=\"T_4379f3ba_6e84_11eb_ad78_0242ac1c0002row18_col15\" class=\"data row18 col15\" >0.437507</td>\n",
              "                        <td id=\"T_4379f3ba_6e84_11eb_ad78_0242ac1c0002row18_col16\" class=\"data row18 col16\" >0.408584</td>\n",
              "                        <td id=\"T_4379f3ba_6e84_11eb_ad78_0242ac1c0002row18_col17\" class=\"data row18 col17\" >0.737032</td>\n",
              "                        <td id=\"T_4379f3ba_6e84_11eb_ad78_0242ac1c0002row18_col18\" class=\"data row18 col18\" >1.000000</td>\n",
              "                        <td id=\"T_4379f3ba_6e84_11eb_ad78_0242ac1c0002row18_col19\" class=\"data row18 col19\" >0.095003</td>\n",
              "                        <td id=\"T_4379f3ba_6e84_11eb_ad78_0242ac1c0002row18_col20\" class=\"data row18 col20\" >0.707753</td>\n",
              "                        <td id=\"T_4379f3ba_6e84_11eb_ad78_0242ac1c0002row18_col21\" class=\"data row18 col21\" >0.128381</td>\n",
              "            </tr>\n",
              "            <tr>\n",
              "                        <th id=\"T_4379f3ba_6e84_11eb_ad78_0242ac1c0002level0_row19\" class=\"row_heading level0 row19\" >BLK</th>\n",
              "                        <td id=\"T_4379f3ba_6e84_11eb_ad78_0242ac1c0002row19_col0\" class=\"data row19 col0\" >0.011955</td>\n",
              "                        <td id=\"T_4379f3ba_6e84_11eb_ad78_0242ac1c0002row19_col1\" class=\"data row19 col1\" >-0.005705</td>\n",
              "                        <td id=\"T_4379f3ba_6e84_11eb_ad78_0242ac1c0002row19_col2\" class=\"data row19 col2\" >0.187269</td>\n",
              "                        <td id=\"T_4379f3ba_6e84_11eb_ad78_0242ac1c0002row19_col3\" class=\"data row19 col3\" >0.260428</td>\n",
              "                        <td id=\"T_4379f3ba_6e84_11eb_ad78_0242ac1c0002row19_col4\" class=\"data row19 col4\" >0.232923</td>\n",
              "                        <td id=\"T_4379f3ba_6e84_11eb_ad78_0242ac1c0002row19_col5\" class=\"data row19 col5\" >0.245199</td>\n",
              "                        <td id=\"T_4379f3ba_6e84_11eb_ad78_0242ac1c0002row19_col6\" class=\"data row19 col6\" >0.191895</td>\n",
              "                        <td id=\"T_4379f3ba_6e84_11eb_ad78_0242ac1c0002row19_col7\" class=\"data row19 col7\" >0.288155</td>\n",
              "                        <td id=\"T_4379f3ba_6e84_11eb_ad78_0242ac1c0002row19_col8\" class=\"data row19 col8\" >-0.094750</td>\n",
              "                        <td id=\"T_4379f3ba_6e84_11eb_ad78_0242ac1c0002row19_col9\" class=\"data row19 col9\" >-0.101143</td>\n",
              "                        <td id=\"T_4379f3ba_6e84_11eb_ad78_0242ac1c0002row19_col10\" class=\"data row19 col10\" >-0.169376</td>\n",
              "                        <td id=\"T_4379f3ba_6e84_11eb_ad78_0242ac1c0002row19_col11\" class=\"data row19 col11\" >0.221537</td>\n",
              "                        <td id=\"T_4379f3ba_6e84_11eb_ad78_0242ac1c0002row19_col12\" class=\"data row19 col12\" >0.261547</td>\n",
              "                        <td id=\"T_4379f3ba_6e84_11eb_ad78_0242ac1c0002row19_col13\" class=\"data row19 col13\" >-0.150871</td>\n",
              "                        <td id=\"T_4379f3ba_6e84_11eb_ad78_0242ac1c0002row19_col14\" class=\"data row19 col14\" >0.430952</td>\n",
              "                        <td id=\"T_4379f3ba_6e84_11eb_ad78_0242ac1c0002row19_col15\" class=\"data row19 col15\" >0.441530</td>\n",
              "                        <td id=\"T_4379f3ba_6e84_11eb_ad78_0242ac1c0002row19_col16\" class=\"data row19 col16\" >0.458246</td>\n",
              "                        <td id=\"T_4379f3ba_6e84_11eb_ad78_0242ac1c0002row19_col17\" class=\"data row19 col17\" >-0.084823</td>\n",
              "                        <td id=\"T_4379f3ba_6e84_11eb_ad78_0242ac1c0002row19_col18\" class=\"data row19 col18\" >0.095003</td>\n",
              "                        <td id=\"T_4379f3ba_6e84_11eb_ad78_0242ac1c0002row19_col19\" class=\"data row19 col19\" >1.000000</td>\n",
              "                        <td id=\"T_4379f3ba_6e84_11eb_ad78_0242ac1c0002row19_col20\" class=\"data row19 col20\" >0.144671</td>\n",
              "                        <td id=\"T_4379f3ba_6e84_11eb_ad78_0242ac1c0002row19_col21\" class=\"data row19 col21\" >0.098642</td>\n",
              "            </tr>\n",
              "            <tr>\n",
              "                        <th id=\"T_4379f3ba_6e84_11eb_ad78_0242ac1c0002level0_row20\" class=\"row_heading level0 row20\" >TOV</th>\n",
              "                        <td id=\"T_4379f3ba_6e84_11eb_ad78_0242ac1c0002row20_col0\" class=\"data row20 col0\" >0.021505</td>\n",
              "                        <td id=\"T_4379f3ba_6e84_11eb_ad78_0242ac1c0002row20_col1\" class=\"data row20 col1\" >0.013185</td>\n",
              "                        <td id=\"T_4379f3ba_6e84_11eb_ad78_0242ac1c0002row20_col2\" class=\"data row20 col2\" >0.537821</td>\n",
              "                        <td id=\"T_4379f3ba_6e84_11eb_ad78_0242ac1c0002row20_col3\" class=\"data row20 col3\" >0.792059</td>\n",
              "                        <td id=\"T_4379f3ba_6e84_11eb_ad78_0242ac1c0002row20_col4\" class=\"data row20 col4\" >0.816414</td>\n",
              "                        <td id=\"T_4379f3ba_6e84_11eb_ad78_0242ac1c0002row20_col5\" class=\"data row20 col5\" >0.799119</td>\n",
              "                        <td id=\"T_4379f3ba_6e84_11eb_ad78_0242ac1c0002row20_col6\" class=\"data row20 col6\" >0.816810</td>\n",
              "                        <td id=\"T_4379f3ba_6e84_11eb_ad78_0242ac1c0002row20_col7\" class=\"data row20 col7\" >0.128622</td>\n",
              "                        <td id=\"T_4379f3ba_6e84_11eb_ad78_0242ac1c0002row20_col8\" class=\"data row20 col8\" >0.231413</td>\n",
              "                        <td id=\"T_4379f3ba_6e84_11eb_ad78_0242ac1c0002row20_col9\" class=\"data row20 col9\" >0.255422</td>\n",
              "                        <td id=\"T_4379f3ba_6e84_11eb_ad78_0242ac1c0002row20_col10\" class=\"data row20 col10\" >0.095169</td>\n",
              "                        <td id=\"T_4379f3ba_6e84_11eb_ad78_0242ac1c0002row20_col11\" class=\"data row20 col11\" >0.771939</td>\n",
              "                        <td id=\"T_4379f3ba_6e84_11eb_ad78_0242ac1c0002row20_col12\" class=\"data row20 col12\" >0.762837</td>\n",
              "                        <td id=\"T_4379f3ba_6e84_11eb_ad78_0242ac1c0002row20_col13\" class=\"data row20 col13\" >0.179152</td>\n",
              "                        <td id=\"T_4379f3ba_6e84_11eb_ad78_0242ac1c0002row20_col14\" class=\"data row20 col14\" >0.378683</td>\n",
              "                        <td id=\"T_4379f3ba_6e84_11eb_ad78_0242ac1c0002row20_col15\" class=\"data row20 col15\" >0.548209</td>\n",
              "                        <td id=\"T_4379f3ba_6e84_11eb_ad78_0242ac1c0002row20_col16\" class=\"data row20 col16\" >0.511051</td>\n",
              "                        <td id=\"T_4379f3ba_6e84_11eb_ad78_0242ac1c0002row20_col17\" class=\"data row20 col17\" >0.738581</td>\n",
              "                        <td id=\"T_4379f3ba_6e84_11eb_ad78_0242ac1c0002row20_col18\" class=\"data row20 col18\" >0.707753</td>\n",
              "                        <td id=\"T_4379f3ba_6e84_11eb_ad78_0242ac1c0002row20_col19\" class=\"data row20 col19\" >0.144671</td>\n",
              "                        <td id=\"T_4379f3ba_6e84_11eb_ad78_0242ac1c0002row20_col20\" class=\"data row20 col20\" >1.000000</td>\n",
              "                        <td id=\"T_4379f3ba_6e84_11eb_ad78_0242ac1c0002row20_col21\" class=\"data row20 col21\" >0.151240</td>\n",
              "            </tr>\n",
              "            <tr>\n",
              "                        <th id=\"T_4379f3ba_6e84_11eb_ad78_0242ac1c0002level0_row21\" class=\"row_heading level0 row21\" >TARGET_5Yrs</th>\n",
              "                        <td id=\"T_4379f3ba_6e84_11eb_ad78_0242ac1c0002row21_col0\" class=\"data row21 col0\" >0.018233</td>\n",
              "                        <td id=\"T_4379f3ba_6e84_11eb_ad78_0242ac1c0002row21_col1\" class=\"data row21 col1\" >0.006645</td>\n",
              "                        <td id=\"T_4379f3ba_6e84_11eb_ad78_0242ac1c0002row21_col2\" class=\"data row21 col2\" >0.242108</td>\n",
              "                        <td id=\"T_4379f3ba_6e84_11eb_ad78_0242ac1c0002row21_col3\" class=\"data row21 col3\" >0.182203</td>\n",
              "                        <td id=\"T_4379f3ba_6e84_11eb_ad78_0242ac1c0002row21_col4\" class=\"data row21 col4\" >0.182004</td>\n",
              "                        <td id=\"T_4379f3ba_6e84_11eb_ad78_0242ac1c0002row21_col5\" class=\"data row21 col5\" >0.183568</td>\n",
              "                        <td id=\"T_4379f3ba_6e84_11eb_ad78_0242ac1c0002row21_col6\" class=\"data row21 col6\" >0.162389</td>\n",
              "                        <td id=\"T_4379f3ba_6e84_11eb_ad78_0242ac1c0002row21_col7\" class=\"data row21 col7\" >0.158858</td>\n",
              "                        <td id=\"T_4379f3ba_6e84_11eb_ad78_0242ac1c0002row21_col8\" class=\"data row21 col8\" >0.015016</td>\n",
              "                        <td id=\"T_4379f3ba_6e84_11eb_ad78_0242ac1c0002row21_col9\" class=\"data row21 col9\" >0.003463</td>\n",
              "                        <td id=\"T_4379f3ba_6e84_11eb_ad78_0242ac1c0002row21_col10\" class=\"data row21 col10\" >-0.011977</td>\n",
              "                        <td id=\"T_4379f3ba_6e84_11eb_ad78_0242ac1c0002row21_col11\" class=\"data row21 col11\" >0.173913</td>\n",
              "                        <td id=\"T_4379f3ba_6e84_11eb_ad78_0242ac1c0002row21_col12\" class=\"data row21 col12\" >0.176525</td>\n",
              "                        <td id=\"T_4379f3ba_6e84_11eb_ad78_0242ac1c0002row21_col13\" class=\"data row21 col13\" >0.039429</td>\n",
              "                        <td id=\"T_4379f3ba_6e84_11eb_ad78_0242ac1c0002row21_col14\" class=\"data row21 col14\" >0.172604</td>\n",
              "                        <td id=\"T_4379f3ba_6e84_11eb_ad78_0242ac1c0002row21_col15\" class=\"data row21 col15\" >0.168065</td>\n",
              "                        <td id=\"T_4379f3ba_6e84_11eb_ad78_0242ac1c0002row21_col16\" class=\"data row21 col16\" >0.175627</td>\n",
              "                        <td id=\"T_4379f3ba_6e84_11eb_ad78_0242ac1c0002row21_col17\" class=\"data row21 col17\" >0.096771</td>\n",
              "                        <td id=\"T_4379f3ba_6e84_11eb_ad78_0242ac1c0002row21_col18\" class=\"data row21 col18\" >0.128381</td>\n",
              "                        <td id=\"T_4379f3ba_6e84_11eb_ad78_0242ac1c0002row21_col19\" class=\"data row21 col19\" >0.098642</td>\n",
              "                        <td id=\"T_4379f3ba_6e84_11eb_ad78_0242ac1c0002row21_col20\" class=\"data row21 col20\" >0.151240</td>\n",
              "                        <td id=\"T_4379f3ba_6e84_11eb_ad78_0242ac1c0002row21_col21\" class=\"data row21 col21\" >1.000000</td>\n",
              "            </tr>\n",
              "    </tbody></table>"
            ],
            "text/plain": [
              "<pandas.io.formats.style.Styler at 0x7fe70db8ce10>"
            ]
          },
          "metadata": {
            "tags": []
          },
          "execution_count": 14
        }
      ]
    },
    {
      "cell_type": "markdown",
      "metadata": {
        "id": "vijkoVaSGsRx"
      },
      "source": [
        "## **Experiment 1:Feature Reduction and Supplementation**"
      ]
    },
    {
      "cell_type": "markdown",
      "metadata": {
        "id": "5MwpnIfjG5mg"
      },
      "source": [
        "In this expetiment, it is assumed that taking/adding variables may add to the predictive power of the model. This will be tested by various means (reduce variables, add calculated variables).\r\n",
        "\r\n",
        "**Objective:**\r\n",
        "\r\n",
        "Feature Reduction: Use analysis of the variables and feature importance XG Boost model function to reduce variables. Compare score with baseline model, including full set.\r\n",
        "\r\n",
        "Feature Supplementation: Add two calculated variables TOV% (Turnover Percentage) and PPG (Points per game) and compare score to baseline. Check feature importance.\r\n"
      ]
    },
    {
      "cell_type": "markdown",
      "metadata": {
        "id": "Ymk9TYVi-bvo"
      },
      "source": [
        "#### **Plot Feature Importance**"
      ]
    },
    {
      "cell_type": "markdown",
      "metadata": {
        "id": "9ElfbKw1HivX"
      },
      "source": [
        "First, the model will be run to plot feature importance using "
      ]
    },
    {
      "cell_type": "code",
      "metadata": {
        "colab": {
          "base_uri": "https://localhost:8080/",
          "height": 312
        },
        "id": "PwjrbM9O-aKi",
        "outputId": "a30e0421-01ef-43ea-c862-3370722c984e"
      },
      "source": [
        "train_data = pd.read_csv('/content/kaggle/train.csv')\r\n",
        "test_data = pd.read_csv('/content/kaggle/test.csv')\r\n",
        "\r\n",
        "train_data_x = train_data.copy()\r\n",
        "train_data_x = train_data_x.drop(['Id_old', 'Id'], axis=1)\r\n",
        "train_data_target = train_data_x.pop('TARGET_5Yrs')\r\n",
        "\r\n",
        "test_data_x = test_data.drop(['Id_old', 'Id'], axis=1)\r\n",
        "\r\n",
        "scaler = MinMaxScaler()\r\n",
        "df_train_scaled = pd.DataFrame(scaler.fit_transform(train_data_x), columns=train_data_x.columns)\r\n",
        "\r\n",
        "X_data, X_test, y_data, y_test = train_test_split(df_train_scaled, train_data_target, test_size=0.2, random_state=42)\r\n",
        "X_train, X_val, y_train, y_val = train_test_split(X_data, y_data, test_size=0.2, random_state=42)\r\n",
        "\r\n",
        "xgb_clf = XGBClassifier(n_estimators=20, \r\n",
        "                            learning_rate=0.9, \r\n",
        "                            max_features=2, \r\n",
        "                            max_depth=2, \r\n",
        "                            random_state=42)\r\n",
        "xgb_clf.fit(X_train, y_train)\r\n",
        "\r\n",
        "xgb_clf = XGBClassifier(learning_rate=0.9,\r\n",
        "                        n_estimators=300,\r\n",
        "                        max_depth=4,\r\n",
        "                        colsample_bynode=1,\r\n",
        "                        gamma=8,\r\n",
        "                        max_delta_step=1,\r\n",
        "                        min_child_weight=1, \r\n",
        "                        missing=None, \r\n",
        "                        n_jobs=1,\r\n",
        "                        nthread=None, \r\n",
        "                        objective='binary:logistic', \r\n",
        "                        random_state=42,\r\n",
        "                        reg_alpha=0, \r\n",
        "                        reg_lambda=0, \r\n",
        "                        scale_pos_weight=1, \r\n",
        "                        seed=None,\r\n",
        "                        silent=None, subsample=1, verbosity=1)\r\n",
        "\r\n",
        "xgb_clf.fit(X_train, y_train)\r\n",
        "\r\n",
        "plot_importance(xgb_clf)\r\n",
        "plt.show()\r\n",
        "roc_auc_score(y_val, xgb_clf.predict_proba(X_val)[:,1])"
      ],
      "execution_count": 15,
      "outputs": [
        {
          "output_type": "display_data",
          "data": {
            "image/png": "[encoded data removed]",
            "text/plain": [
              "<Figure size 432x288 with 1 Axes>"
            ]
          },
          "metadata": {
            "tags": [],
            "needs_background": "light"
          }
        },
        {
          "output_type": "execute_result",
          "data": {
            "text/plain": [
              "0.7223609643646144"
            ]
          },
          "metadata": {
            "tags": []
          },
          "execution_count": 15
        }
      ]
    },
    {
      "cell_type": "markdown",
      "metadata": {
        "id": "MkoEJyHqAfix"
      },
      "source": [
        "##### **Check for Valid Target variable values**"
      ]
    },
    {
      "cell_type": "markdown",
      "metadata": {
        "id": "raBvW-dtAfiz"
      },
      "source": [
        "Check to ensure target valuesvariable values are only 1 and 0. "
      ]
    },
    {
      "cell_type": "code",
      "metadata": {
        "colab": {
          "base_uri": "https://localhost:8080/"
        },
        "id": "Wn-ikPTQAfiz",
        "outputId": "8a95bf34-ca6b-4c9e-b367-1f29a09052dc"
      },
      "source": [
        "y_data.unique()"
      ],
      "execution_count": 16,
      "outputs": [
        {
          "output_type": "execute_result",
          "data": {
            "text/plain": [
              "array([1, 0])"
            ]
          },
          "metadata": {
            "tags": []
          },
          "execution_count": 16
        }
      ]
    },
    {
      "cell_type": "markdown",
      "metadata": {
        "id": "buC0V_MW4QR-"
      },
      "source": [
        "### **Dimensionality Reduction**"
      ]
    },
    {
      "cell_type": "markdown",
      "metadata": {
        "id": "UQhVanDzDFkO"
      },
      "source": [
        "The following tests are to show the value of removing explanatory variables to reduce dimensionality."
      ]
    },
    {
      "cell_type": "markdown",
      "metadata": {
        "id": "drNJ7CW_4QSG"
      },
      "source": [
        "#### **Remove Variables that are Constituents of Other Variables**"
      ]
    },
    {
      "cell_type": "code",
      "metadata": {
        "colab": {
          "base_uri": "https://localhost:8080/"
        },
        "id": "jJ068qDV4QSG",
        "outputId": "7743a05d-5fac-40d9-c144-801fbf1fbd7a"
      },
      "source": [
        "train_data = pd.read_csv('/content/kaggle/train.csv')\r\n",
        "test_data = pd.read_csv('/content/kaggle/test.csv')\r\n",
        "\r\n",
        "# Remove constituent variables\r\n",
        "\r\n",
        "train_data.drop(['3P Made', '3PA', 'FGA', 'FGM','FTA', 'FTM'], axis=1, inplace=True)\r\n",
        "test_data.drop(['3P Made', '3PA', 'FGA', 'FGM','FTA', 'FTM'], axis=1, inplace=True)\r\n",
        "\r\n",
        "train_data_x = train_data.copy()\r\n",
        "train_data_x = train_data_x.drop(['Id_old', 'Id'], axis=1)\r\n",
        "train_data_target = train_data_x.pop('TARGET_5Yrs')\r\n",
        "\r\n",
        "test_data_x = test_data.drop(['Id_old', 'Id'], axis=1)\r\n",
        "\r\n",
        "scaler = MinMaxScaler()\r\n",
        "df_train_scaled = pd.DataFrame(scaler.fit_transform(train_data_x), columns=train_data_x.columns)\r\n",
        "\r\n",
        "X_data, X_test, y_data, y_test = train_test_split(df_train_scaled, train_data_target, test_size=0.2, random_state=42)\r\n",
        "X_train, X_val, y_train, y_val = train_test_split(X_data, y_data, test_size=0.2, random_state=42)\r\n",
        "\r\n",
        "xgb_clf = XGBClassifier(n_estimators=20, \r\n",
        "                            learning_rate=0.9, \r\n",
        "                            max_features=2, \r\n",
        "                            max_depth=2, \r\n",
        "                            random_state=42)\r\n",
        "xgb_clf.fit(X_train, y_train)\r\n",
        "\r\n",
        "xgb_clf = XGBClassifier(learning_rate=0.9,\r\n",
        "                        n_estimators=300,\r\n",
        "                        max_depth=4,\r\n",
        "                        colsample_bynode=1,\r\n",
        "                        gamma=8,\r\n",
        "                        max_delta_step=1,\r\n",
        "                        min_child_weight=1, \r\n",
        "                        missing=None, \r\n",
        "                        n_jobs=1,\r\n",
        "                        nthread=None, \r\n",
        "                        objective='binary:logistic', \r\n",
        "                        random_state=42,\r\n",
        "                        reg_alpha=0, \r\n",
        "                        reg_lambda=0, \r\n",
        "                        scale_pos_weight=1, \r\n",
        "                        seed=None,\r\n",
        "                        silent=None, subsample=1, verbosity=1)\r\n",
        "\r\n",
        "xgb_clf.fit(X_train, y_train)\r\n",
        "\r\n",
        "roc_auc_score(y_val, xgb_clf.predict_proba(X_val)[:,1])"
      ],
      "execution_count": 17,
      "outputs": [
        {
          "output_type": "execute_result",
          "data": {
            "text/plain": [
              "0.7163531246712498"
            ]
          },
          "metadata": {
            "tags": []
          },
          "execution_count": 17
        }
      ]
    },
    {
      "cell_type": "markdown",
      "metadata": {
        "id": "7D9rfpB-APaQ"
      },
      "source": [
        "**Result:** Score drops slightly (-0.6%). Also tried individually for each variable and there is no improvement. \r\n",
        "\r\n",
        "**Conclusion:** Taking away less constituent variables does not add predictive value."
      ]
    },
    {
      "cell_type": "markdown",
      "metadata": {
        "id": "UoGpcw3LB3Gh"
      },
      "source": [
        "#### **Remove Variables that are Low in Importance**"
      ]
    },
    {
      "cell_type": "code",
      "metadata": {
        "colab": {
          "base_uri": "https://localhost:8080/"
        },
        "id": "-i5bgKlSA1lG",
        "outputId": "735e723d-0544-4074-9ea9-edc374a8445a"
      },
      "source": [
        "train_data = pd.read_csv('/content/kaggle/train.csv')\r\n",
        "test_data = pd.read_csv('/content/kaggle/test.csv')\r\n",
        "\r\n",
        "# Remove constituent variables\r\n",
        "\r\n",
        "train_data.drop(['3P Made', '3P%', 'FGA'], axis=1, inplace=True)\r\n",
        "test_data.drop(['3P Made', '3P%', 'FGA'], axis=1, inplace=True)\r\n",
        "\r\n",
        "train_data_x = train_data.copy()\r\n",
        "train_data_x = train_data_x.drop(['Id_old', 'Id'], axis=1)\r\n",
        "train_data_target = train_data_x.pop('TARGET_5Yrs')\r\n",
        "\r\n",
        "test_data_x = test_data.drop(['Id_old', 'Id'], axis=1)\r\n",
        "\r\n",
        "scaler = MinMaxScaler()\r\n",
        "df_train_scaled = pd.DataFrame(scaler.fit_transform(train_data_x), columns=train_data_x.columns)\r\n",
        "\r\n",
        "X_data, X_test, y_data, y_test = train_test_split(df_train_scaled, train_data_target, test_size=0.2, random_state=42)\r\n",
        "X_train, X_val, y_train, y_val = train_test_split(X_data, y_data, test_size=0.2, random_state=42)\r\n",
        "\r\n",
        "xgb_clf = XGBClassifier(n_estimators=20, \r\n",
        "                            learning_rate=0.9, \r\n",
        "                            max_features=2, \r\n",
        "                            max_depth=2, \r\n",
        "                            random_state=42)\r\n",
        "xgb_clf.fit(X_train, y_train)\r\n",
        "\r\n",
        "xgb_clf = XGBClassifier(learning_rate=0.9,\r\n",
        "                        n_estimators=300,\r\n",
        "                        max_depth=4,\r\n",
        "                        colsample_bynode=1,\r\n",
        "                        gamma=8,\r\n",
        "                        max_delta_step=1,\r\n",
        "                        min_child_weight=1, \r\n",
        "                        missing=None, \r\n",
        "                        n_jobs=1,\r\n",
        "                        nthread=None, \r\n",
        "                        objective='binary:logistic', \r\n",
        "                        random_state=42,\r\n",
        "                        reg_alpha=0, \r\n",
        "                        reg_lambda=0, \r\n",
        "                        scale_pos_weight=1, \r\n",
        "                        seed=None,\r\n",
        "                        silent=None, subsample=1, verbosity=1)\r\n",
        "\r\n",
        "xgb_clf.fit(X_train, y_train)\r\n",
        "\r\n",
        "roc_auc_score(y_val, xgb_clf.predict_proba(X_val)[:,1])"
      ],
      "execution_count": 18,
      "outputs": [
        {
          "output_type": "execute_result",
          "data": {
            "text/plain": [
              "0.7086803792691796"
            ]
          },
          "metadata": {
            "tags": []
          },
          "execution_count": 18
        }
      ]
    },
    {
      "cell_type": "markdown",
      "metadata": {
        "id": "V-KsTtaBCa2E"
      },
      "source": [
        "**Result:** Score drops slightly (-1.37%). Also tried individually for each variable and there is no improvement. \r\n",
        "\r\n",
        "**Conclusion:** Taking away less important variables does not add predictive value."
      ]
    },
    {
      "cell_type": "markdown",
      "metadata": {
        "id": "GLS6s7KATxvm"
      },
      "source": [
        "### **Dimensionality Supplement**"
      ]
    },
    {
      "cell_type": "markdown",
      "metadata": {
        "id": "MlxS8ni5Txvp"
      },
      "source": [
        "The following tests are to show the value of adding two calculated variables: TOV% and PPG."
      ]
    },
    {
      "cell_type": "code",
      "metadata": {
        "colab": {
          "base_uri": "https://localhost:8080/"
        },
        "id": "2BAS7cfYVuF9",
        "outputId": "c8fad898-ff0c-4f15-bbff-7d35f08cbb57"
      },
      "source": [
        "train_data = pd.read_csv('/content/kaggle/train.csv')\r\n",
        "test_data = pd.read_csv('/content/kaggle/test.csv')\r\n",
        "\r\n",
        "# Add Calculated Variables\r\n",
        "\r\n",
        "# train_data['PPG'] = (train_data['PTS']/train_data['GP'])\r\n",
        "train_data['TOV%'] = (100*train_data['TOV']/(train_data['FGA']+0.44*train_data['FTA']+train_data['TOV']))\r\n",
        "\r\n",
        "train_data_x = train_data.copy()\r\n",
        "train_data_x = train_data_x.drop(['Id_old', 'Id'], axis=1)\r\n",
        "train_data_target = train_data_x.pop('TARGET_5Yrs')\r\n",
        "\r\n",
        "test_data_x = test_data.drop(['Id_old', 'Id'], axis=1)\r\n",
        "\r\n",
        "scaler = MinMaxScaler()\r\n",
        "df_train_scaled = pd.DataFrame(scaler.fit_transform(train_data_x), columns=train_data_x.columns)\r\n",
        "\r\n",
        "X_data, X_test, y_data, y_test = train_test_split(df_train_scaled, train_data_target, test_size=0.2, random_state=42)\r\n",
        "X_train, X_val, y_train, y_val = train_test_split(X_data, y_data, test_size=0.2, random_state=42)\r\n",
        "\r\n",
        "xgb_clf = XGBClassifier(n_estimators=20, \r\n",
        "                            learning_rate=0.9, \r\n",
        "                            max_features=2, \r\n",
        "                            max_depth=2, \r\n",
        "                            random_state=42)\r\n",
        "xgb_clf.fit(X_train, y_train)\r\n",
        "\r\n",
        "xgb_clf = XGBClassifier(learning_rate=0.9,\r\n",
        "                        n_estimators=300,\r\n",
        "                        max_depth=4,\r\n",
        "                        colsample_bynode=1,\r\n",
        "                        gamma=8,\r\n",
        "                        max_delta_step=1,\r\n",
        "                        min_child_weight=1, \r\n",
        "                        missing=None, \r\n",
        "                        n_jobs=1,\r\n",
        "                        nthread=None, \r\n",
        "                        objective='binary:logistic', \r\n",
        "                        random_state=42,\r\n",
        "                        reg_alpha=0, \r\n",
        "                        reg_lambda=0, \r\n",
        "                        scale_pos_weight=1, \r\n",
        "                        seed=None,\r\n",
        "                        silent=None, subsample=1, verbosity=1)\r\n",
        "\r\n",
        "xgb_clf.fit(X_train, y_train)\r\n",
        "\r\n",
        "roc_auc_score(y_val, xgb_clf.predict_proba(X_val)[:,1])"
      ],
      "execution_count": 19,
      "outputs": [
        {
          "output_type": "execute_result",
          "data": {
            "text/plain": [
              "0.7014490168365876"
            ]
          },
          "metadata": {
            "tags": []
          },
          "execution_count": 19
        }
      ]
    },
    {
      "cell_type": "markdown",
      "metadata": {
        "id": "r_9m5du5YN2B"
      },
      "source": [
        "Show New Feature Importance"
      ]
    },
    {
      "cell_type": "code",
      "metadata": {
        "colab": {
          "base_uri": "https://localhost:8080/",
          "height": 294
        },
        "id": "n8X-BdC8YLjr",
        "outputId": "beb99a00-fb0c-44ce-ca41-0612d2175b2c"
      },
      "source": [
        "plot_importance(xgb_clf)\r\n",
        "plt.show()"
      ],
      "execution_count": 20,
      "outputs": [
        {
          "output_type": "display_data",
          "data": {
            "image/png": "[encoded data removed]",
            "text/plain": [
              "<Figure size 432x288 with 1 Axes>"
            ]
          },
          "metadata": {
            "tags": [],
            "needs_background": "light"
          }
        }
      ]
    },
    {
      "cell_type": "markdown",
      "metadata": {
        "id": "AL2vXej8YvUA"
      },
      "source": [
        "**Result:** Although TOV% is the 'most important' feature along with GP, adding it drops AUC slightly (-2.09%). PPG makes no difference to the score.\r\n",
        "\r\n",
        "**Conclusion:** These variables add no value to model performance."
      ]
    },
    {
      "cell_type": "markdown",
      "metadata": {
        "id": "--EEvmDzrU2-"
      },
      "source": [
        "## **Experiment 2: XGBoost including Hyperparameter Tuning**"
      ]
    },
    {
      "cell_type": "markdown",
      "metadata": {
        "id": "hvWCQ07P0Z32"
      },
      "source": [
        "### **Define Train and Test Data**"
      ]
    },
    {
      "cell_type": "code",
      "metadata": {
        "id": "2Ys3UUUqEduQ"
      },
      "source": [
        "train_data = pd.read_csv('/content/kaggle/train.csv')\r\n",
        "test_data = pd.read_csv('/content/kaggle/test.csv')\r\n",
        "\r\n",
        "train_data_x = train_data.copy()\r\n",
        "train_data_x = train_data_x.drop(['Id_old', 'Id'], axis=1)\r\n",
        "train_data_target = train_data_x.pop('TARGET_5Yrs')\r\n",
        "\r\n",
        "test_data_x = test_data.drop(['Id_old', 'Id'], axis=1)\r\n",
        "\r\n",
        "scaler = MinMaxScaler()\r\n",
        "df_train_scaled = pd.DataFrame(scaler.fit_transform(train_data_x), columns=train_data_x.columns)\r\n",
        "\r\n",
        "X_data, X_test, y_data, y_test = train_test_split(df_train_scaled, train_data_target, test_size=0.2, random_state=42)\r\n",
        "X_train, X_val, y_train, y_val = train_test_split(X_data, y_data, test_size=0.2, random_state=42)"
      ],
      "execution_count": 21,
      "outputs": []
    },
    {
      "cell_type": "markdown",
      "metadata": {
        "id": "HDkOJB0RCHXv"
      },
      "source": [
        "#### **Define Model**"
      ]
    },
    {
      "cell_type": "code",
      "metadata": {
        "id": "j9bhL6MCqQ4W"
      },
      "source": [
        "xgb_clf = XGBClassifier(n_estimators=20, \r\n",
        "                            learning_rate=0.9, \r\n",
        "                            max_features=2, \r\n",
        "                            max_depth=2, \r\n",
        "                            random_state=42)"
      ],
      "execution_count": 22,
      "outputs": []
    },
    {
      "cell_type": "markdown",
      "metadata": {
        "id": "_y6mlzTdCK3b"
      },
      "source": [
        "#### **Fit Model**"
      ]
    },
    {
      "cell_type": "markdown",
      "metadata": {
        "id": "NZW-h7PvC7Q3"
      },
      "source": [
        "Train model using the train data set."
      ]
    },
    {
      "cell_type": "markdown",
      "metadata": {
        "id": "C7ydvVRRuUnZ"
      },
      "source": [
        "Score to beat (baseline model): 0.7223609643646144."
      ]
    },
    {
      "cell_type": "code",
      "metadata": {
        "colab": {
          "base_uri": "https://localhost:8080/"
        },
        "id": "fzO63XSOa86q",
        "outputId": "8ebb4d39-457b-4190-f015-be9c1e565720"
      },
      "source": [
        "xgb_clf = XGBClassifier(learning_rate=0.9,\r\n",
        "                        n_estimators=300,\r\n",
        "                        max_depth=4,\r\n",
        "                        colsample_bynode=1,\r\n",
        "                        gamma=9,\r\n",
        "                        max_delta_step=1,\r\n",
        "                        min_child_weight=1, \r\n",
        "                        missing=None, \r\n",
        "                        n_jobs=1,\r\n",
        "                        nthread=None, \r\n",
        "                        objective='binary:logistic', \r\n",
        "                        random_state=42,\r\n",
        "                        reg_alpha=0, \r\n",
        "                        reg_lambda=0, \r\n",
        "                        scale_pos_weight=1, \r\n",
        "                        seed=None,\r\n",
        "                        silent=True, subsample=1, verbosity=3)\r\n",
        "\r\n",
        "xgb_clf.fit(X_train, \r\n",
        "            y_train,\r\n",
        "            verbose=True,\r\n",
        "            early_stopping_rounds = 10,\r\n",
        "            eval_metric='aucpr',\r\n",
        "            eval_set=[(X_test,y_test)])\r\n",
        "\r\n",
        "roc_auc_score(y_val, xgb_clf.predict_proba(X_val)[:,1])"
      ],
      "execution_count": 79,
      "outputs": [
        {
          "output_type": "stream",
          "text": [
            "[0]\tvalidation_0-aucpr:0.858725\n",
            "Will train until validation_0-aucpr hasn't improved in 10 rounds.\n",
            "[1]\tvalidation_0-aucpr:0.896031\n",
            "[2]\tvalidation_0-aucpr:0.908689\n",
            "[3]\tvalidation_0-aucpr:0.913744\n",
            "[4]\tvalidation_0-aucpr:0.914905\n",
            "[5]\tvalidation_0-aucpr:0.915303\n",
            "[6]\tvalidation_0-aucpr:0.915303\n",
            "[7]\tvalidation_0-aucpr:0.915303\n",
            "[8]\tvalidation_0-aucpr:0.915303\n",
            "[9]\tvalidation_0-aucpr:0.915303\n",
            "[10]\tvalidation_0-aucpr:0.915303\n",
            "[11]\tvalidation_0-aucpr:0.915303\n",
            "[12]\tvalidation_0-aucpr:0.915303\n",
            "[13]\tvalidation_0-aucpr:0.915303\n",
            "[14]\tvalidation_0-aucpr:0.915303\n",
            "[15]\tvalidation_0-aucpr:0.915303\n",
            "Stopping. Best iteration:\n",
            "[5]\tvalidation_0-aucpr:0.915303\n",
            "\n"
          ],
          "name": "stdout"
        },
        {
          "output_type": "execute_result",
          "data": {
            "text/plain": [
              "0.7255535582785607"
            ]
          },
          "metadata": {
            "tags": []
          },
          "execution_count": 79
        }
      ]
    },
    {
      "cell_type": "markdown",
      "metadata": {
        "id": "n9iC04EaJHDk"
      },
      "source": [
        "### **Hyperparameter Tuning**"
      ]
    },
    {
      "cell_type": "code",
      "metadata": {
        "id": "ND9_CesFBMuY"
      },
      "source": [
        "from hyperopt import Trials, STATUS_OK, tpe, hp, fmin"
      ],
      "execution_count": 79,
      "outputs": []
    },
    {
      "cell_type": "markdown",
      "metadata": {
        "id": "esgKHPwZKzOY"
      },
      "source": [
        "Define hyperparameter search space."
      ]
    },
    {
      "cell_type": "code",
      "metadata": {
        "id": "LOs4kY9SJ1Na"
      },
      "source": [
        "space = {\r\n",
        "    'max_depth' : hp.choice('max_depth', range(5, 20, 1)),\r\n",
        "    'learning_rate' : hp.quniform('learning_rate', 0.01, 0.5, 0.05),\r\n",
        "    'min_child_weight' : hp.quniform('min_child_weight', 1, 10, 1),\r\n",
        "    'subsample' : hp.quniform('subsample', 0.1, 1, 0.05),\r\n",
        "    'colsample_bytree' : hp.quniform('colsample_bytree', 0.1, 1.0, 0.05),\r\n",
        "    'gamma' : hp.quniform('gamma', 1, 10, 1),\r\n",
        "    'n_estimators' : hp.quniform('n_estimators', 10, 1000, 1),\r\n",
        "    'max_delta_step' : hp.quniform('max_delta_step', 0, 15, 1),\r\n",
        "}"
      ],
      "execution_count": 157,
      "outputs": []
    },
    {
      "cell_type": "markdown",
      "metadata": {
        "id": "-HDvNMfpLWr5"
      },
      "source": [
        "Instantiate a XGBClassifier with best set of hyperparameters"
      ]
    },
    {
      "cell_type": "code",
      "metadata": {
        "id": "zBTAswWlJ1QH"
      },
      "source": [
        "def objective(space):\r\n",
        "    from sklearn.model_selection import cross_val_score\r\n",
        "    \r\n",
        "    xgboost = xgb.XGBClassifier(\r\n",
        "        max_depth = int(space['max_depth']),\r\n",
        "        learning_rate = space['learning_rate'],\r\n",
        "        min_child_weight = space['min_child_weight'],\r\n",
        "        subsample = space['subsample'],\r\n",
        "        colsample_bytree = space['colsample_bytree'],\r\n",
        "        gamma = int(space['gamma']),\r\n",
        "        n_estimators = int(space['n_estimators']),\r\n",
        "        max_delta_step  = int(space['max_delta_step'])      \r\n",
        "    )\r\n",
        "    \r\n",
        "    acc = cross_val_score(xgboost, X_train, y_train, cv=10, scoring=\"accuracy\").mean()\r\n",
        "\r\n",
        "    return{'loss': 1-acc, 'status': STATUS_OK }"
      ],
      "execution_count": 158,
      "outputs": []
    },
    {
      "cell_type": "markdown",
      "metadata": {
        "id": "dVmf_jlfLHlh"
      },
      "source": [
        "Save optimal hyperparameters in best object."
      ]
    },
    {
      "cell_type": "code",
      "metadata": {
        "colab": {
          "base_uri": "https://localhost:8080/"
        },
        "id": "SLjF3xQrJ1Sg",
        "outputId": "448d11df-8816-4f67-f39d-79f182c99f47"
      },
      "source": [
        "best = fmin(\r\n",
        "    fn=objective,   \r\n",
        "    space=space,       \r\n",
        "    algo=tpe.suggest,       \r\n",
        "    max_evals=5\r\n",
        ")"
      ],
      "execution_count": 159,
      "outputs": [
        {
          "output_type": "stream",
          "text": [
            "100%|██████████| 5/5 [01:26<00:00, 17.29s/it, best loss: 0.17539062500000002]\n"
          ],
          "name": "stdout"
        }
      ]
    },
    {
      "cell_type": "code",
      "metadata": {
        "colab": {
          "base_uri": "https://localhost:8080/"
        },
        "id": "7zHRuxkrI30F",
        "outputId": "ee5f946c-c38b-47d2-cf59-736c71911abc"
      },
      "source": [
        "print(\"Best: \", best)"
      ],
      "execution_count": 160,
      "outputs": [
        {
          "output_type": "stream",
          "text": [
            "Best:  {'colsample_bytree': 0.9500000000000001, 'gamma': 2.0, 'learning_rate': 0.25, 'max_delta_step': 11.0, 'max_depth': 2, 'min_child_weight': 8.0, 'n_estimators': 40.0, 'subsample': 0.8500000000000001}\n"
          ],
          "name": "stdout"
        }
      ]
    },
    {
      "cell_type": "code",
      "metadata": {
        "id": "tamCziE8I33G"
      },
      "source": [
        "xgboost2 = xgb.XGBClassifier(\r\n",
        "    random_state=42,\r\n",
        "    max_depth = best['max_depth'],\r\n",
        "    learning_rate = best['learning_rate'],\r\n",
        "    min_child_weight = best['min_child_weight'],\r\n",
        "    subsample = best['subsample'],\r\n",
        "    colsample_bytree = best['colsample_bytree'],\r\n",
        "    gamma=best['gamma'],\r\n",
        "    n_estimators=40\r\n",
        "\r\n",
        ")"
      ],
      "execution_count": 174,
      "outputs": []
    },
    {
      "cell_type": "code",
      "metadata": {
        "colab": {
          "base_uri": "https://localhost:8080/"
        },
        "id": "YS5juwwJI34t",
        "outputId": "c5dd8721-2026-4b02-8da2-c85bc7f5ae39"
      },
      "source": [
        "xgboost2.fit(X_train, y_train)"
      ],
      "execution_count": 175,
      "outputs": [
        {
          "output_type": "execute_result",
          "data": {
            "text/plain": [
              "XGBClassifier(base_score=0.5, booster='gbtree', colsample_bylevel=1,\n",
              "              colsample_bynode=1, colsample_bytree=0.9500000000000001,\n",
              "              gamma=2.0, learning_rate=0.25, max_delta_step=0, max_depth=2,\n",
              "              min_child_weight=8.0, missing=None, n_estimators=40, n_jobs=1,\n",
              "              nthread=None, objective='binary:logistic', random_state=42,\n",
              "              reg_alpha=0, reg_lambda=1, scale_pos_weight=1, seed=None,\n",
              "              silent=None, subsample=0.8500000000000001, verbosity=1)"
            ]
          },
          "metadata": {
            "tags": []
          },
          "execution_count": 175
        }
      ]
    },
    {
      "cell_type": "code",
      "metadata": {
        "colab": {
          "base_uri": "https://localhost:8080/"
        },
        "id": "SzcKdb4tI36Q",
        "outputId": "4bdc8538-585e-479a-f304-b9f30a119c77"
      },
      "source": [
        "roc_auc_score(y_val, xgboost2.predict_proba(X_val)[:,1])"
      ],
      "execution_count": 176,
      "outputs": [
        {
          "output_type": "execute_result",
          "data": {
            "text/plain": [
              "0.7162364897933047"
            ]
          },
          "metadata": {
            "tags": []
          },
          "execution_count": 176
        }
      ]
    },
    {
      "cell_type": "markdown",
      "metadata": {
        "id": "sMblucSbNvPa"
      },
      "source": [
        "**Result:** AUC 0.61% lower than the baseline.\r\n",
        "**Conclusion:** The parameters qualitatively selected score a higher AUC score."
      ]
    },
    {
      "cell_type": "markdown",
      "metadata": {
        "id": "JgaKdRndF4lP"
      },
      "source": [
        "### **Experiment 3: Balance Data**"
      ]
    },
    {
      "cell_type": "markdown",
      "metadata": {
        "id": "svyhD26jJdhQ"
      },
      "source": [
        "As is known, currently the 0:1 split is about 1:5. This section will look at the possible effects of this imbalance and try to correct it to achieve a superior outcome. This is the last of the experiments and it is hoped that the inbalance is the cause why other methods have not succeeded in yielding a better result."
      ]
    },
    {
      "cell_type": "code",
      "metadata": {
        "colab": {
          "base_uri": "https://localhost:8080/",
          "height": 211
        },
        "id": "q-KlrxkqJdhl",
        "outputId": "aceed40f-30c4-4e7e-ae9f-d4b7ae2703c2"
      },
      "source": [
        "# Check distribution balance of target variable\r\n",
        "y = train_data.TARGET_5Yrs.value_counts()\r\n",
        "fig= plt.figure(figsize=(10,3))\r\n",
        "train_data.TARGET_5Yrs.value_counts().plot(kind='barh')\r\n",
        "for index, value in enumerate(y):\r\n",
        "    plt.text(value, index, str(value))\r\n",
        "plt.show()"
      ],
      "execution_count": null,
      "outputs": [
        {
          "output_type": "display_data",
          "data": {
            "image/png": "[encoded data removed]",
            "text/plain": [
              "<Figure size 720x216 with 1 Axes>"
            ]
          },
          "metadata": {
            "tags": [],
            "needs_background": "light"
          }
        }
      ]
    },
    {
      "cell_type": "markdown",
      "metadata": {
        "id": "hwQWkAAxCOFR"
      },
      "source": [
        "### **Confusion Matrix: Fit Model to Test data**"
      ]
    },
    {
      "cell_type": "markdown",
      "metadata": {
        "id": "NsbBueinDBu8"
      },
      "source": [
        "Fit model to test data to see how well it does with fresh data."
      ]
    },
    {
      "cell_type": "code",
      "metadata": {
        "colab": {
          "base_uri": "https://localhost:8080/",
          "height": 296
        },
        "id": "IMYBEKc4-vIf",
        "outputId": "6e053851-f723-46a7-f58e-6786d73f453a"
      },
      "source": [
        "from sklearn.metrics import plot_confusion_matrix\r\n",
        "\r\n",
        "plot_confusion_matrix(xgb_clf,\r\n",
        "                      X_test,\r\n",
        "                      y_test,\r\n",
        "                      values_format='d',\r\n",
        "                      display_labels=[\"=>5 years\",\"<5 years\"])"
      ],
      "execution_count": 73,
      "outputs": [
        {
          "output_type": "execute_result",
          "data": {
            "text/plain": [
              "<sklearn.metrics._plot.confusion_matrix.ConfusionMatrixDisplay at 0x7f56ad2d6c18>"
            ]
          },
          "metadata": {
            "tags": []
          },
          "execution_count": 73
        },
        {
          "output_type": "display_data",
          "data": {
            "image/png": "[encoded data removed]",
            "text/plain": [
              "<Figure size 432x288 with 2 Axes>"
            ]
          },
          "metadata": {
            "tags": [],
            "needs_background": "light"
          }
        }
      ]
    },
    {
      "cell_type": "markdown",
      "metadata": {
        "id": "Fzg81eglFC70"
      },
      "source": [
        "**Conclusion:**\r\n",
        "This is a fairly poor outcome (8.7% TP to FP). Looking at the FN:TN, which has performed inversely (97.5% TN:FN), I would assume this is an issue that may be addressed by balancing the data. "
      ]
    },
    {
      "cell_type": "markdown",
      "metadata": {
        "id": "NtFfpnSRbCO8"
      },
      "source": [
        "### **Define Train and Test Data**"
      ]
    },
    {
      "cell_type": "code",
      "metadata": {
        "id": "JInk_gixa5Mm"
      },
      "source": [
        "train_data = pd.read_csv('/content/kaggle/train.csv')\r\n",
        "test_data = pd.read_csv('/content/kaggle/test.csv')\r\n",
        "\r\n",
        "train_data_x = train_data.copy()\r\n",
        "train_data_x = train_data_x.drop(['Id_old', 'Id'], axis=1)\r\n",
        "train_data_target = train_data_x.pop('TARGET_5Yrs')\r\n",
        "\r\n",
        "test_data_x = test_data.drop(['Id_old', 'Id'], axis=1)\r\n",
        "\r\n",
        "scaler = MinMaxScaler()\r\n",
        "#df_train_scaled = pd.DataFrame(scaler.fit_transform(train_data_x), columns=train_data_x.columns)\r\n",
        "\r\n",
        "X_data, X_test, y_data, y_test = train_test_split(df_train_scaled, train_data_target, test_size=0.2, random_state=42)\r\n",
        "X_train, X_val, y_train, y_val = train_test_split(X_data, y_data, test_size=0.2, random_state=42)"
      ],
      "execution_count": 198,
      "outputs": []
    },
    {
      "cell_type": "markdown",
      "metadata": {
        "id": "iU4xUhT_F4li"
      },
      "source": [
        "#### **Define Model**"
      ]
    },
    {
      "cell_type": "markdown",
      "metadata": {
        "id": "-klAI1f7eFo5"
      },
      "source": [
        "Changed scale_pos_weight to 5 as the ratio is 1:5 and this value is the inverse of the class distribution. That is sum(negative cases) / sum(positive cases) = 5."
      ]
    },
    {
      "cell_type": "code",
      "metadata": {
        "id": "T4gN_ugVF4li"
      },
      "source": [
        "xgb_clf1 = XGBClassifier( learning_rate=0.9,\r\n",
        "                          random_state=42,\r\n",
        "                          max_depth = best['max_depth'],\r\n",
        "                          min_child_weight = best['min_child_weight'],\r\n",
        "                          subsample = best['subsample'],\r\n",
        "                          colsample_bytree = best['colsample_bytree'],\r\n",
        "                          gamma=best['gamma'],\r\n",
        "                          n_estimators=40,\r\n",
        "                          scale_pos_weight=5\r\n",
        "                          )"
      ],
      "execution_count": 211,
      "outputs": []
    },
    {
      "cell_type": "markdown",
      "metadata": {
        "id": "R6Zc6UIAF4lj"
      },
      "source": [
        "#### **Fit Model**"
      ]
    },
    {
      "cell_type": "markdown",
      "metadata": {
        "id": "VYH2GXSMF4lj"
      },
      "source": [
        "Train model using the train data set."
      ]
    },
    {
      "cell_type": "code",
      "metadata": {
        "colab": {
          "base_uri": "https://localhost:8080/"
        },
        "id": "uCN5vBwbF4lj",
        "outputId": "41c2cf44-2da5-44fa-b336-f9e3a918b1f4"
      },
      "source": [
        "xgb_clf1.fit(X_train, \r\n",
        "            y_train,\r\n",
        "            verbose=True,\r\n",
        "            early_stopping_rounds = 10,\r\n",
        "            eval_metric='aucpr',\r\n",
        "            eval_set=[(X_test,y_test)])\r\n",
        "\r\n",
        "roc_auc_score(y_val, xgb_clf1.predict_proba(X_val)[:,1])"
      ],
      "execution_count": 212,
      "outputs": [
        {
          "output_type": "stream",
          "text": [
            "[0]\tvalidation_0-aucpr:0.900853\n",
            "Will train until validation_0-aucpr hasn't improved in 10 rounds.\n",
            "[1]\tvalidation_0-aucpr:0.901007\n",
            "[2]\tvalidation_0-aucpr:0.904152\n",
            "[3]\tvalidation_0-aucpr:0.913387\n",
            "[4]\tvalidation_0-aucpr:0.916735\n",
            "[5]\tvalidation_0-aucpr:0.916535\n",
            "[6]\tvalidation_0-aucpr:0.917999\n",
            "[7]\tvalidation_0-aucpr:0.91777\n",
            "[8]\tvalidation_0-aucpr:0.918139\n",
            "[9]\tvalidation_0-aucpr:0.915269\n",
            "[10]\tvalidation_0-aucpr:0.914128\n",
            "[11]\tvalidation_0-aucpr:0.914646\n",
            "[12]\tvalidation_0-aucpr:0.91432\n",
            "[13]\tvalidation_0-aucpr:0.915809\n",
            "[14]\tvalidation_0-aucpr:0.915045\n",
            "[15]\tvalidation_0-aucpr:0.912383\n",
            "[16]\tvalidation_0-aucpr:0.913438\n",
            "[17]\tvalidation_0-aucpr:0.915323\n",
            "[18]\tvalidation_0-aucpr:0.911468\n",
            "Stopping. Best iteration:\n",
            "[8]\tvalidation_0-aucpr:0.918139\n",
            "\n"
          ],
          "name": "stdout"
        },
        {
          "output_type": "execute_result",
          "data": {
            "text/plain": [
              "0.7121885734410949"
            ]
          },
          "metadata": {
            "tags": []
          },
          "execution_count": 212
        }
      ]
    },
    {
      "cell_type": "markdown",
      "metadata": {
        "id": "5QlK3Z_zF4ll"
      },
      "source": [
        "#### **Confusion Matrix: Fit Model to Test data**"
      ]
    },
    {
      "cell_type": "markdown",
      "metadata": {
        "id": "21RBQOCqF4ll"
      },
      "source": [
        "Fit model to test data to see how well it does with fresh data."
      ]
    },
    {
      "cell_type": "code",
      "metadata": {
        "colab": {
          "base_uri": "https://localhost:8080/",
          "height": 296
        },
        "id": "EvxMFeOhF4lm",
        "outputId": "d8843e57-7c17-4d8e-ab24-d08825fa69d3"
      },
      "source": [
        "from sklearn.metrics import plot_confusion_matrix\r\n",
        "\r\n",
        "plot_confusion_matrix(xgb_clf1,\r\n",
        "                      X_test,\r\n",
        "                      y_test,\r\n",
        "                      values_format='d',\r\n",
        "                      display_labels=[\"=>5 years\",\"<5 years\"])"
      ],
      "execution_count": 215,
      "outputs": [
        {
          "output_type": "execute_result",
          "data": {
            "text/plain": [
              "<sklearn.metrics._plot.confusion_matrix.ConfusionMatrixDisplay at 0x7fe6ec447d30>"
            ]
          },
          "metadata": {
            "tags": []
          },
          "execution_count": 215
        },
        {
          "output_type": "display_data",
          "data": {
            "image/png": "[encoded data removed]",
            "text/plain": [
              "<Figure size 432x288 with 2 Axes>"
            ]
          },
          "metadata": {
            "tags": [],
            "needs_background": "light"
          }
        }
      ]
    },
    {
      "cell_type": "markdown",
      "metadata": {
        "id": "JouFrmxgF4lm"
      },
      "source": [
        "This is much worse than expected at estimating TP. Both the TP and AUC have decreased, although TN have increased. Surprising result and will have to go back to the drawing board to find more answers. More surprising is that the balanced data outputs obtained a better score on Kaggle than the non-balanced."
      ]
    },
    {
      "cell_type": "markdown",
      "metadata": {
        "id": "ZF9RWn5uzb_t"
      },
      "source": [
        "### **Export Best Probabilities**"
      ]
    },
    {
      "cell_type": "code",
      "metadata": {
        "id": "3Qn6vKp0Kray"
      },
      "source": [
        "submission = xgb_clf1.predict_proba(test_data_x)[:,1]\r\n",
        "submission = pd.DataFrame({'Id':test_data['Id'], 'TARGET_5Yrs':submission})\r\n",
        "submission.to_csv(\"/content/output/AdaBo ostClassifier_Predictions.csv\", index=False)"
      ],
      "execution_count": 219,
      "outputs": []
    }
  ]
}