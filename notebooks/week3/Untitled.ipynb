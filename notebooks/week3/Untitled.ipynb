{
 "cells": [
  {
   "cell_type": "code",
   "execution_count": null,
   "metadata": {},
   "outputs": [],
   "source": [
    "from hpsklearn import HyperoptEstimator, sgd\n",
    "from hyperopt import Trials, STATUS_OK, tpe, hp, fmin\n",
    "\n",
    "space = {\n",
    "    'max_depth' : hp.choice('max_depth', range(2, 20, 1)),\n",
    "    'learning_rate' : hp.quniform('learning_rate', 0.01, 0.3, 0.01),\n",
    "    'min_child_weight' : hp.quniform('min_child_weight', 5, 30, 1),\n",
    "    'subsample' : hp.quniform('subsample', 0.25, 0.4, 0.05)\n",
    "}"
   ]
  },
  {
   "cell_type": "code",
   "execution_count": null,
   "metadata": {},
   "outputs": [],
   "source": [
    "def objective(space):\n",
    "    from sklearn.model_selection import cross_val_score\n",
    "    \n",
    "    xgboost = xgb.XGBClassifier(\n",
    "        objective='binary:logistic', use_label_encoder=False, eval_metric='logloss',\n",
    "        scale_pos_weight=0.2,\n",
    "        max_depth = int(space['max_depth']),\n",
    "        learning_rate = space['learning_rate'],\n",
    "        min_child_weight = space['min_child_weight'],\n",
    "        subsample = space['subsample']\n",
    "    )\n",
    "    \n",
    "    auc = cross_val_score(xgboost, X_train_nf, y_train, cv=10, scoring=\"roc_auc\").mean()\n",
    "\n",
    "    return{'loss': 1-auc, 'status': STATUS_OK }"
   ]
  },
  {
   "cell_type": "code",
   "execution_count": null,
   "metadata": {},
   "outputs": [],
   "source": [
    "best = fmin(\n",
    "    fn=objective,\n",
    "    space=space,       \n",
    "    algo=tpe.suggest,       \n",
    "    max_evals=30\n",
    ")"
   ]
  },
  {
   "cell_type": "code",
   "execution_count": null,
   "metadata": {},
   "outputs": [],
   "source": [
    "xgb_hpr = xgb.XGBClassifier(\n",
    "    objective='binary:logistic', use_label_encoder=False, eval_metric='logloss',\n",
    "    scale_pos_weight=0.2,\n",
    "    max_depth = best['max_depth'],\n",
    "    learning_rate = best['learning_rate'],\n",
    "    min_child_weight = best['min_child_weight'],\n",
    "    subsample = best['subsample']\n",
    ").fit(X_train_nf, y_train)\n",
    "\n",
    "y_pred = xgb_hpr.predict_proba(X_val_nf)[:,1]\n",
    "eval_metrics(y_pred, y_val, praba_threshold=0.5)"
   ]
  }
 ],
 "metadata": {
  "kernelspec": {
   "display_name": "Python 3",
   "language": "python",
   "name": "python3"
  },
  "language_info": {
   "codemirror_mode": {
    "name": "ipython",
    "version": 3
   },
   "file_extension": ".py",
   "mimetype": "text/x-python",
   "name": "python",
   "nbconvert_exporter": "python",
   "pygments_lexer": "ipython3",
   "version": "3.7.6"
  }
 },
 "nbformat": 4,
 "nbformat_minor": 4
}
