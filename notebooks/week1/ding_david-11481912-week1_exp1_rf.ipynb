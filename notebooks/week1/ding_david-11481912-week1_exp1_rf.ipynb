{
 "cells": [
  {
   "cell_type": "markdown",
   "metadata": {},
   "source": [
    "## Table of Contents <a id='head'></a>\n",
    "\n",
    "<a href='#fit_rf1'> Experiment 1 RandomForest Model</a>\n",
    "\n",
    "<a href='#rf_hyper'> Experiment 2 Hyper parameter tuning with RF model</a>\n",
    "\n",
    "<a href='#rf_reduce_features'> Experiment 3 Reduce features </a>"
   ]
  },
  {
   "cell_type": "markdown",
   "metadata": {},
   "source": [
    "# Data Preparation"
   ]
  },
  {
   "cell_type": "code",
   "execution_count": 1,
   "metadata": {},
   "outputs": [],
   "source": [
    "import pandas as pd\n",
    "import numpy as np"
   ]
  },
  {
   "cell_type": "code",
   "execution_count": 2,
   "metadata": {},
   "outputs": [
    {
     "name": "stdout",
     "output_type": "stream",
     "text": [
      "(8000, 22)\n",
      "(3799, 21)\n"
     ]
    }
   ],
   "source": [
    "train_data = pd.read_csv('../data/raw/train.csv')\n",
    "test_data = pd.read_csv('../data/raw/test.csv')\n",
    "print(train_data.shape)\n",
    "print(test_data.shape)"
   ]
  },
  {
   "cell_type": "code",
   "execution_count": 12,
   "metadata": {},
   "outputs": [
    {
     "name": "stdout",
     "output_type": "stream",
     "text": [
      "(8000, 22)\n",
      "(6400, 19)\n",
      "(1600, 19)\n"
     ]
    }
   ],
   "source": [
    "from sklearn.model_selection import train_test_split\n",
    "from sklearn.preprocessing import StandardScaler\n",
    "\n",
    "train_data_x = train_data.copy()\n",
    "train_data_x = train_data_x.drop(['Id_old', 'Id'], axis=1)\n",
    "train_data_target = train_data_x.pop('TARGET_5Yrs')\n",
    "\n",
    "test_data_x = test_data.drop(['Id_old', 'Id'], axis=1)\n",
    "\n",
    "scaler = StandardScaler()\n",
    "df_train_scaled = pd.DataFrame(scaler.fit_transform(train_data_x), columns=train_data_x.columns)\n",
    "df_test_scaled = pd.DataFrame(scaler.fit_transform(test_data_x), columns=test_data_x.columns)\n",
    "\n",
    "X_train, X_test, y_train, y_test = train_test_split(df_train_scaled, train_data_target, test_size=0.2, random_state=42)\n",
    "\n",
    "print(train_data.shape)\n",
    "print(X_train.shape)\n",
    "print(X_test.shape)"
   ]
  },
  {
   "cell_type": "markdown",
   "metadata": {},
   "source": [
    "# Experiment 1 Fit RandomForests Model <a id='fit_rf1'></a>"
   ]
  },
  {
   "cell_type": "code",
   "execution_count": 9,
   "metadata": {},
   "outputs": [
    {
     "data": {
      "text/plain": [
       "RandomForestClassifier()"
      ]
     },
     "execution_count": 9,
     "metadata": {},
     "output_type": "execute_result"
    }
   ],
   "source": [
    "from sklearn.ensemble import RandomForestClassifier\n",
    "\n",
    "clf = RandomForestClassifier().fit(X_train, y_train)"
   ]
  },
  {
   "cell_type": "code",
   "execution_count": 10,
   "metadata": {},
   "outputs": [
    {
     "data": {
      "text/plain": [
       "<matplotlib.axes._subplots.AxesSubplot at 0x7ff4e325f7d0>"
      ]
     },
     "execution_count": 10,
     "metadata": {},
     "output_type": "execute_result"
    },
    {
     "data": {
      "image/png": "[encoded data removed]",
      "text/plain": [
       "<Figure size 432x288 with 1 Axes>"
      ]
     },
     "metadata": {
      "needs_background": "light"
     },
     "output_type": "display_data"
    }
   ],
   "source": [
    "feature_imp = pd.DataFrame({'features':X_train.columns, 'importance':clf.feature_importances_})\n",
    "feature_imp.plot.bar(x='features', y='importance')"
   ]
  },
  {
   "cell_type": "code",
   "execution_count": 11,
   "metadata": {},
   "outputs": [
    {
     "data": {
      "text/plain": [
       "0.7006325726909725"
      ]
     },
     "execution_count": 11,
     "metadata": {},
     "output_type": "execute_result"
    }
   ],
   "source": [
    "from sklearn.metrics import roc_auc_score\n",
    "\n",
    "roc_auc_score(y_val, clf.predict_proba(X_val)[:,1])"
   ]
  },
  {
   "cell_type": "markdown",
   "metadata": {},
   "source": [
    "### Majority of predictions are 1s"
   ]
  },
  {
   "cell_type": "code",
   "execution_count": 8,
   "metadata": {},
   "outputs": [
    {
     "data": {
      "text/plain": [
       "array([1, 1, 1, ..., 1, 1, 1])"
      ]
     },
     "execution_count": 8,
     "metadata": {},
     "output_type": "execute_result"
    }
   ],
   "source": [
    "pred"
   ]
  },
  {
   "cell_type": "code",
   "execution_count": 7,
   "metadata": {},
   "outputs": [
    {
     "name": "stdout",
     "output_type": "stream",
     "text": [
      "(1600,)\n",
      "1583\n"
     ]
    }
   ],
   "source": [
    "pred = clf.predict(X_test)\n",
    "print(pred.shape)\n",
    "print(np.sum(pred))"
   ]
  },
  {
   "cell_type": "markdown",
   "metadata": {},
   "source": [
    "## Experiment 2 Hyper parameter tuning with RF model <a id='rf_hyper'></a>"
   ]
  },
  {
   "cell_type": "code",
   "execution_count": 36,
   "metadata": {},
   "outputs": [],
   "source": [
    "from sklearn.model_selection import RandomizedSearchCV\n",
    "\n",
    "n_est = [int(x) for x in np.linspace(start=200, stop=2000, num=100)]\n",
    "max_depth = [int(x) for x in np.linspace(2, 10, num=1)]\n",
    "min_samples_split = [2,5,10]\n",
    "bootstrap = [True, False]\n",
    "class_weight = [None, 'balanced']\n",
    "\n",
    "random_grid = {'n_estimators':n_est,\n",
    "              'max_depth': max_depth,\n",
    "              'min_samples_split': min_samples_split,\n",
    "              'bootstrap': bootstrap,\n",
    "              'class_weight': class_weight}"
   ]
  },
  {
   "cell_type": "code",
   "execution_count": null,
   "metadata": {},
   "outputs": [],
   "source": [
    "clf = RandomForestClassifier()\n",
    "rf_rcv = RandomizedSearchCV(estimator=clf, param_distributions=random_grid, n_iter=100, cv=3, verbose=2, random_state=42, n_jobs=-1, scoring='roc_auc')\n",
    "rf_rcv.fit(X_train, y_train)"
   ]
  },
  {
   "cell_type": "code",
   "execution_count": 29,
   "metadata": {},
   "outputs": [
    {
     "data": {
      "text/plain": [
       "0.7072327346076265"
      ]
     },
     "execution_count": 29,
     "metadata": {},
     "output_type": "execute_result"
    }
   ],
   "source": [
    "roc_auc_score(y_val, rf_rcv.predict_proba(X_val)[:,1])"
   ]
  },
  {
   "cell_type": "markdown",
   "metadata": {},
   "source": [
    "#### All predictions are 1s!"
   ]
  },
  {
   "cell_type": "code",
   "execution_count": 14,
   "metadata": {},
   "outputs": [
    {
     "name": "stdout",
     "output_type": "stream",
     "text": [
      "1600 out of 1600 or 100% of players are predicted to be 5+ Yrs\n",
      "ROC_AUC Score: 0.708\n",
      "[[   0  263]\n",
      " [   0 1337]]\n",
      "1.0\n",
      "0.835625\n",
      "0.5\n",
      "0.9104528430371127\n"
     ]
    }
   ],
   "source": [
    "from sklearn.metrics import confusion_matrix, accuracy_score, f1_score, precision_score, recall_score, balanced_accuracy_score\n",
    "\n",
    "pred = rf_rcv.predict_proba(X_test)[:,1]\n",
    "predx = [x for x in pred > 0.5]\n",
    "print(f'{np.sum(predx)} out of {len(predx)} or {int(round(np.sum(predx)/len(predx)*100,0))}% of players are predicted to be 5+ Yrs')\n",
    "print(f'ROC_AUC Score: {round(roc_auc_score(y_test, pred),3)}')\n",
    "\n",
    "print(confusion_matrix(y_test, predx))\n",
    "print(recall_score(y_test, predx))\n",
    "print(accuracy_score(y_test, predx))\n",
    "print(balanced_accuracy_score(y_test, predx))\n",
    "print(f1_score(y_test, predx))"
   ]
  },
  {
   "cell_type": "markdown",
   "metadata": {},
   "source": [
    "#### Add thresthold to force 0s in data\n",
    "Training set"
   ]
  },
  {
   "cell_type": "code",
   "execution_count": 18,
   "metadata": {},
   "outputs": [
    {
     "name": "stdout",
     "output_type": "stream",
     "text": [
      "3530 out of 5120 or 69% of players are predicted to be 5Yrs\n",
      "ROC_AUC Score: 0.628\n",
      "[[ 453  412]\n",
      " [1137 3118]]\n",
      "0.6974609375\n",
      "0.8010276172125882\n"
     ]
    }
   ],
   "source": [
    "thr = 0.8\n",
    "pred = rf_rcv.predict_proba(X_train)[:,1]\n",
    "predx = [x for x in pred > thr]\n",
    "print(f'{np.sum(predx)} out of {len(predx)} or {int(round(np.sum(predx)/len(predx)*100,0))}% of players are predicted to be 5Yrs')\n",
    "print(f'ROC_AUC Score: {round(roc_auc_score(y_train, predx),3)}')\n",
    "\n",
    "print(confusion_matrix(y_train, predx))\n",
    "print(accuracy_score(y_train, predx))\n",
    "print(f1_score(y_train, predx))"
   ]
  },
  {
   "cell_type": "markdown",
   "metadata": {},
   "source": [
    "Validation set"
   ]
  },
  {
   "cell_type": "code",
   "execution_count": 19,
   "metadata": {},
   "outputs": [
    {
     "name": "stdout",
     "output_type": "stream",
     "text": [
      "899 out of 1280 or 70% of players are predicted to be 5Yrs\n",
      "ROC_AUC Score: 0.701\n",
      "[[105  98]\n",
      " [276 801]]\n",
      "0.7437325905292479\n",
      "0.7078125\n",
      "0.6304869849197964\n",
      "0.8107287449392712\n"
     ]
    }
   ],
   "source": [
    "thr = 0.8\n",
    "pred = rf_rcv.predict_proba(X_val)[:,1]\n",
    "predx = [x for x in pred > thr]\n",
    "print(f'{np.sum(predx)} out of {len(predx)} or {int(round(np.sum(predx)/len(predx)*100,0))}% of players are predicted to be 5Yrs')\n",
    "print(f'ROC_AUC Score: {round(roc_auc_score(y_val, pred),3)}')\n",
    "\n",
    "print(confusion_matrix(y_val, predx))\n",
    "print(recall_score(y_val, predx))\n",
    "print(accuracy_score(y_val, predx))\n",
    "print(balanced_accuracy_score(y_val, predx))\n",
    "print(f1_score(y_val, predx))"
   ]
  },
  {
   "cell_type": "markdown",
   "metadata": {},
   "source": [
    "## Experiment 3: limit important features <a id='rf_reduce_features'></a>"
   ]
  },
  {
   "cell_type": "code",
   "execution_count": 76,
   "metadata": {},
   "outputs": [],
   "source": [
    "sel_col = ['GP', 'FG%', '3P%', 'FT%']\n",
    "X_train_reduce = df_train_scaled[sel_col]\n",
    "X_val_reduce = X_val[sel_col]\n",
    "X_test_reduce = df_test_scaled[sel_col]"
   ]
  },
  {
   "cell_type": "code",
   "execution_count": 77,
   "metadata": {},
   "outputs": [],
   "source": [
    "clf = RandomForestClassifier(n_estimators=927, min_samples_split=10, max_depth=2, class_weight=None, bootstrap=True).fit(X_train_reduce, train_data_target)"
   ]
  },
  {
   "cell_type": "code",
   "execution_count": 78,
   "metadata": {},
   "outputs": [
    {
     "name": "stdout",
     "output_type": "stream",
     "text": [
      "894 out of 1280 or 70% of players are predicted to be 5+ Yrs\n",
      "ROC_AUC Score: 0.717\n",
      "[[112  91]\n",
      " [274 803]]\n",
      "0.7455896007428041\n",
      "0.71484375\n",
      "0.6486568693369192\n",
      "0.8148148148148149\n"
     ]
    }
   ],
   "source": [
    "thr = 0.8\n",
    "pred = clf.predict_proba(X_val_reduce)[:,1]\n",
    "predx = [x for x in pred > thr]\n",
    "\n",
    "print(f'{np.sum(predx)} out of {len(predx)} or {int(round(np.sum(predx)/len(predx)*100,0))}% of players are predicted to be 5+ Yrs')\n",
    "print(f'ROC_AUC Score: {round(roc_auc_score(y_val, pred),3)}')\n",
    "\n",
    "print(confusion_matrix(y_val, predx))\n",
    "print(recall_score(y_val, predx))\n",
    "print(accuracy_score(y_val, predx))\n",
    "print(balanced_accuracy_score(y_val, predx))\n",
    "print(f1_score(y_val, predx))"
   ]
  },
  {
   "cell_type": "code",
   "execution_count": 79,
   "metadata": {},
   "outputs": [
    {
     "name": "stdout",
     "output_type": "stream",
     "text": [
      "No Skill: ROC AUC=0.500\n",
      "Logistic: ROC AUC=0.717\n"
     ]
    },
    {
     "data": {
      "image/png": "[encoded data removed]",
      "text/plain": [
       "<Figure size 432x288 with 1 Axes>"
      ]
     },
     "metadata": {
      "needs_background": "light"
     },
     "output_type": "display_data"
    }
   ],
   "source": [
    "import sys\n",
    "sys.path.append(\"/home/jovyan/work\")\n",
    "\n",
    "from src.visualization.visualize import plot_roc_curve\n",
    "plot_roc_curve(pred, y_val)"
   ]
  },
  {
   "cell_type": "code",
   "execution_count": 80,
   "metadata": {},
   "outputs": [],
   "source": [
    "submission = clf.predict_proba(X_test_reduce)[:,1]\n",
    "submission = pd.DataFrame({'Id':test_data['Id'], 'TARGET_5Yrs':submission})\n",
    "submission.to_csv(\"../data/submission/0203_rf_reduced_pred.csv\", index=False)"
   ]
  }
 ],
 "metadata": {
  "kernelspec": {
   "display_name": "Python 3",
   "language": "python",
   "name": "python3"
  },
  "language_info": {
   "codemirror_mode": {
    "name": "ipython",
    "version": 3
   },
   "file_extension": ".py",
   "mimetype": "text/x-python",
   "name": "python",
   "nbconvert_exporter": "python",
   "pygments_lexer": "ipython3",
   "version": "3.7.6"
  }
 },
 "nbformat": 4,
 "nbformat_minor": 4
}
