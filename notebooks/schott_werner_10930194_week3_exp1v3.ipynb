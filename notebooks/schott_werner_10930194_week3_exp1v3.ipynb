{
  "nbformat": 4,
  "nbformat_minor": 0,
  "metadata": {
    "kernelspec": {
      "display_name": "Python 3",
      "language": "python",
      "name": "python3"
    },
    "language_info": {
      "codemirror_mode": {
        "name": "ipython",
        "version": 3
      },
      "file_extension": ".py",
      "mimetype": "text/x-python",
      "name": "python",
      "nbconvert_exporter": "python",
      "pygments_lexer": "ipython3",
      "version": "3.7.6"
    },
    "colab": {
      "name": "schott_werner_10930194_week3_exp1v3.ipynb",
      "provenance": [],
      "collapsed_sections": [
        "5QlK3Z_zF4ll",
        "8rYdjDO1EeO7",
        "DRUMZvOOvX9d"
      ],
      "toc_visible": true
    }
  },
  "cells": [
    {
      "cell_type": "markdown",
      "metadata": {
        "id": "VGuXsrPlDXOv"
      },
      "source": [
        "# **1. Pre-processing**"
      ]
    },
    {
      "cell_type": "markdown",
      "metadata": {
        "id": "sKPXI2L9zb_p"
      },
      "source": [
        "## **Load Packages**"
      ]
    },
    {
      "cell_type": "code",
      "metadata": {
        "id": "6Npy7mVezb_q"
      },
      "source": [
        "# File management\n",
        "import os\n",
        "\n",
        "# Data/numeric manipulation\n",
        "import pandas as pd\n",
        "import numpy as np\n",
        "\n",
        "# Visualisation\n",
        "import matplotlib.pyplot as plt\n",
        "\n",
        "# Pre-processing\n",
        "from sklearn.model_selection import train_test_split\n",
        "from sklearn.preprocessing import MinMaxScaler\n",
        "\n",
        "# Modelling\n",
        "import pandas as pd\n",
        "from sklearn.metrics import classification_report, confusion_matrix\n",
        "from sklearn.ensemble import GradientBoostingClassifier\n",
        "from xgboost import XGBClassifier\n",
        "from sklearn.metrics import roc_auc_score\n",
        "from xgboost import plot_importance"
      ],
      "execution_count": null,
      "outputs": []
    },
    {
      "cell_type": "markdown",
      "metadata": {
        "id": "6dxcabip0N0k"
      },
      "source": [
        "## **Load Data**"
      ]
    },
    {
      "cell_type": "code",
      "metadata": {
        "colab": {
          "base_uri": "https://localhost:8080/"
        },
        "id": "334Bxxid2lcM",
        "outputId": "63eeb6a7-9da7-4a96-a127-0662c60b8e18"
      },
      "source": [
        "# Create data directory\r\n",
        "if not os.path.exists('/content/kaggle'):\r\n",
        "    os.makedirs('/content/kaggle')\r\n",
        "    \r\n",
        "# Create output directory\r\n",
        "if not os.path.exists('/content/output'):\r\n",
        "    os.makedirs('/content/output')\r\n",
        "\r\n",
        "# Download data from Kaggle API, unzip and place in data directory\r\n",
        "os.environ['KAGGLE_USERNAME'] = \"kallikrates\"\r\n",
        "os.environ['KAGGLE_KEY'] = \"6ec6a025503be3d3b75961c4c2ac2748\"\r\n",
        "!kaggle datasets download -d kallikrates/nba-career-prediction-data\r\n",
        "!unzip -q nba-career-prediction-data.zip -d /content/kaggle"
      ],
      "execution_count": null,
      "outputs": [
        {
          "output_type": "stream",
          "text": [
            "Downloading nba-career-prediction-data.zip to /content\n",
            "\r  0% 0.00/367k [00:00<?, ?B/s]\n",
            "\r100% 367k/367k [00:00<00:00, 54.2MB/s]\n"
          ],
          "name": "stdout"
        }
      ]
    },
    {
      "cell_type": "code",
      "metadata": {
        "id": "mZ0FpTMe6TWN"
      },
      "source": [
        "#Create data objects\r\n",
        "train_data = pd.read_csv('/content/kaggle/train.csv')\r\n",
        "test_data = pd.read_csv('/content/kaggle/test.csv')"
      ],
      "execution_count": null,
      "outputs": []
    },
    {
      "cell_type": "markdown",
      "metadata": {
        "id": "vijkoVaSGsRx"
      },
      "source": [
        "# **Experiment 1: XGBoost - Gridsearch of best scale_pos_weight value**"
      ]
    },
    {
      "cell_type": "markdown",
      "metadata": {
        "id": "5MwpnIfjG5mg"
      },
      "source": [
        "**Summary:**\r\n",
        "\r\n",
        "This week I thought to move from XGBoost to other models. However, there was one parameter that I was not content with: scale_pos_weight. The recommended value was '8', as 80% of the training data is of the negative class. However, most of the articles I read about class imbalance presented some way of dealing with it and they were not all aligned.\r\n",
        "\r\n",
        "Thinking about whether there may be another value for this data set (perhaps a different/better tuning for an unbalanced dataset), I came across this article https://machinelearningmastery.com/xgboost-for-imbalanced-classification/. This article states that the \"heuristic for setting the scale_pos_weight is effective for many situations.\" This is the value used in the last set of experiments. As the negative class is about 80%, I set this value to 8. This article mentions that \"it is possible that better performance can be achieved with a different class weighting, and this too will depend on the choice of performance metric used to evaluate the model.\" The article goes to show how this may be done applying grid search to a range of different class weightings, applying RepeatedStratifiedKFold to include the same percentage of target values in each fold I thought this may present an answer to my current performance slump. \r\n",
        "\r\n",
        "\r\n",
        "**Objective:**\r\n",
        "\r\n",
        "Use Grid search to find the best parameter for scale_pos_weight in XG Boost model.\r\n"
      ]
    },
    {
      "cell_type": "markdown",
      "metadata": {
        "id": "NwV93Ohw9z3I"
      },
      "source": [
        "## **Define Data Objects**"
      ]
    },
    {
      "cell_type": "code",
      "metadata": {
        "id": "ReqJO3Nt1DfG"
      },
      "source": [
        "train_data = pd.read_csv('/content/kaggle/train.csv')\r\n",
        "test_data = pd.read_csv('/content/kaggle/test.csv')\r\n",
        "\r\n",
        "train_data_x = train_data.copy()\r\n",
        "train_data_x = train_data_x.drop(['Id_old', 'Id'], axis=1)\r\n",
        "train_data_target = train_data_x.pop('TARGET_5Yrs')\r\n",
        "\r\n",
        "test_data_x = test_data.drop(['Id_old', 'Id'], axis=1)\r\n",
        "\r\n",
        "scaler = MinMaxScaler()\r\n",
        "df_train_scaled = pd.DataFrame(scaler.fit_transform(train_data_x), columns=train_data_x.columns)\r\n",
        "\r\n",
        "X_data, X_test, y_data, y_test = train_test_split(df_train_scaled, train_data_target, test_size=0.4, random_state=42)\r\n",
        "X_train, X_val, y_train, y_val = train_test_split(X_data, y_data, test_size=0.4, random_state=42)"
      ],
      "execution_count": null,
      "outputs": []
    },
    {
      "cell_type": "markdown",
      "metadata": {
        "id": "wKHMm1UX94au"
      },
      "source": [
        "## **Define Models**"
      ]
    },
    {
      "cell_type": "markdown",
      "metadata": {
        "id": "UmJ5ozCj_tBX"
      },
      "source": [
        "### **Model 0: Baseline**"
      ]
    },
    {
      "cell_type": "code",
      "metadata": {
        "id": "NB0yUq8Uw2zB"
      },
      "source": [
        "from sklearn.metrics import plot_roc_curve"
      ],
      "execution_count": null,
      "outputs": []
    },
    {
      "cell_type": "markdown",
      "metadata": {
        "id": "OAlqCPZuynyc"
      },
      "source": [
        "The below model serves as a baseline model with default hyperparameter values."
      ]
    },
    {
      "cell_type": "code",
      "metadata": {
        "colab": {
          "base_uri": "https://localhost:8080/"
        },
        "id": "3Xf3higbwDmM",
        "outputId": "90a7e7ec-7977-4f19-d4b5-c83ba365dbda"
      },
      "source": [
        "model0 = XGBClassifier(objective='binary:logistic', use_label_encoder=False, eval_metric='auc').fit(X_train, y_train)\r\n",
        "\r\n",
        "roc_auc_score(y_val, model0.predict_proba(X_val)[:,1])"
      ],
      "execution_count": null,
      "outputs": [
        {
          "output_type": "execute_result",
          "data": {
            "text/plain": [
              "0.6867281887094496"
            ]
          },
          "metadata": {
            "tags": []
          },
          "execution_count": 73
        }
      ]
    },
    {
      "cell_type": "code",
      "metadata": {
        "colab": {
          "base_uri": "https://localhost:8080/",
          "height": 278
        },
        "id": "8YKGWX4yxhQj",
        "outputId": "d5db0bc8-d5d2-403e-b590-9ef520f50518"
      },
      "source": [
        "model0_roc = plot_roc_curve(model0, X_val, y_val)"
      ],
      "execution_count": null,
      "outputs": [
        {
          "output_type": "display_data",
          "data": {
            "image/png": "[encoded data removed]",
            "text/plain": [
              "<Figure size 432x288 with 1 Axes>"
            ]
          },
          "metadata": {
            "tags": [],
            "needs_background": "light"
          }
        }
      ]
    },
    {
      "cell_type": "code",
      "metadata": {
        "colab": {
          "base_uri": "https://localhost:8080/",
          "height": 296
        },
        "id": "BTzM__DHKBcS",
        "outputId": "1851e2cb-0684-4340-cef6-1191c9a40870"
      },
      "source": [
        "plot_confusion_matrix(model0,\r\n",
        "                      X_val,\r\n",
        "                      y_val,\r\n",
        "                      values_format='d',\r\n",
        "                      display_labels=[\"=>5 years\",\"<5 years\"])"
      ],
      "execution_count": null,
      "outputs": [
        {
          "output_type": "execute_result",
          "data": {
            "text/plain": [
              "<sklearn.metrics._plot.confusion_matrix.ConfusionMatrixDisplay at 0x7f45c695ea58>"
            ]
          },
          "metadata": {
            "tags": []
          },
          "execution_count": 138
        },
        {
          "output_type": "display_data",
          "data": {
            "image/png": "[encoded data removed]",
            "text/plain": [
              "<Figure size 432x288 with 2 Axes>"
            ]
          },
          "metadata": {
            "tags": [],
            "needs_background": "light"
          }
        }
      ]
    },
    {
      "cell_type": "code",
      "metadata": {
        "colab": {
          "base_uri": "https://localhost:8080/"
        },
        "id": "Qq3UzZ7cLa9B",
        "outputId": "d644592f-178d-4e1c-b696-33f91fe0a5f1"
      },
      "source": [
        "model0.fit(X_train, y_train)\r\n",
        "predictions = model0.predict(X_val)\r\n",
        "\r\n",
        "print(\"Classification Report\")\r\n",
        "print(classification_report(y_val, predictions))"
      ],
      "execution_count": null,
      "outputs": [
        {
          "output_type": "stream",
          "text": [
            "Classification Report\n",
            "              precision    recall  f1-score   support\n",
            "\n",
            "           0       0.22      0.02      0.03       335\n",
            "           1       0.83      0.99      0.90      1585\n",
            "\n",
            "    accuracy                           0.82      1920\n",
            "   macro avg       0.52      0.50      0.47      1920\n",
            "weighted avg       0.72      0.82      0.75      1920\n",
            "\n"
          ],
          "name": "stdout"
        }
      ]
    },
    {
      "cell_type": "markdown",
      "metadata": {
        "id": "iBFOcZdMFfUY"
      },
      "source": [
        "### **Model 1: Grid Search scale_pos_weight**"
      ]
    },
    {
      "cell_type": "markdown",
      "metadata": {
        "id": "jFwkkTPzFdwY"
      },
      "source": [
        "This evaluates each positive class weighting using repeated k-fold cross-validation and reports the best configuration and the associated mean ROC AUC score. Using stratified fold cross validation to include the same percentage of target values in each fold."
      ]
    },
    {
      "cell_type": "code",
      "metadata": {
        "colab": {
          "base_uri": "https://localhost:8080/"
        },
        "id": "t-6BBmCWFdwa",
        "outputId": "06114eb9-ebc9-4f5e-c5e6-601338caf643"
      },
      "source": [
        "# grid search positive class weights with xgboost for imbalance classification\r\n",
        "from numpy import mean\r\n",
        "from sklearn.model_selection import GridSearchCV\r\n",
        "from sklearn.model_selection import RepeatedStratifiedKFold\r\n",
        "from xgboost import XGBClassifier\r\n",
        "\r\n",
        "# generate dataset\r\n",
        "X, y = X_train, y_train\r\n",
        "\r\n",
        "# define model\r\n",
        "model = XGBClassifier()\r\n",
        "\r\n",
        "# define grid\r\n",
        "weights = [1, 10, 25, 50, 75, 99, 100, 1000]\r\n",
        "param_grid = dict(scale_pos_weight=weights)\r\n",
        "\r\n",
        "# define evaluation procedure\r\n",
        "cv = RepeatedStratifiedKFold(n_splits=10, n_repeats=3, random_state=1)\r\n",
        "\r\n",
        "\r\n",
        "# define grid search\r\n",
        "grid = GridSearchCV(estimator=model, param_grid=param_grid, n_jobs=-1, cv=cv, scoring='roc_auc')\r\n",
        "# execute the grid search\r\n",
        "grid_result = grid.fit(X, y)\r\n",
        "\r\n",
        "\r\n",
        "# report the best configuration\r\n",
        "print(\"Best: %f using %s\" % (grid_result.best_score_, grid_result.best_params_))\r\n",
        "\r\n",
        "# report all configurations\r\n",
        "means = grid_result.cv_results_['mean_test_score']\r\n",
        "stds = grid_result.cv_results_['std_test_score']\r\n",
        "params = grid_result.cv_results_['params']\r\n",
        "for mean, stdev, param in zip(means, stds, params):\r\n",
        "    print(\"%f (%f) with: %r\" % (mean, stdev, param))"
      ],
      "execution_count": null,
      "outputs": [
        {
          "output_type": "stream",
          "text": [
            "Best: 0.702416 using {'scale_pos_weight': 1000}\n",
            "0.696945 (0.040145) with: {'scale_pos_weight': 1}\n",
            "0.698167 (0.038971) with: {'scale_pos_weight': 10}\n",
            "0.698911 (0.038540) with: {'scale_pos_weight': 25}\n",
            "0.701846 (0.037866) with: {'scale_pos_weight': 50}\n",
            "0.702203 (0.038235) with: {'scale_pos_weight': 75}\n",
            "0.701595 (0.038869) with: {'scale_pos_weight': 99}\n",
            "0.700904 (0.039697) with: {'scale_pos_weight': 100}\n",
            "0.702416 (0.038916) with: {'scale_pos_weight': 1000}\n"
          ],
          "name": "stdout"
        }
      ]
    },
    {
      "cell_type": "markdown",
      "metadata": {
        "id": "OUV_0FoxAONf"
      },
      "source": [
        "### **Model 2: Run Model with best Grid Search scale_pos_weight (1000)**"
      ]
    },
    {
      "cell_type": "markdown",
      "metadata": {
        "id": "z97qz0gbhHAD"
      },
      "source": [
        "Updating scale_pos_weight and also using stratified fold cross validation to include the same percentage of target values in each fold."
      ]
    },
    {
      "cell_type": "code",
      "metadata": {
        "colab": {
          "base_uri": "https://localhost:8080/"
        },
        "id": "L5BEmlIytWFx",
        "outputId": "16a43fb6-d9e6-4158-8c55-b6fd65787859"
      },
      "source": [
        "# fit balanced xgboost on an imbalanced classification dataset\r\n",
        "from sklearn.model_selection import cross_val_score\r\n",
        "\r\n",
        "# generate dataset\r\n",
        "X, y = X_train, y_train\r\n",
        "# define model\r\n",
        "model2 = XGBClassifier(scale_pos_weight=1000)\r\n",
        "# define evaluation procedure\r\n",
        "cv = RepeatedStratifiedKFold(n_splits=10, n_repeats=3, random_state=1)\r\n",
        "# evaluate model\r\n",
        "scores = cross_val_score(model2, X, y, scoring='roc_auc', cv=cv, n_jobs=-1)\r\n",
        "# summarize performance\r\n",
        "print('Mean ROC AUC: %.5f' % np.mean(scores))"
      ],
      "execution_count": null,
      "outputs": [
        {
          "output_type": "stream",
          "text": [
            "Mean ROC AUC: 0.70242\n"
          ],
          "name": "stdout"
        }
      ]
    },
    {
      "cell_type": "code",
      "metadata": {
        "colab": {
          "base_uri": "https://localhost:8080/"
        },
        "id": "IVTIhbAaz4d4",
        "outputId": "8fbe90c7-cdbe-4a26-c6e3-94a4a1ccd567"
      },
      "source": [
        "model2 = XGBClassifier(objective='binary:logistic', use_label_encoder=False, eval_metric='auc',scale_pos_weight=1000).fit(X_train, y_train)\r\n",
        "\r\n",
        "roc_auc_score(y_val, model2.predict_proba(X_val)[:,1])"
      ],
      "execution_count": null,
      "outputs": [
        {
          "output_type": "execute_result",
          "data": {
            "text/plain": [
              "0.6931409200056501"
            ]
          },
          "metadata": {
            "tags": []
          },
          "execution_count": 66
        }
      ]
    },
    {
      "cell_type": "code",
      "metadata": {
        "colab": {
          "base_uri": "https://localhost:8080/",
          "height": 278
        },
        "id": "FWZjjm4wyAzv",
        "outputId": "66f88c73-4290-4378-d8d3-c220a677656b"
      },
      "source": [
        "model2_roc = plot_roc_curve(model2, X_val, y_val)"
      ],
      "execution_count": null,
      "outputs": [
        {
          "output_type": "display_data",
          "data": {
            "image/png": "[encoded data removed]",
            "text/plain": [
              "<Figure size 432x288 with 1 Axes>"
            ]
          },
          "metadata": {
            "tags": [],
            "needs_background": "light"
          }
        }
      ]
    },
    {
      "cell_type": "code",
      "metadata": {
        "colab": {
          "base_uri": "https://localhost:8080/",
          "height": 296
        },
        "id": "uZe9W4dCJicD",
        "outputId": "f3bed2e5-b058-4478-b081-a6dfc374b880"
      },
      "source": [
        "from sklearn.metrics import plot_confusion_matrix\r\n",
        "\r\n",
        "plot_confusion_matrix(model2,\r\n",
        "                      X_val,\r\n",
        "                      y_val,\r\n",
        "                      values_format='d',\r\n",
        "                      display_labels=[\"=>5 years\",\"<5 years\"])"
      ],
      "execution_count": null,
      "outputs": [
        {
          "output_type": "execute_result",
          "data": {
            "text/plain": [
              "<sklearn.metrics._plot.confusion_matrix.ConfusionMatrixDisplay at 0x7f45c6e99710>"
            ]
          },
          "metadata": {
            "tags": []
          },
          "execution_count": 125
        },
        {
          "output_type": "display_data",
          "data": {
            "image/png": "[encoded data removed]",
            "text/plain": [
              "<Figure size 432x288 with 2 Axes>"
            ]
          },
          "metadata": {
            "tags": [],
            "needs_background": "light"
          }
        }
      ]
    },
    {
      "cell_type": "code",
      "metadata": {
        "colab": {
          "base_uri": "https://localhost:8080/"
        },
        "id": "mefgyFFbOz53",
        "outputId": "044e1c70-f881-4d64-d31e-6b871502d329"
      },
      "source": [
        "model2.fit(X_train, y_train)\r\n",
        "predictions = model2.predict(X_val)\r\n",
        "\r\n",
        "print(\"Classification Report\")\r\n",
        "print(classification_report(y_val, predictions))"
      ],
      "execution_count": null,
      "outputs": [
        {
          "output_type": "stream",
          "text": [
            "Classification Report\n",
            "              precision    recall  f1-score   support\n",
            "\n",
            "           0       0.33      0.00      0.01       335\n",
            "           1       0.83      1.00      0.90      1585\n",
            "\n",
            "    accuracy                           0.82      1920\n",
            "   macro avg       0.58      0.50      0.45      1920\n",
            "weighted avg       0.74      0.82      0.75      1920\n",
            "\n"
          ],
          "name": "stdout"
        }
      ]
    },
    {
      "cell_type": "markdown",
      "metadata": {
        "id": "A82s_pG1CILc"
      },
      "source": [
        "### **Model 3: Run Model with heuristically-based scale_pos_weight (8)**"
      ]
    },
    {
      "cell_type": "markdown",
      "metadata": {
        "id": "nqScoEstCILe"
      },
      "source": [
        "As the class split is approximately 20:80, positive to negative class, the recommended value for an imbalanced dataset is 8. This will be compared to the value obtained from the Grid Search."
      ]
    },
    {
      "cell_type": "code",
      "metadata": {
        "colab": {
          "base_uri": "https://localhost:8080/"
        },
        "id": "i8SskZSOCILf",
        "outputId": "1e8d47bb-f3dc-4a9a-8bc2-ed65f9cba92c"
      },
      "source": [
        "# fit balanced xgboost on an imbalanced classification dataset\r\n",
        "from sklearn.model_selection import cross_val_score\r\n",
        "\r\n",
        "# generate dataset\r\n",
        "X, y = X_train, y_train\r\n",
        "# define model\r\n",
        "model3 = XGBClassifier(scale_pos_weight=8)\r\n",
        "# define evaluation procedure\r\n",
        "cv = RepeatedStratifiedKFold(n_splits=10, n_repeats=3, random_state=1)\r\n",
        "# evaluate model\r\n",
        "scores = cross_val_score(model3, X, y, scoring='roc_auc', cv=cv, n_jobs=-1)\r\n",
        "# summarize performance\r\n",
        "print('Mean ROC AUC: %.5f' % np.mean(scores))"
      ],
      "execution_count": null,
      "outputs": [
        {
          "output_type": "stream",
          "text": [
            "Mean ROC AUC: 0.70133\n"
          ],
          "name": "stdout"
        }
      ]
    },
    {
      "cell_type": "code",
      "metadata": {
        "colab": {
          "base_uri": "https://localhost:8080/"
        },
        "id": "0RiY6b2ZytHg",
        "outputId": "694d00a4-4a24-4758-a693-d1f931259f93"
      },
      "source": [
        "model3.fit(X_train, \r\n",
        "            y_train\r\n",
        "           )\r\n",
        "\r\n",
        "roc_auc_score(y_val, model3.predict_proba(X_val)[:,1])"
      ],
      "execution_count": null,
      "outputs": [
        {
          "output_type": "execute_result",
          "data": {
            "text/plain": [
              "0.6932106031357409"
            ]
          },
          "metadata": {
            "tags": []
          },
          "execution_count": 64
        }
      ]
    },
    {
      "cell_type": "code",
      "metadata": {
        "colab": {
          "base_uri": "https://localhost:8080/",
          "height": 278
        },
        "id": "l5W8bO4VytKA",
        "outputId": "cbecb9d9-0795-498d-aeae-508e8914a5a1"
      },
      "source": [
        "model3_roc = plot_roc_curve(model3, X_val, y_val)"
      ],
      "execution_count": null,
      "outputs": [
        {
          "output_type": "display_data",
          "data": {
            "image/png": "[encoded data removed]",
            "text/plain": [
              "<Figure size 432x288 with 1 Axes>"
            ]
          },
          "metadata": {
            "tags": [],
            "needs_background": "light"
          }
        }
      ]
    },
    {
      "cell_type": "code",
      "metadata": {
        "colab": {
          "base_uri": "https://localhost:8080/",
          "height": 296
        },
        "id": "4mpZZ_8_J7kj",
        "outputId": "dd7a3ccc-3b70-4dac-eeb0-f9f2c48380cf"
      },
      "source": [
        "from sklearn.metrics import plot_confusion_matrix\r\n",
        "\r\n",
        "plot_confusion_matrix(model3,\r\n",
        "                      X_val,\r\n",
        "                      y_val,\r\n",
        "                      values_format='d',\r\n",
        "                      display_labels=[\"=>5 years\",\"<5 years\"])"
      ],
      "execution_count": null,
      "outputs": [
        {
          "output_type": "execute_result",
          "data": {
            "text/plain": [
              "<sklearn.metrics._plot.confusion_matrix.ConfusionMatrixDisplay at 0x7f45c6f02ef0>"
            ]
          },
          "metadata": {
            "tags": []
          },
          "execution_count": 126
        },
        {
          "output_type": "display_data",
          "data": {
            "image/png": "[encoded data removed]",
            "text/plain": [
              "<Figure size 432x288 with 2 Axes>"
            ]
          },
          "metadata": {
            "tags": [],
            "needs_background": "light"
          }
        }
      ]
    },
    {
      "cell_type": "code",
      "metadata": {
        "colab": {
          "base_uri": "https://localhost:8080/"
        },
        "id": "WqLpfkY9Ph8x",
        "outputId": "f7e2b657-ae78-419d-be69-2b87e1c0dc86"
      },
      "source": [
        "model3.fit(X_train, y_train)\r\n",
        "predictions = model3.predict(X_val)\r\n",
        "\r\n",
        "print(\"Classification Report\")\r\n",
        "print(classification_report(y_val, predictions))"
      ],
      "execution_count": null,
      "outputs": [
        {
          "output_type": "stream",
          "text": [
            "Classification Report\n",
            "              precision    recall  f1-score   support\n",
            "\n",
            "           0       0.50      0.01      0.02       335\n",
            "           1       0.83      1.00      0.90      1585\n",
            "\n",
            "    accuracy                           0.83      1920\n",
            "   macro avg       0.66      0.50      0.46      1920\n",
            "weighted avg       0.77      0.83      0.75      1920\n",
            "\n"
          ],
          "name": "stdout"
        }
      ]
    },
    {
      "cell_type": "code",
      "metadata": {
        "id": "-z88nqxrf0vQ"
      },
      "source": [
        ""
      ],
      "execution_count": null,
      "outputs": []
    },
    {
      "cell_type": "markdown",
      "metadata": {
        "id": "aoOHLJHqNgik"
      },
      "source": [
        "## **Conclusion:**"
      ]
    },
    {
      "cell_type": "markdown",
      "metadata": {
        "id": "Fzg81eglFC70"
      },
      "source": [
        "There is little difference between these model scores. When fitting train data, Model 2 (gridsearch model) is slightly higher than Model 3 (heuristically- sourced parameter). However, when using validation data, the difference is immaterial. \r\n",
        "**Conclusion:** looking at optimising this parameter to improve a model's predictive power is not effective. Also, this example showed that using StratifiedKFold as opposed to Gridsearch, made little difference to the outcome."
      ]
    },
    {
      "cell_type": "markdown",
      "metadata": {
        "id": "48s-YSDx7Wrs"
      },
      "source": [
        "**Validation Scores**"
      ]
    },
    {
      "cell_type": "code",
      "metadata": {
        "colab": {
          "base_uri": "https://localhost:8080/"
        },
        "id": "md75ihxQ1b0i",
        "outputId": "e85b6f53-4a4a-457a-800c-c05b0e6ae733"
      },
      "source": [
        "print(roc_auc_score(y_val, model0.predict_proba(X_val)[:,1]),\r\n",
        "      roc_auc_score(y_val, model2.predict_proba(X_val)[:,1]),\r\n",
        "      roc_auc_score(y_val, model3.predict_proba(X_val)[:,1]))"
      ],
      "execution_count": null,
      "outputs": [
        {
          "output_type": "stream",
          "text": [
            "0.6867281887094496 0.6931409200056501 0.6932106031357409\n"
          ],
          "name": "stdout"
        }
      ]
    },
    {
      "cell_type": "markdown",
      "metadata": {
        "id": "N709ctBUN622"
      },
      "source": [
        "# **Experiment 2: Non-XGBoost Model Comparisons**"
      ]
    },
    {
      "cell_type": "markdown",
      "metadata": {
        "id": "lnnIXFc8N627"
      },
      "source": [
        "**Summary:**\r\n",
        "\r\n",
        "During the last few weeks, and in Experiment 1, I have worked with XGBoost models, thinking they may be the best for binary classification. I based this assumption on past experience and some reading, especially about winning Kaggle competitions. This week I wanted to move away from this to something else. However, it was dificult to know what as 1. many opinions vary on the subject 2. this data set is unique and thus, approaches which have produced good results working with other data sets will not necessarily work on this. As such, I thought to  compare these models side by side.\r\n",
        "\r\n",
        "**Objective:**\r\n",
        "\r\n",
        "Compare Non-XGBoost models, especially for Accuracy and ROC AUC.\r\n"
      ]
    },
    {
      "cell_type": "markdown",
      "metadata": {
        "id": "Kb8YhqXrN628"
      },
      "source": [
        "##**Import Packages**"
      ]
    },
    {
      "cell_type": "code",
      "metadata": {
        "id": "exwnUWNN_z_o"
      },
      "source": [
        "import pandas as pd\r\n",
        "import numpy as np\r\n",
        "from sklearn.metrics import roc_auc_score, accuracy_score, precision_score, recall_score, f1_score\r\n",
        "from sklearn.linear_model import LogisticRegression\r\n",
        "from sklearn.tree import DecisionTreeClassifier\r\n",
        "from sklearn.svm import SVC\r\n",
        "from sklearn.ensemble import RandomForestClassifier\r\n",
        "from sklearn.discriminant_analysis import LinearDiscriminantAnalysis, QuadraticDiscriminantAnalysis\r\n",
        "from sklearn.cluster import KMeans\r\n",
        "from sklearn.neighbors import KNeighborsClassifier\r\n",
        "from sklearn.naive_bayes import GaussianNB\r\n",
        "from sklearn.metrics import precision_recall_fscore_support\r\n",
        "from sklearn.metrics import mean_squared_error as mse\r\n",
        "from sklearn.preprocessing import StandardScaler\r\n",
        "from sklearn.model_selection import cross_validate\r\n",
        "from sklearn.ensemble import ExtraTreesClassifier\r\n",
        "from sklearn.feature_selection import SelectFromModel\r\n",
        "from sklearn.svm import LinearSVC\r\n",
        "from sklearn.ensemble import VotingClassifier\r\n",
        "from sklearn.feature_selection import RFECV"
      ],
      "execution_count": null,
      "outputs": []
    },
    {
      "cell_type": "markdown",
      "metadata": {
        "id": "vvE6W6PFCE5G"
      },
      "source": [
        "## **Define Data Objects**"
      ]
    },
    {
      "cell_type": "code",
      "metadata": {
        "id": "ZepZyCcUN629"
      },
      "source": [
        "train_data = pd.read_csv('/content/kaggle/train.csv')\r\n",
        "test_data = pd.read_csv('/content/kaggle/test.csv')\r\n",
        "\r\n",
        "train_data_x = train_data.copy()\r\n",
        "train_data_x = train_data_x.drop(['Id_old', 'Id'], axis=1)\r\n",
        "train_data_target = train_data_x.pop('TARGET_5Yrs')\r\n",
        "\r\n",
        "test_data_x = test_data.drop(['Id_old', 'Id'], axis=1)\r\n",
        "\r\n",
        "scaler = MinMaxScaler()\r\n",
        "df_train_scaled = pd.DataFrame(scaler.fit_transform(train_data_x), columns=train_data_x.columns)\r\n",
        "\r\n",
        "X_data, X_test, y_data, y_test = train_test_split(df_train_scaled, train_data_target, test_size=0.4, random_state=42)\r\n",
        "X_train, X_val, y_train, y_val = train_test_split(X_data, y_data, test_size=0.4, random_state=42)"
      ],
      "execution_count": null,
      "outputs": []
    },
    {
      "cell_type": "markdown",
      "metadata": {
        "id": "3siVXexGN62-"
      },
      "source": [
        "## **Define Models**"
      ]
    },
    {
      "cell_type": "markdown",
      "metadata": {
        "id": "jnV5ngwSF_hO"
      },
      "source": [
        "### **Logistic Regression**"
      ]
    },
    {
      "cell_type": "code",
      "metadata": {
        "id": "aJ6sVnyQN62-"
      },
      "source": [
        "LR = LogisticRegression()\r\n",
        "\r\n",
        "scoring = ['accuracy', 'precision_macro', 'recall_macro' , 'f1_weighted', 'roc_auc']\r\n",
        "scores = cross_validate(LR, X_train, y_train, scoring=scoring, cv=20)\r\n",
        "\r\n",
        "sorted(scores.keys())\r\n",
        "LR_accuracy = scores['test_accuracy'].mean()\r\n",
        "LR_precision = scores['test_precision_macro'].mean()\r\n",
        "LR_recall = scores['test_recall_macro'].mean()\r\n",
        "LR_f1 = scores['test_f1_weighted'].mean()\r\n",
        "LR_roc = scores['test_roc_auc'].mean()"
      ],
      "execution_count": null,
      "outputs": []
    },
    {
      "cell_type": "markdown",
      "metadata": {
        "id": "KIxBB1j7GDzA"
      },
      "source": [
        "### **Decision Tree**"
      ]
    },
    {
      "cell_type": "code",
      "metadata": {
        "id": "axadyetm_o8Y"
      },
      "source": [
        "decision_tree = DecisionTreeClassifier()\r\n",
        "\r\n",
        "scoring = ['accuracy', 'precision_macro', 'recall_macro' , 'f1_weighted', 'roc_auc']\r\n",
        "scores = cross_validate(decision_tree, X_train, y_train, scoring=scoring, cv=20)\r\n",
        "\r\n",
        "sorted(scores.keys())\r\n",
        "dtree_accuracy = scores['test_accuracy'].mean()\r\n",
        "dtree_precision = scores['test_precision_macro'].mean()\r\n",
        "dtree_recall = scores['test_recall_macro'].mean()\r\n",
        "dtree_f1 = scores['test_f1_weighted'].mean()\r\n",
        "dtree_roc = scores['test_roc_auc'].mean()"
      ],
      "execution_count": null,
      "outputs": []
    },
    {
      "cell_type": "markdown",
      "metadata": {
        "id": "pqb1RebeGGvD"
      },
      "source": [
        "### **SVM**"
      ]
    },
    {
      "cell_type": "code",
      "metadata": {
        "id": "l6BMe15R_o_A"
      },
      "source": [
        "SVM = SVC(probability = True)\r\n",
        "\r\n",
        "scoring = ['accuracy','precision_macro', 'recall_macro' , 'f1_weighted', 'roc_auc']\r\n",
        "scores = cross_validate(SVM, X_train, y_train, scoring=scoring, cv=20)\r\n",
        "\r\n",
        "sorted(scores.keys())\r\n",
        "SVM_accuracy = scores['test_accuracy'].mean()\r\n",
        "SVM_precision = scores['test_precision_macro'].mean()\r\n",
        "SVM_recall = scores['test_recall_macro'].mean()\r\n",
        "SVM_f1 = scores['test_f1_weighted'].mean()\r\n",
        "SVM_roc = scores['test_roc_auc'].mean()"
      ],
      "execution_count": null,
      "outputs": []
    },
    {
      "cell_type": "markdown",
      "metadata": {
        "id": "bUI0dJQNGNQr"
      },
      "source": [
        "### **Linear Discriminant Analysis**"
      ]
    },
    {
      "cell_type": "code",
      "metadata": {
        "id": "Zk6en26W_pBK"
      },
      "source": [
        "LDA = LinearDiscriminantAnalysis()\r\n",
        "\r\n",
        "scoring = ['accuracy', 'precision_macro', 'recall_macro' , 'f1_weighted', 'roc_auc']\r\n",
        "scores = cross_validate(LDA, X_train, y_train, scoring=scoring, cv=20)\r\n",
        "\r\n",
        "sorted(scores.keys())\r\n",
        "LDA_accuracy = scores['test_accuracy'].mean()\r\n",
        "LDA_precision = scores['test_precision_macro'].mean()\r\n",
        "LDA_recall = scores['test_recall_macro'].mean()\r\n",
        "LDA_f1 = scores['test_f1_weighted'].mean()\r\n",
        "LDA_roc = scores['test_roc_auc'].mean()"
      ],
      "execution_count": null,
      "outputs": []
    },
    {
      "cell_type": "markdown",
      "metadata": {
        "id": "rF8xEjThGRwa"
      },
      "source": [
        "### **Quadratic Discriminant Analysis**"
      ]
    },
    {
      "cell_type": "code",
      "metadata": {
        "id": "Nhbx0Lcq_pDh"
      },
      "source": [
        "QDA = QuadraticDiscriminantAnalysis()\r\n",
        "\r\n",
        "scoring = ['accuracy', 'precision_macro', 'recall_macro' , 'f1_weighted', 'roc_auc']\r\n",
        "scores = cross_validate(QDA, X_train, y_train, scoring=scoring, cv=20)\r\n",
        "\r\n",
        "sorted(scores.keys())\r\n",
        "QDA_accuracy = scores['test_accuracy'].mean()\r\n",
        "QDA_precision = scores['test_precision_macro'].mean()\r\n",
        "QDA_recall = scores['test_recall_macro'].mean()\r\n",
        "QDA_f1 = scores['test_f1_weighted'].mean()\r\n",
        "QDA_roc = scores['test_roc_auc'].mean()"
      ],
      "execution_count": null,
      "outputs": []
    },
    {
      "cell_type": "markdown",
      "metadata": {
        "id": "xde2BM_TGVTD"
      },
      "source": [
        "### **Random Forest**"
      ]
    },
    {
      "cell_type": "code",
      "metadata": {
        "id": "1jBJfMMy_pFp"
      },
      "source": [
        "random_forest = RandomForestClassifier()\r\n",
        "\r\n",
        "scoring = ['accuracy', 'precision_macro', 'recall_macro' , 'f1_weighted', 'roc_auc']\r\n",
        "scores = cross_validate(random_forest, X_train, y_train, scoring=scoring, cv=20)\r\n",
        "\r\n",
        "sorted(scores.keys())\r\n",
        "forest_accuracy = scores['test_accuracy'].mean()\r\n",
        "forest_precision = scores['test_precision_macro'].mean()\r\n",
        "forest_recall = scores['test_recall_macro'].mean()\r\n",
        "forest_f1 = scores['test_f1_weighted'].mean()\r\n",
        "forest_roc = scores['test_roc_auc'].mean()"
      ],
      "execution_count": null,
      "outputs": []
    },
    {
      "cell_type": "markdown",
      "metadata": {
        "id": "mebuFCRoGcid"
      },
      "source": [
        "### **K-Neighbors**"
      ]
    },
    {
      "cell_type": "code",
      "metadata": {
        "id": "dywlFLn3_pIC"
      },
      "source": [
        "KNN = KNeighborsClassifier()\r\n",
        "\r\n",
        "scoring = ['accuracy', 'precision_macro', 'recall_macro' , 'f1_weighted', 'roc_auc']\r\n",
        "scores = cross_validate(KNN, X_train, y_train, scoring=scoring, cv=20)\r\n",
        "\r\n",
        "sorted(scores.keys())\r\n",
        "KNN_accuracy = scores['test_accuracy'].mean()\r\n",
        "KNN_precision = scores['test_precision_macro'].mean()\r\n",
        "KNN_recall = scores['test_recall_macro'].mean()\r\n",
        "KNN_f1 = scores['test_f1_weighted'].mean()\r\n",
        "KNN_roc = scores['test_roc_auc'].mean()"
      ],
      "execution_count": null,
      "outputs": []
    },
    {
      "cell_type": "markdown",
      "metadata": {
        "id": "P8N79UmLGh3y"
      },
      "source": [
        "### **Gaussian Naive Bayes**"
      ]
    },
    {
      "cell_type": "code",
      "metadata": {
        "id": "TAcwrSAG_pKX"
      },
      "source": [
        "bayes = GaussianNB()\r\n",
        "\r\n",
        "scoring = ['accuracy', 'precision_macro', 'recall_macro' , 'f1_weighted', 'roc_auc']\r\n",
        "scores = cross_validate(bayes, X_train, y_train, scoring=scoring, cv=20)\r\n",
        "sorted(scores.keys())\r\n",
        "bayes_accuracy = scores['test_accuracy'].mean()\r\n",
        "bayes_precision = scores['test_precision_macro'].mean()\r\n",
        "bayes_recall = scores['test_recall_macro'].mean()\r\n",
        "bayes_f1 = scores['test_f1_weighted'].mean()\r\n",
        "bayes_roc = scores['test_roc_auc'].mean()"
      ],
      "execution_count": null,
      "outputs": []
    },
    {
      "cell_type": "markdown",
      "metadata": {
        "id": "Ge9KPwQVGqQu"
      },
      "source": [
        "### **Model Comparison**"
      ]
    },
    {
      "cell_type": "code",
      "metadata": {
        "colab": {
          "base_uri": "https://localhost:8080/",
          "height": 287
        },
        "id": "sUHr3iTK_pM_",
        "outputId": "48e01dc8-c85f-40b5-c64d-f8a0021a5f0e"
      },
      "source": [
        "models_compare = pd.DataFrame({\r\n",
        "    'Model'       : ['Logistic Regression', 'Decision Tree', 'Support Vector Machine', 'Linear Discriminant Analysis', 'Quadratic Discriminant Analysis', 'Random Forest', 'K-Nearest Neighbors', 'Bayes'],\r\n",
        "    'Accuracy'    : [LR_accuracy, dtree_accuracy, SVM_accuracy, LDA_accuracy, QDA_accuracy, forest_accuracy, KNN_accuracy, bayes_accuracy],\r\n",
        "    'Precision'   : [LR_precision, dtree_precision, SVM_precision, LDA_precision, QDA_precision, forest_precision, KNN_precision, bayes_precision],\r\n",
        "    'Recall'      : [LR_recall, dtree_recall, SVM_recall, LDA_recall, QDA_recall, forest_recall, KNN_recall, bayes_recall],\r\n",
        "    'F1_score'    : [LR_f1, dtree_f1, SVM_f1, LDA_f1, QDA_f1, forest_f1, KNN_f1, bayes_f1],\r\n",
        "    'AUC_ROC'     : [LR_roc, dtree_roc, SVM_roc, LDA_roc, QDA_roc, forest_roc, KNN_roc, bayes_roc],\r\n",
        "    }, columns = ['Model', 'Accuracy', 'Precision', 'Recall', 'F1_score', 'AUC_ROC'])\r\n",
        "\r\n",
        "models_initial.sort_values(by='Accuracy', ascending=False)"
      ],
      "execution_count": null,
      "outputs": [
        {
          "output_type": "execute_result",
          "data": {
            "text/html": [
              "<div>\n",
              "<style scoped>\n",
              "    .dataframe tbody tr th:only-of-type {\n",
              "        vertical-align: middle;\n",
              "    }\n",
              "\n",
              "    .dataframe tbody tr th {\n",
              "        vertical-align: top;\n",
              "    }\n",
              "\n",
              "    .dataframe thead th {\n",
              "        text-align: right;\n",
              "    }\n",
              "</style>\n",
              "<table border=\"1\" class=\"dataframe\">\n",
              "  <thead>\n",
              "    <tr style=\"text-align: right;\">\n",
              "      <th></th>\n",
              "      <th>Model</th>\n",
              "      <th>Fitting time</th>\n",
              "      <th>Scoring time</th>\n",
              "      <th>Accuracy</th>\n",
              "      <th>Precision</th>\n",
              "      <th>Recall</th>\n",
              "      <th>F1_score</th>\n",
              "      <th>AUC_ROC</th>\n",
              "    </tr>\n",
              "  </thead>\n",
              "  <tbody>\n",
              "    <tr>\n",
              "      <th>5</th>\n",
              "      <td>Random Forest</td>\n",
              "      <td>0.700315</td>\n",
              "      <td>0.026402</td>\n",
              "      <td>0.846528</td>\n",
              "      <td>0.702262</td>\n",
              "      <td>0.533696</td>\n",
              "      <td>0.794738</td>\n",
              "      <td>0.687638</td>\n",
              "    </tr>\n",
              "    <tr>\n",
              "      <th>3</th>\n",
              "      <td>Linear Discriminant Analysis</td>\n",
              "      <td>0.016826</td>\n",
              "      <td>0.007836</td>\n",
              "      <td>0.845486</td>\n",
              "      <td>0.667750</td>\n",
              "      <td>0.521370</td>\n",
              "      <td>0.787666</td>\n",
              "      <td>0.692667</td>\n",
              "    </tr>\n",
              "    <tr>\n",
              "      <th>2</th>\n",
              "      <td>Support Vector Machine</td>\n",
              "      <td>1.838469</td>\n",
              "      <td>0.023062</td>\n",
              "      <td>0.844792</td>\n",
              "      <td>0.422396</td>\n",
              "      <td>0.500000</td>\n",
              "      <td>0.773720</td>\n",
              "      <td>0.597506</td>\n",
              "    </tr>\n",
              "    <tr>\n",
              "      <th>0</th>\n",
              "      <td>Logistic Regression</td>\n",
              "      <td>0.038426</td>\n",
              "      <td>0.008252</td>\n",
              "      <td>0.843056</td>\n",
              "      <td>0.510242</td>\n",
              "      <td>0.502645</td>\n",
              "      <td>0.775375</td>\n",
              "      <td>0.697704</td>\n",
              "    </tr>\n",
              "    <tr>\n",
              "      <th>6</th>\n",
              "      <td>K-Nearest Neighbors</td>\n",
              "      <td>0.007037</td>\n",
              "      <td>0.028137</td>\n",
              "      <td>0.822917</td>\n",
              "      <td>0.581327</td>\n",
              "      <td>0.532849</td>\n",
              "      <td>0.786344</td>\n",
              "      <td>0.582184</td>\n",
              "    </tr>\n",
              "    <tr>\n",
              "      <th>4</th>\n",
              "      <td>Quadratic Discriminant Analysis</td>\n",
              "      <td>0.007251</td>\n",
              "      <td>0.007691</td>\n",
              "      <td>0.775694</td>\n",
              "      <td>0.587542</td>\n",
              "      <td>0.590320</td>\n",
              "      <td>0.779260</td>\n",
              "      <td>0.655692</td>\n",
              "    </tr>\n",
              "    <tr>\n",
              "      <th>1</th>\n",
              "      <td>Decision Tree</td>\n",
              "      <td>0.041543</td>\n",
              "      <td>0.005535</td>\n",
              "      <td>0.757292</td>\n",
              "      <td>0.556439</td>\n",
              "      <td>0.562317</td>\n",
              "      <td>0.762298</td>\n",
              "      <td>0.562317</td>\n",
              "    </tr>\n",
              "    <tr>\n",
              "      <th>7</th>\n",
              "      <td>Bayes</td>\n",
              "      <td>0.003104</td>\n",
              "      <td>0.005663</td>\n",
              "      <td>0.600694</td>\n",
              "      <td>0.563796</td>\n",
              "      <td>0.618643</td>\n",
              "      <td>0.654710</td>\n",
              "      <td>0.676532</td>\n",
              "    </tr>\n",
              "  </tbody>\n",
              "</table>\n",
              "</div>"
            ],
            "text/plain": [
              "                             Model  Fitting time  ...  F1_score   AUC_ROC\n",
              "5                    Random Forest      0.700315  ...  0.794738  0.687638\n",
              "3     Linear Discriminant Analysis      0.016826  ...  0.787666  0.692667\n",
              "2           Support Vector Machine      1.838469  ...  0.773720  0.597506\n",
              "0              Logistic Regression      0.038426  ...  0.775375  0.697704\n",
              "6              K-Nearest Neighbors      0.007037  ...  0.786344  0.582184\n",
              "4  Quadratic Discriminant Analysis      0.007251  ...  0.779260  0.655692\n",
              "1                    Decision Tree      0.041543  ...  0.762298  0.562317\n",
              "7                            Bayes      0.003104  ...  0.654710  0.676532\n",
              "\n",
              "[8 rows x 8 columns]"
            ]
          },
          "metadata": {
            "tags": []
          },
          "execution_count": 124
        }
      ]
    },
    {
      "cell_type": "markdown",
      "metadata": {
        "id": "m7cpF8t_N63A"
      },
      "source": [
        "## **Conclusion:**"
      ]
    },
    {
      "cell_type": "markdown",
      "metadata": {
        "id": "r_pyqybUN63A"
      },
      "source": [
        "It would seem that Logistic Regression, Linear Discriminant Analysis and Random Forrest will produce the best result. However, given that Model 2 in Experiment 1 had a ROC AUC of 0.70242 and accuracy of 0.82, this is not a very strong argument for the use of one of these models."
      ]
    },
    {
      "cell_type": "markdown",
      "metadata": {
        "id": "kRkjAsOjNpmt"
      },
      "source": [
        "# **Experiment 3: Optimised XGB Versus Optimised Light GBM**"
      ]
    },
    {
      "cell_type": "markdown",
      "metadata": {
        "id": "6hwREFd9NpnG"
      },
      "source": [
        "**Summary:**\r\n",
        "\r\n",
        "In previous experiments, I have trained and run XGBoost models, tweaking the data (dimensionality reduction/feature engineering), and the hyperparameters to best suit the data. The best result has been an AUC of 0.726, which translated to 0.685 when submitted in Kaggle. \r\n",
        "\r\n",
        "This week, I have also tried to compare all popular binary classification models to the best of XGBoost, to no success.\r\n",
        "\r\n",
        "This experiment will be to compare One more model: LightGBM, with a set of optimised hyperparameters for both it and a comparative XGBoost model. This will be done by defining a class that iterates through predictions assessing them by a specified loss function (mean ROC AUC). Last week I tried this using hyperopt, with almost neutral value. \r\n",
        "\r\n",
        "**Objective:**\r\n",
        "\r\n",
        "Attempt to beat the highest AUC of 0.726, with this optimised LightGBM or XGBoost model.\r\n"
      ]
    },
    {
      "cell_type": "markdown",
      "metadata": {
        "id": "1w539anqNpnG"
      },
      "source": [
        "## **Import Packages**"
      ]
    },
    {
      "cell_type": "code",
      "metadata": {
        "id": "5Zrg4xARwUqN"
      },
      "source": [
        "from hyperopt import hp\r\n",
        "import numpy as np\r\n",
        "from sklearn.metrics import roc_auc_score\r\n",
        "\r\n",
        "import lightgbm as lgb\r\n",
        "import xgboost as xgb\r\n",
        "from hyperopt import fmin, tpe, STATUS_OK, STATUS_FAIL, Trials"
      ],
      "execution_count": null,
      "outputs": []
    },
    {
      "cell_type": "markdown",
      "metadata": {
        "id": "bd37ACbLwV3G"
      },
      "source": [
        "## **Define Data Objects**"
      ]
    },
    {
      "cell_type": "code",
      "metadata": {
        "id": "PbL3A5dfWh3y"
      },
      "source": [
        "train_data = pd.read_csv('/content/kaggle/train.csv')\r\n",
        "test_data = pd.read_csv('/content/kaggle/test.csv')\r\n",
        "\r\n",
        "train_data_x = train_data.copy()\r\n",
        "train_data_x = train_data_x.drop(['Id_old', 'Id'], axis=1)\r\n",
        "train_data_target = train_data_x.pop('TARGET_5Yrs')\r\n",
        "\r\n",
        "test_data_x = test_data.drop(['Id_old', 'Id'], axis=1)\r\n",
        "\r\n",
        "scaler = MinMaxScaler()\r\n",
        "df_train_scaled = pd.DataFrame(scaler.fit_transform(train_data_x), columns=train_data_x.columns)\r\n",
        "\r\n",
        "X_data, X_test, y_data, y_test = train_test_split(df_train_scaled, train_data_target, test_size=0.2, random_state=42)\r\n",
        "X_train, X_val, y_train, y_val = train_test_split(X_data, y_data, test_size=0.2, random_state=42)"
      ],
      "execution_count": null,
      "outputs": []
    },
    {
      "cell_type": "markdown",
      "metadata": {
        "id": "AALP2sJVwK0F"
      },
      "source": [
        "## **Define Search Space and Loss Functions**"
      ]
    },
    {
      "cell_type": "markdown",
      "metadata": {
        "id": "wlkW2w3U7TE_"
      },
      "source": [
        "Create a dictionary with parameters and a loss function for use in calculation class. "
      ]
    },
    {
      "cell_type": "code",
      "metadata": {
        "id": "JNkjzVGqXeaN"
      },
      "source": [
        "# XGB parameters\r\n",
        "xgb_reg_params = {\r\n",
        "    'learning_rate':    hp.choice('learning_rate',    np.arange(0.05, 0.31, 0.9)),\r\n",
        "    'max_depth':        hp.choice('max_depth',        np.arange(5, 16, 1, dtype=int)),\r\n",
        "    'min_child_weight': hp.choice('min_child_weight', np.arange(1, 8, 1, dtype=int)),\r\n",
        "    'colsample_bytree': hp.choice('colsample_bytree', np.arange(0.3, 0.8, 0.1)),\r\n",
        "    'subsample':        hp.uniform('subsample', 0.8, 1),\r\n",
        "    'n_estimators':     100,\r\n",
        "}\r\n",
        "xgb_fit_params = {\r\n",
        "    'eval_metric': 'auc',\r\n",
        "    'early_stopping_rounds': 10,\r\n",
        "    'verbose': False\r\n",
        "}\r\n",
        "xgb_para = dict()\r\n",
        "xgb_para['reg_params'] = xgb_reg_params\r\n",
        "xgb_para['fit_params'] = xgb_fit_params\r\n",
        "xgb_para['loss_func' ] = lambda y, pred: np.mean(roc_auc_score(y, pred))\r\n",
        "\r\n",
        "\r\n",
        "# LightGBM parameters\r\n",
        "lgb_reg_params = {\r\n",
        "    'learning_rate':    hp.choice('learning_rate',    np.arange(0.05, 0.31, 0.05)),\r\n",
        "    'max_depth':        hp.choice('max_depth',        np.arange(5, 16, 1, dtype=int)),\r\n",
        "    'min_child_weight': hp.choice('min_child_weight', np.arange(1, 8, 1, dtype=int)),\r\n",
        "    'colsample_bytree': hp.choice('colsample_bytree', np.arange(0.3, 0.8, 0.1)),\r\n",
        "    'subsample':        hp.uniform('subsample', 0.8, 1),\r\n",
        "    'n_estimators':     100,\r\n",
        "}\r\n",
        "lgb_fit_params = {\r\n",
        "    'eval_metric': 'l2',\r\n",
        "    'early_stopping_rounds': 10,\r\n",
        "    'verbose': False\r\n",
        "}\r\n",
        "lgb_para = dict()\r\n",
        "lgb_para['reg_params'] = lgb_reg_params\r\n",
        "lgb_para['fit_params'] = lgb_fit_params\r\n",
        "lgb_para['loss_func' ] = lambda y, pred: np.mean(roc_auc_score(y, pred))"
      ],
      "execution_count": null,
      "outputs": []
    },
    {
      "cell_type": "markdown",
      "metadata": {
        "id": "ySOTFc8owg9H"
      },
      "source": [
        "## **Define Calculation Class**"
      ]
    },
    {
      "cell_type": "code",
      "metadata": {
        "id": "svSLlnXLWh6G"
      },
      "source": [
        "class HPOpt(object):\r\n",
        "\r\n",
        "    def __init__(self, X_train, X_test, y_train, y_test):\r\n",
        "        self.x_train = X_train\r\n",
        "        self.x_test  = X_test\r\n",
        "        self.y_train = y_train\r\n",
        "        self.y_test  = y_test\r\n",
        "\r\n",
        "    def process(self, fn_name, space, trials, algo, max_evals):\r\n",
        "        fn = getattr(self, fn_name)\r\n",
        "        try:\r\n",
        "            result = fmin(fn=fn, space=space, algo=algo, max_evals=max_evals, trials=trials)\r\n",
        "        except Exception as e:\r\n",
        "            return {'status': STATUS_FAIL,\r\n",
        "                    'exception': str(e)}\r\n",
        "        return result, trials\r\n",
        "\r\n",
        "    def xgb_reg(self, para):\r\n",
        "        reg = xgb.XGBClassifier(**para['reg_params'])\r\n",
        "        return self.train_reg(reg, para)\r\n",
        "\r\n",
        "    def lgb_reg(self, para):\r\n",
        "        reg = lgb.LGBMClassifier(**para['reg_params'])\r\n",
        "        return self.train_reg(reg, para)\r\n",
        "\r\n",
        "    def train_reg(self, reg, para):\r\n",
        "        reg.fit(self.x_train, self.y_train,\r\n",
        "                eval_set=[(self.x_train, self.y_train), (self.x_test, self.y_test)],\r\n",
        "                **para['fit_params'])\r\n",
        "        pred = reg.predict(self.x_test)\r\n",
        "        loss = para['loss_func'](self.y_test, pred)\r\n",
        "        return {'loss': loss, 'status': STATUS_OK}"
      ],
      "execution_count": null,
      "outputs": []
    },
    {
      "cell_type": "markdown",
      "metadata": {
        "id": "kHariAosw_v2"
      },
      "source": [
        "## **Caclulate Optimal Hyperparameters**"
      ]
    },
    {
      "cell_type": "code",
      "metadata": {
        "colab": {
          "base_uri": "https://localhost:8080/"
        },
        "id": "6kTeaiOZWh8f",
        "outputId": "c59ffff3-e111-4831-956c-c4d11006a0e2"
      },
      "source": [
        "obj = HPOpt(X_train, X_test, y_train, y_test)\r\n",
        "\r\n",
        "xgb_opt = obj.process(fn_name='xgb_reg', space=xgb_para, trials=Trials(), algo=tpe.suggest, max_evals=100)\r\n",
        "lgb_opt = obj.process(fn_name='lgb_reg', space=lgb_para, trials=Trials(), algo=tpe.suggest, max_evals=100)"
      ],
      "execution_count": null,
      "outputs": [
        {
          "output_type": "stream",
          "text": [
            "100%|██████████| 100/100 [00:43<00:00,  2.28it/s, best loss: 0.5019324234780209]\n",
            "100%|██████████| 100/100 [00:10<00:00,  9.82it/s, best loss: 0.5011531975280906]\n"
          ],
          "name": "stdout"
        }
      ]
    },
    {
      "cell_type": "code",
      "metadata": {
        "colab": {
          "base_uri": "https://localhost:8080/"
        },
        "id": "gh7J9gVPWh-n",
        "outputId": "0117f0d8-cec6-4cb9-a987-eb39858a7f45"
      },
      "source": [
        "xgb_opt"
      ],
      "execution_count": null,
      "outputs": [
        {
          "output_type": "execute_result",
          "data": {
            "text/plain": [
              "({'colsample_bytree': 1,\n",
              "  'learning_rate': 0,\n",
              "  'max_depth': 10,\n",
              "  'min_child_weight': 6,\n",
              "  'subsample': 0.8373798269697786},\n",
              " <hyperopt.base.Trials at 0x7f45bb82a2b0>)"
            ]
          },
          "metadata": {
            "tags": []
          },
          "execution_count": 323
        }
      ]
    },
    {
      "cell_type": "code",
      "metadata": {
        "colab": {
          "base_uri": "https://localhost:8080/"
        },
        "id": "t9S1MTUkv9UP",
        "outputId": "d4eb9b40-ad30-4578-d1d7-b4bf1b988261"
      },
      "source": [
        "lgb_opt"
      ],
      "execution_count": null,
      "outputs": [
        {
          "output_type": "execute_result",
          "data": {
            "text/plain": [
              "({'colsample_bytree': 4,\n",
              "  'learning_rate': 1,\n",
              "  'max_depth': 5,\n",
              "  'min_child_weight': 6,\n",
              "  'subsample': 0.832057919013642},\n",
              " <hyperopt.base.Trials at 0x7f45bb5c3a90>)"
            ]
          },
          "metadata": {
            "tags": []
          },
          "execution_count": 311
        }
      ]
    },
    {
      "cell_type": "markdown",
      "metadata": {
        "id": "tA2T3VDBxEdW"
      },
      "source": [
        "## **Fit Models With Optimal Hyperparameters**"
      ]
    },
    {
      "cell_type": "markdown",
      "metadata": {
        "id": "hDqdy17pxKbS"
      },
      "source": [
        "### **XG Boost**"
      ]
    },
    {
      "cell_type": "markdown",
      "metadata": {
        "id": "On2My4_58AIk"
      },
      "source": [
        "Learning rate looks rounded. Using small figure close to 0."
      ]
    },
    {
      "cell_type": "code",
      "metadata": {
        "colab": {
          "base_uri": "https://localhost:8080/"
        },
        "id": "BaSMELdjaGnw",
        "outputId": "7f39ce5a-3f79-4961-987a-483103b3024c"
      },
      "source": [
        "xgb_clf = XGBClassifier(learning_rate=0.0000001,\r\n",
        "                        eval_metric='auc',\r\n",
        "                        colsample_bytree=1,\r\n",
        "                        max_depth=10,\r\n",
        "                        min_child_weight=6,\r\n",
        "                        subsample=0.8373798269697786,\r\n",
        "                      ).fit(X_train, y_train)\r\n",
        "\r\n",
        "roc_auc_score(y_val, xgb_clf.predict_proba(X_val)[:,1])"
      ],
      "execution_count": null,
      "outputs": [
        {
          "output_type": "execute_result",
          "data": {
            "text/plain": [
              "0.7156990545714011"
            ]
          },
          "metadata": {
            "tags": []
          },
          "execution_count": 388
        }
      ]
    },
    {
      "cell_type": "markdown",
      "metadata": {
        "id": "EBUibMJq1N_6"
      },
      "source": [
        "### **Light GBM**"
      ]
    },
    {
      "cell_type": "code",
      "metadata": {
        "colab": {
          "base_uri": "https://localhost:8080/"
        },
        "id": "49u8Hkd6sS1h",
        "outputId": "336967ba-79ed-40b2-bbab-caaf0bceb594"
      },
      "source": [
        "lgb_model = lgb.LGBMClassifier(colsample_bytree=1.0,\r\n",
        "                               learning_rate=1,\r\n",
        "                               max_depth=5,\r\n",
        "                               min_child_weight=6,\r\n",
        "                               subsample=0.832057919013642,\r\n",
        "                                ).fit(X_train, y_train)\r\n",
        "roc_auc_score(y_val, lgb_model.predict_proba(X_val)[:,1])"
      ],
      "execution_count": null,
      "outputs": [
        {
          "output_type": "execute_result",
          "data": {
            "text/plain": [
              "0.612621265968687"
            ]
          },
          "metadata": {
            "tags": []
          },
          "execution_count": 389
        }
      ]
    },
    {
      "cell_type": "markdown",
      "metadata": {
        "id": "5QZj1ZYv_mLq"
      },
      "source": [
        "## **Conclusion**"
      ]
    },
    {
      "cell_type": "markdown",
      "metadata": {
        "id": "KVfIUJT7_qMc"
      },
      "source": [
        "Once again, the XGBoost model outperforms a model that arguably could  do better than it in this scenario. These parameters are quire diferent to those obtained by hyperopt, as they use different algorithms to optimise. However, they are quite close (this week=0.715, hyperopt=0.716)."
      ]
    }
  ]
}